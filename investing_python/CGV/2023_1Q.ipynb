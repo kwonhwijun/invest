{
 "cells": [
  {
   "attachments": {},
   "cell_type": "markdown",
   "metadata": {},
   "source": [
    "CGV 1분기 실적 예측하기"
   ]
  },
  {
   "attachments": {},
   "cell_type": "markdown",
   "metadata": {},
   "source": [
    "### 데이터 만들기"
   ]
  },
  {
   "cell_type": "code",
   "execution_count": 2,
   "metadata": {},
   "outputs": [],
   "source": [
    "import pandas as pd\n",
    "import numpy as np\n",
    "import matplotlib.pyplot as plt"
   ]
  },
  {
   "cell_type": "code",
   "execution_count": 3,
   "metadata": {},
   "outputs": [],
   "source": [
    "cinema = pd.DataFrame({\n",
    "    '2022_4Q' : [341, 42.7, 1.4, 234, 491.3, 226.2],\n",
    "    '2022_3Q' : [516, 85, 2.2, 200, 195, 107],\n",
    "    '2022_2Q' : [234, 32, 1, 146, 223, 121],\n",
    "    '2022_1Q' : [656, 140, 3, 273, 439, 202],\n",
    "    '2021_4Q' : [707, 121.6, 3.4, 220, 199.7, 104.2],\n",
    "    '2021_3Q' : [512, 73, 2.0, 127, 85, 50],\n",
    "    '2021_2Q' : [656, 94.7, 3.0, 2, 0, 0 ], \n",
    "    '2021_1Q' : [908, 181, 4.7, 3, 0, 0],\n",
    "\n",
    "})\n",
    "# 2023 1Q\n",
    "# 중국 Box Office = 158.5억 위안 , https://www.thepaper.cn/newsDetail_forward_22610841\n",
    "# 터키 Box Office = 637(백만리라), https://www.boxofficemojo.com/year/?area=TR\n",
    "\n",
    "cinema.index = [\"CGV China Revenue(억 원)\", \"China Box Office(억 위안)\", \"CGV China Box Office(억 위안)\", \"CGV Turite Revenue(억 원)\", \"Turkiye Box Office(백만 리라)\", \"CGV Turkiye Box Office(백만 리라)\"]\n",
    "cinema.loc[\"Year\"] = [i[:4] for i in cinema.columns.tolist()]"
   ]
  },
  {
   "cell_type": "code",
   "execution_count": 4,
   "metadata": {},
   "outputs": [
    {
     "name": "stdout",
     "output_type": "stream",
     "text": [
      "                              2022_4Q 2022_3Q 2022_2Q 2022_1Q 2021_4Q 2021_3Q  \\\n",
      "CGV China Revenue(억 원)          341.0   516.0     234     656   707.0   512.0   \n",
      "China Box Office(억 위안)           42.7    85.0      32     140   121.6    73.0   \n",
      "CGV China Box Office(억 위안)        1.4     2.2       1       3     3.4     2.0   \n",
      "CGV Turite Revenue(억 원)         234.0   200.0     146     273   220.0   127.0   \n",
      "Turkiye Box Office(백만 리라)       491.3   195.0     223     439   199.7    85.0   \n",
      "CGV Turkiye Box Office(백만 리라)   226.2   107.0     121     202   104.2    50.0   \n",
      "Year                             2022    2022    2022    2022    2021    2021   \n",
      "\n",
      "                              2021_2Q 2021_1Q  \n",
      "CGV China Revenue(억 원)          656.0   908.0  \n",
      "China Box Office(억 위안)           94.7   181.0  \n",
      "CGV China Box Office(억 위안)        3.0     4.7  \n",
      "CGV Turite Revenue(억 원)           2.0     3.0  \n",
      "Turkiye Box Office(백만 리라)         0.0     0.0  \n",
      "CGV Turkiye Box Office(백만 리라)     0.0     0.0  \n",
      "Year                             2021    2021  \n"
     ]
    }
   ],
   "source": [
    "print(cinema)"
   ]
  },
  {
   "attachments": {},
   "cell_type": "markdown",
   "metadata": {},
   "source": [
    "### CGV 점유율 계산하기"
   ]
  },
  {
   "cell_type": "code",
   "execution_count": 6,
   "metadata": {},
   "outputs": [],
   "source": [
    "#cinema_share = cinema.copy()\n",
    "\n",
    "#cinema_share.loc[\"CGV CHINA Market Share\"] = cinema.loc[\"China CGV REVENUE\"] / cinema.loc[\"China Box Office\"]\n",
    "#cinema_share.loc[\"CGV TURKEY Market Share\"] = cinema.loc[\"Turkiye CGV Revenue\"] / cinema.loc[\"Turkiye Box office\"]\n"
   ]
  },
  {
   "attachments": {},
   "cell_type": "markdown",
   "metadata": {},
   "source": [
    "### 연간 데이터 만들기"
   ]
  },
  {
   "cell_type": "code",
   "execution_count": 8,
   "metadata": {},
   "outputs": [],
   "source": [
    "cinema_year = pd.DataFrame()\n",
    "year = [\"2021\", \"2022\"]\n",
    "for i in year :\n",
    "    cinema_year[i] = cinema[cinema.columns[cinema.eq(i).any()].tolist()].drop([\"Year\"]).sum(axis=1)"
   ]
  },
  {
   "cell_type": "code",
   "execution_count": 9,
   "metadata": {},
   "outputs": [],
   "source": [
    "cinema_year[\"2023_1Q\"] = [0, 158,0, 0,637,0]"
   ]
  },
  {
   "cell_type": "code",
   "execution_count": 102,
   "metadata": {},
   "outputs": [
    {
     "name": "stdout",
     "output_type": "stream",
     "text": [
      "[True, True, True, True, False, False, False, False, False, False, False, False, False, False, False, False]\n"
     ]
    }
   ],
   "source": [
    "list = []\n",
    "dict = {}\n",
    "for year in range(2019, 2023) :\n",
    "    list = []\n",
    "    for time in CGV_china.columns :\n",
    "        if str(year) in time :\n",
    "            list.append(1)\n",
    "        else : list.append(0)\n",
    "    dict[f'str(year)']"
   ]
  },
  {
   "cell_type": "code",
   "execution_count": 105,
   "metadata": {},
   "outputs": [
    {
     "ename": "TypeError",
     "evalue": "'list' object is not callable",
     "output_type": "error",
     "traceback": [
      "\u001b[1;31m---------------------------------------------------------------------------\u001b[0m",
      "\u001b[1;31mTypeError\u001b[0m                                 Traceback (most recent call last)",
      "Cell \u001b[1;32mIn[105], line 7\u001b[0m\n\u001b[0;32m      4\u001b[0m         \u001b[39mlist\u001b[39m\u001b[39m.\u001b[39mappend(\u001b[39m1\u001b[39m)\n\u001b[0;32m      5\u001b[0m     \u001b[39melse\u001b[39;00m : \u001b[39mlist\u001b[39m\u001b[39m.\u001b[39mappend(\u001b[39m0\u001b[39m)\n\u001b[1;32m----> 7\u001b[0m \u001b[39mbool\u001b[39m \u001b[39m=\u001b[39m [\u001b[39mbool\u001b[39;49m(x) \u001b[39mfor\u001b[39;49;00m x \u001b[39min\u001b[39;49;00m \u001b[39mlist\u001b[39;49m]\n\u001b[0;32m      8\u001b[0m CGV_china\n",
      "Cell \u001b[1;32mIn[105], line 7\u001b[0m, in \u001b[0;36m<listcomp>\u001b[1;34m(.0)\u001b[0m\n\u001b[0;32m      4\u001b[0m         \u001b[39mlist\u001b[39m\u001b[39m.\u001b[39mappend(\u001b[39m1\u001b[39m)\n\u001b[0;32m      5\u001b[0m     \u001b[39melse\u001b[39;00m : \u001b[39mlist\u001b[39m\u001b[39m.\u001b[39mappend(\u001b[39m0\u001b[39m)\n\u001b[1;32m----> 7\u001b[0m \u001b[39mbool\u001b[39m \u001b[39m=\u001b[39m [\u001b[39mbool\u001b[39;49m(x) \u001b[39mfor\u001b[39;00m x \u001b[39min\u001b[39;00m \u001b[39mlist\u001b[39m]\n\u001b[0;32m      8\u001b[0m CGV_china\n",
      "\u001b[1;31mTypeError\u001b[0m: 'list' object is not callable"
     ]
    }
   ],
   "source": [
    "list = []\n",
    "for time in CGV_china.columns :\n",
    "    if str(2022) in time :\n",
    "        list.append(1)\n",
    "    else : list.append(0)\n",
    "print()\n",
    "bool = [bool(x) for x in list]\n",
    "CGV_china"
   ]
  },
  {
   "cell_type": "code",
   "execution_count": 99,
   "metadata": {},
   "outputs": [
    {
     "name": "stdout",
     "output_type": "stream",
     "text": [
      "True\n",
      "True\n",
      "False\n",
      "True\n"
     ]
    }
   ],
   "source": [
    "my_list = ['apple', 'banana', 'cherry', 'orange']\n",
    "char = 'a'\n",
    "\n",
    "for item in my_list:\n",
    "    if char in item:\n",
    "        print(True)\n",
    "    else:\n",
    "        print(False)"
   ]
  },
  {
   "cell_type": "code",
   "execution_count": 10,
   "metadata": {},
   "outputs": [
    {
     "name": "stdout",
     "output_type": "stream",
     "text": [
      "                                 2021    2022  2023_1Q\n",
      "CGV China Revenue(억 원)         2783.0  1747.0        0\n",
      "China Box Office(억 위안)          470.3   299.7      158\n",
      "CGV China Box Office(억 위안)       13.1     7.6        0\n",
      "CGV Turite Revenue(억 원)         352.0   853.0        0\n",
      "Turkiye Box Office(백만 리라)       284.7  1348.3      637\n",
      "CGV Turkiye Box Office(백만 리라)   154.2   656.2        0\n"
     ]
    }
   ],
   "source": [
    "print(cinema_year)"
   ]
  },
  {
   "cell_type": "code",
   "execution_count": 22,
   "metadata": {},
   "outputs": [
    {
     "data": {
      "text/plain": [
       "2021202000000000.0"
      ]
     },
     "execution_count": 22,
     "metadata": {},
     "output_type": "execute_result"
    }
   ],
   "source": [
    "2.021202e+15"
   ]
  },
  {
   "attachments": {},
   "cell_type": "markdown",
   "metadata": {},
   "source": [
    "### 중국"
   ]
  },
  {
   "cell_type": "code",
   "execution_count": 32,
   "metadata": {},
   "outputs": [],
   "source": [
    "cinema_china = cinema.loc[[\"CGV China Revenue(억 원)\", \"China Box Office(억 위안)\", \"CGV China Box Office(억 위안)\"]]\n",
    "cinema_china.loc[\"China Box Office(억 원)\"] = cinema_china.loc[\"China Box Office(억 위안)\"] * 192 \n",
    "cinema_china.loc[\"CGV China Box Office(억 원)\"] = cinema_china.loc[\"CGV China Box Office(억 위안)\"] * 192 "
   ]
  },
  {
   "cell_type": "code",
   "execution_count": 35,
   "metadata": {},
   "outputs": [
    {
     "name": "stdout",
     "output_type": "stream",
     "text": [
      "                           2022_4Q  2022_3Q 2022_2Q 2022_1Q  2021_4Q  2021_3Q  \\\n",
      "CGV China Revenue(억 원)       341.0    516.0     234     656    707.0    512.0   \n",
      "China Box Office(억 위안)        42.7     85.0      32     140    121.6     73.0   \n",
      "CGV China Box Office(억 위안)     1.4      2.2       1       3      3.4      2.0   \n",
      "China Box Office(억 원)       8198.4  16320.0    6144   26880  23347.2  14016.0   \n",
      "CGV China Box Office(억 원)    268.8    422.4     192     576    652.8    384.0   \n",
      "\n",
      "                            2021_2Q  2021_1Q  \n",
      "CGV China Revenue(억 원)        656.0    908.0  \n",
      "China Box Office(억 위안)         94.7    181.0  \n",
      "CGV China Box Office(억 위안)      3.0      4.7  \n",
      "China Box Office(억 원)       18182.4  34752.0  \n",
      "CGV China Box Office(억 원)     576.0    902.4  \n"
     ]
    }
   ],
   "source": [
    "print(cinema_china)"
   ]
  },
  {
   "cell_type": "code",
   "execution_count": 19,
   "metadata": {},
   "outputs": [],
   "source": [
    "import matplotlib as matplotlib\n",
    "matplotlib.rcParams['font.family'] ='Malgun Gothic'\n",
    "\n",
    "matplotlib.rcParams['axes.unicode_minus'] =False"
   ]
  },
  {
   "cell_type": "code",
   "execution_count": 36,
   "metadata": {},
   "outputs": [
    {
     "data": {
      "text/plain": [
       "<matplotlib.legend.Legend at 0x250b8b47410>"
      ]
     },
     "execution_count": 36,
     "metadata": {},
     "output_type": "execute_result"
    },
    {
     "data": {
      "image/png": "[encoded data removed]",
      "text/plain": [
       "<Figure size 1000x500 with 1 Axes>"
      ]
     },
     "metadata": {},
     "output_type": "display_data"
    }
   ],
   "source": [
    "time = cinema_china.columns.tolist()\n",
    "\n",
    "plt.figure(figsize = (10 ,5))\n",
    "plt.bar(time, cinema_china.loc[\"CGV China Revenue(억 원)\"], label = \"CGV China Revenue(억 원)\")\n",
    "plt.bar(time, cinema_china.loc[\"CGV China Box Office(억 원)\"], label = \"CGV China Box Office(억 원)\")\n",
    "plt.bar(time, cinema_china.loc[\"China Box Office(억 위안)\"], label = \"China Box Office(억 위안)\")\n",
    "plt.legend(ncol = 3)"
   ]
  },
  {
   "cell_type": "code",
   "execution_count": 65,
   "metadata": {},
   "outputs": [
    {
     "ename": "KeyError",
     "evalue": "'CGV CHINA Market Share'",
     "output_type": "error",
     "traceback": [
      "\u001b[1;31m---------------------------------------------------------------------------\u001b[0m",
      "\u001b[1;31mKeyError\u001b[0m                                  Traceback (most recent call last)",
      "File \u001b[1;32mc:\\Users\\HwijunKwon\\AppData\\Local\\Programs\\Python\\Python311\\Lib\\site-packages\\pandas\\core\\indexes\\base.py:3803\u001b[0m, in \u001b[0;36mIndex.get_loc\u001b[1;34m(self, key, method, tolerance)\u001b[0m\n\u001b[0;32m   3802\u001b[0m \u001b[39mtry\u001b[39;00m:\n\u001b[1;32m-> 3803\u001b[0m     \u001b[39mreturn\u001b[39;00m \u001b[39mself\u001b[39;49m\u001b[39m.\u001b[39;49m_engine\u001b[39m.\u001b[39;49mget_loc(casted_key)\n\u001b[0;32m   3804\u001b[0m \u001b[39mexcept\u001b[39;00m \u001b[39mKeyError\u001b[39;00m \u001b[39mas\u001b[39;00m err:\n",
      "File \u001b[1;32mc:\\Users\\HwijunKwon\\AppData\\Local\\Programs\\Python\\Python311\\Lib\\site-packages\\pandas\\_libs\\index.pyx:138\u001b[0m, in \u001b[0;36mpandas._libs.index.IndexEngine.get_loc\u001b[1;34m()\u001b[0m\n",
      "File \u001b[1;32mc:\\Users\\HwijunKwon\\AppData\\Local\\Programs\\Python\\Python311\\Lib\\site-packages\\pandas\\_libs\\index.pyx:165\u001b[0m, in \u001b[0;36mpandas._libs.index.IndexEngine.get_loc\u001b[1;34m()\u001b[0m\n",
      "File \u001b[1;32mpandas\\_libs\\hashtable_class_helper.pxi:5745\u001b[0m, in \u001b[0;36mpandas._libs.hashtable.PyObjectHashTable.get_item\u001b[1;34m()\u001b[0m\n",
      "File \u001b[1;32mpandas\\_libs\\hashtable_class_helper.pxi:5753\u001b[0m, in \u001b[0;36mpandas._libs.hashtable.PyObjectHashTable.get_item\u001b[1;34m()\u001b[0m\n",
      "\u001b[1;31mKeyError\u001b[0m: 'CGV CHINA Market Share'",
      "\nThe above exception was the direct cause of the following exception:\n",
      "\u001b[1;31mKeyError\u001b[0m                                  Traceback (most recent call last)",
      "Cell \u001b[1;32mIn[65], line 1\u001b[0m\n\u001b[1;32m----> 1\u001b[0m ms_cn \u001b[39m=\u001b[39m cinema\u001b[39m.\u001b[39;49mloc[\u001b[39m\"\u001b[39;49m\u001b[39mCGV CHINA Market Share\u001b[39;49m\u001b[39m\"\u001b[39;49m]\u001b[39m.\u001b[39mmean() \u001b[39m# 중국 박스오피스 대비 CGV 매출 점유율은 2.8%\u001b[39;00m\n",
      "File \u001b[1;32mc:\\Users\\HwijunKwon\\AppData\\Local\\Programs\\Python\\Python311\\Lib\\site-packages\\pandas\\core\\indexing.py:1073\u001b[0m, in \u001b[0;36m_LocationIndexer.__getitem__\u001b[1;34m(self, key)\u001b[0m\n\u001b[0;32m   1070\u001b[0m axis \u001b[39m=\u001b[39m \u001b[39mself\u001b[39m\u001b[39m.\u001b[39maxis \u001b[39mor\u001b[39;00m \u001b[39m0\u001b[39m\n\u001b[0;32m   1072\u001b[0m maybe_callable \u001b[39m=\u001b[39m com\u001b[39m.\u001b[39mapply_if_callable(key, \u001b[39mself\u001b[39m\u001b[39m.\u001b[39mobj)\n\u001b[1;32m-> 1073\u001b[0m \u001b[39mreturn\u001b[39;00m \u001b[39mself\u001b[39;49m\u001b[39m.\u001b[39;49m_getitem_axis(maybe_callable, axis\u001b[39m=\u001b[39;49maxis)\n",
      "File \u001b[1;32mc:\\Users\\HwijunKwon\\AppData\\Local\\Programs\\Python\\Python311\\Lib\\site-packages\\pandas\\core\\indexing.py:1312\u001b[0m, in \u001b[0;36m_LocIndexer._getitem_axis\u001b[1;34m(self, key, axis)\u001b[0m\n\u001b[0;32m   1310\u001b[0m \u001b[39m# fall thru to straight lookup\u001b[39;00m\n\u001b[0;32m   1311\u001b[0m \u001b[39mself\u001b[39m\u001b[39m.\u001b[39m_validate_key(key, axis)\n\u001b[1;32m-> 1312\u001b[0m \u001b[39mreturn\u001b[39;00m \u001b[39mself\u001b[39;49m\u001b[39m.\u001b[39;49m_get_label(key, axis\u001b[39m=\u001b[39;49maxis)\n",
      "File \u001b[1;32mc:\\Users\\HwijunKwon\\AppData\\Local\\Programs\\Python\\Python311\\Lib\\site-packages\\pandas\\core\\indexing.py:1260\u001b[0m, in \u001b[0;36m_LocIndexer._get_label\u001b[1;34m(self, label, axis)\u001b[0m\n\u001b[0;32m   1258\u001b[0m \u001b[39mdef\u001b[39;00m \u001b[39m_get_label\u001b[39m(\u001b[39mself\u001b[39m, label, axis: \u001b[39mint\u001b[39m):\n\u001b[0;32m   1259\u001b[0m     \u001b[39m# GH#5567 this will fail if the label is not present in the axis.\u001b[39;00m\n\u001b[1;32m-> 1260\u001b[0m     \u001b[39mreturn\u001b[39;00m \u001b[39mself\u001b[39;49m\u001b[39m.\u001b[39;49mobj\u001b[39m.\u001b[39;49mxs(label, axis\u001b[39m=\u001b[39;49maxis)\n",
      "File \u001b[1;32mc:\\Users\\HwijunKwon\\AppData\\Local\\Programs\\Python\\Python311\\Lib\\site-packages\\pandas\\core\\generic.py:4056\u001b[0m, in \u001b[0;36mNDFrame.xs\u001b[1;34m(self, key, axis, level, drop_level)\u001b[0m\n\u001b[0;32m   4054\u001b[0m             new_index \u001b[39m=\u001b[39m index[loc]\n\u001b[0;32m   4055\u001b[0m \u001b[39melse\u001b[39;00m:\n\u001b[1;32m-> 4056\u001b[0m     loc \u001b[39m=\u001b[39m index\u001b[39m.\u001b[39;49mget_loc(key)\n\u001b[0;32m   4058\u001b[0m     \u001b[39mif\u001b[39;00m \u001b[39misinstance\u001b[39m(loc, np\u001b[39m.\u001b[39mndarray):\n\u001b[0;32m   4059\u001b[0m         \u001b[39mif\u001b[39;00m loc\u001b[39m.\u001b[39mdtype \u001b[39m==\u001b[39m np\u001b[39m.\u001b[39mbool_:\n",
      "File \u001b[1;32mc:\\Users\\HwijunKwon\\AppData\\Local\\Programs\\Python\\Python311\\Lib\\site-packages\\pandas\\core\\indexes\\base.py:3805\u001b[0m, in \u001b[0;36mIndex.get_loc\u001b[1;34m(self, key, method, tolerance)\u001b[0m\n\u001b[0;32m   3803\u001b[0m     \u001b[39mreturn\u001b[39;00m \u001b[39mself\u001b[39m\u001b[39m.\u001b[39m_engine\u001b[39m.\u001b[39mget_loc(casted_key)\n\u001b[0;32m   3804\u001b[0m \u001b[39mexcept\u001b[39;00m \u001b[39mKeyError\u001b[39;00m \u001b[39mas\u001b[39;00m err:\n\u001b[1;32m-> 3805\u001b[0m     \u001b[39mraise\u001b[39;00m \u001b[39mKeyError\u001b[39;00m(key) \u001b[39mfrom\u001b[39;00m \u001b[39merr\u001b[39;00m\n\u001b[0;32m   3806\u001b[0m \u001b[39mexcept\u001b[39;00m \u001b[39mTypeError\u001b[39;00m:\n\u001b[0;32m   3807\u001b[0m     \u001b[39m# If we have a listlike key, _check_indexing_error will raise\u001b[39;00m\n\u001b[0;32m   3808\u001b[0m     \u001b[39m#  InvalidIndexError. Otherwise we fall through and re-raise\u001b[39;00m\n\u001b[0;32m   3809\u001b[0m     \u001b[39m#  the TypeError.\u001b[39;00m\n\u001b[0;32m   3810\u001b[0m     \u001b[39mself\u001b[39m\u001b[39m.\u001b[39m_check_indexing_error(key)\n",
      "\u001b[1;31mKeyError\u001b[0m: 'CGV CHINA Market Share'"
     ]
    }
   ],
   "source": [
    "ms_cn = cinema.loc[\"CGV CHINA Market Share\"].mean() # 중국 박스오피스 대비 CGV 매출 점유율은 2.8%"
   ]
  },
  {
   "cell_type": "code",
   "execution_count": 69,
   "metadata": {},
   "outputs": [],
   "source": [
    "cinema_2023 = pd.DataFrame({\n",
    "    \"2023_1Q\" : [158.5]    \n",
    "})\n",
    "\n",
    "cinema_2023.index = [\"China Box Office(억 위안)\"]"
   ]
  },
  {
   "cell_type": "code",
   "execution_count": 70,
   "metadata": {},
   "outputs": [],
   "source": [
    "cinema_2023.loc[\"China CGV Revenue(억 위안)\"] = cinema_2023.loc[\"China Box Office(억 위안)\"][\"2023_1Q\"] * 0.028"
   ]
  },
  {
   "cell_type": "code",
   "execution_count": 71,
   "metadata": {},
   "outputs": [
    {
     "name": "stdout",
     "output_type": "stream",
     "text": [
      "                         2023_1Q\n",
      "China Box Office(억 위안)   158.500\n",
      "China CGV Revenue(억 위안)    4.438\n"
     ]
    }
   ],
   "source": [
    "print(cinema_2023)"
   ]
  },
  {
   "cell_type": "code",
   "execution_count": 41,
   "metadata": {},
   "outputs": [
    {
     "data": {
      "text/html": [
       "<div>\n",
       "<style scoped>\n",
       "    .dataframe tbody tr th:only-of-type {\n",
       "        vertical-align: middle;\n",
       "    }\n",
       "\n",
       "    .dataframe tbody tr th {\n",
       "        vertical-align: top;\n",
       "    }\n",
       "\n",
       "    .dataframe thead th {\n",
       "        text-align: right;\n",
       "    }\n",
       "</style>\n",
       "<table border=\"1\" class=\"dataframe\">\n",
       "  <thead>\n",
       "    <tr style=\"text-align: right;\">\n",
       "      <th></th>\n",
       "      <th>name</th>\n",
       "      <th>age</th>\n",
       "    </tr>\n",
       "  </thead>\n",
       "  <tbody>\n",
       "    <tr>\n",
       "      <th>0</th>\n",
       "      <td>John</td>\n",
       "      <td>22</td>\n",
       "    </tr>\n",
       "    <tr>\n",
       "      <th>1</th>\n",
       "      <td>Paul</td>\n",
       "      <td>33</td>\n",
       "    </tr>\n",
       "    <tr>\n",
       "      <th>2</th>\n",
       "      <td>George</td>\n",
       "      <td>44</td>\n",
       "    </tr>\n",
       "  </tbody>\n",
       "</table>\n",
       "</div>"
      ],
      "text/plain": [
       "     name  age\n",
       "0    John   22\n",
       "1    Paul   33\n",
       "2  George   44"
      ]
     },
     "execution_count": 41,
     "metadata": {},
     "output_type": "execute_result"
    }
   ],
   "source": [
    "import pandas as pd\n",
    "\n",
    "df = pd.DataFrame({'name': ['John', 'Paul', 'George', 'Ringo'], 'age': [22, 33, 44, 55]})\n",
    "df = df.drop([len(df)-1])\n",
    "df"
   ]
  },
  {
   "attachments": {},
   "cell_type": "markdown",
   "metadata": {},
   "source": [
    "CGV 중국"
   ]
  },
  {
   "cell_type": "code",
   "execution_count": 39,
   "metadata": {},
   "outputs": [],
   "source": [
    "import pandas as pd"
   ]
  },
  {
   "cell_type": "code",
   "execution_count": 185,
   "metadata": {},
   "outputs": [],
   "source": [
    "CGV_china = pd.DataFrame({\n",
    "    \"2022_4Q\" : [144, 1149, 42.7, 1.4, 53.5, 341, -123, 145],\n",
    "    \"2022_3Q\" : [145, 1158, 85, 2.2, 50.1, 516, -196, 81],\n",
    "    \"2022_2Q\" : [146, 1165, 32, 1, 46.3, 234, -283, -3],\n",
    "    \"2022_1Q\" : [146, 1165, 140, 3.0, 49.8, 656, -118, 155],\n",
    "    \"2021_4Q\" : [146, 1166, 121.6, 3.4, 48.8, 707, -84, 185],\n",
    "    \"2021_3Q\" : [142, 1135, 73, 2.0, 43.3, 512, -174, 88],\n",
    "    \"2021_2Q\" : [141, 1126, 94.7, 3.0, 40.9, 656, -16, 248],\n",
    "    \"2021_1Q\" : [145, 1155, 181, 4.7, 47.2, 908, 23, 288],\n",
    "    \"2020_4Q\" : [148, 1175, 120.1, 3.4, 40.2, 681, 5, 267],\n",
    "    \"2020_3Q\" : [144, 1140, 55, 1.8, 38.0, 359, -191, 80],\n",
    "    \"2020_2Q\" : [139, 1095, 0, 0, 43.2, 8, -298, 29],\n",
    "    \"2020_1Q\" : [140, 1103, 21, 0.6, 37.4, 158, -354, -60],\n",
    "    \"2019_4Q\" : [141, 1116, 150, 4.3, 41.9, 886, 38, 325],\n",
    "    \"2019_3Q\" : [134, 1059, 155, 4.5, 39.5, 925, 33, 273],\n",
    "    \"2019_2Q\" : [125, 991, 117, 3.96, 45.6, 847, 19, 248],\n",
    "    \"2019_1Q\" : [120, 949, 172, 4.84, 44.4, 1099, 118, 343]\n",
    "})\n",
    "\n",
    "CGV_china.index = [\"site\", \"screen\", \"bo_cn\", \"bo_cgv_cn\", \"atp_cn\", \"revenue\", \"op\", \"EBITDA\"]"
   ]
  },
  {
   "cell_type": "code",
   "execution_count": 186,
   "metadata": {},
   "outputs": [
    {
     "name": "stdout",
     "output_type": "stream",
     "text": [
      "           2022_4Q  2022_3Q  2022_2Q  2022_1Q  2021_4Q  2021_3Q  2021_2Q  \\\n",
      "site         144.0    145.0    146.0    146.0    146.0    142.0    141.0   \n",
      "screen      1149.0   1158.0   1165.0   1165.0   1166.0   1135.0   1126.0   \n",
      "bo_cn         42.7     85.0     32.0    140.0    121.6     73.0     94.7   \n",
      "bo_cgv_cn      1.4      2.2      1.0      3.0      3.4      2.0      3.0   \n",
      "atp_cn        53.5     50.1     46.3     49.8     48.8     43.3     40.9   \n",
      "revenue      341.0    516.0    234.0    656.0    707.0    512.0    656.0   \n",
      "op          -123.0   -196.0   -283.0   -118.0    -84.0   -174.0    -16.0   \n",
      "EBITDA       145.0     81.0     -3.0    155.0    185.0     88.0    248.0   \n",
      "\n",
      "           2021_1Q  2020_4Q  2020_3Q  2020_2Q  2020_1Q  2019_4Q  2019_3Q  \\\n",
      "site         145.0    148.0    144.0    139.0    140.0    141.0    134.0   \n",
      "screen      1155.0   1175.0   1140.0   1095.0   1103.0   1116.0   1059.0   \n",
      "bo_cn        181.0    120.1     55.0      0.0     21.0    150.0    155.0   \n",
      "bo_cgv_cn      4.7      3.4      1.8      0.0      0.6      4.3      4.5   \n",
      "atp_cn        47.2     40.2     38.0     43.2     37.4     41.9     39.5   \n",
      "revenue      908.0    681.0    359.0      8.0    158.0    886.0    925.0   \n",
      "op            23.0      5.0   -191.0   -298.0   -354.0     38.0     33.0   \n",
      "EBITDA       288.0    267.0     80.0     29.0    -60.0    325.0    273.0   \n",
      "\n",
      "           2019_2Q  2019_1Q  \n",
      "site        125.00   120.00  \n",
      "screen      991.00   949.00  \n",
      "bo_cn       117.00   172.00  \n",
      "bo_cgv_cn     3.96     4.84  \n",
      "atp_cn       45.60    44.40  \n",
      "revenue     847.00  1099.00  \n",
      "op           19.00   118.00  \n",
      "EBITDA      248.00   343.00  \n"
     ]
    }
   ],
   "source": [
    "print(CGV_china)"
   ]
  },
  {
   "cell_type": "code",
   "execution_count": 201,
   "metadata": {},
   "outputs": [],
   "source": [
    "df = CGV_china[CGV_china.columns[::-1]]"
   ]
  },
  {
   "cell_type": "code",
   "execution_count": 216,
   "metadata": {},
   "outputs": [
    {
     "data": {
      "text/plain": [
       "Index(['2019_1Q', '2019_2Q', '2019_3Q', '2019_4Q', '2020_1Q', '2020_2Q',\n",
       "       '2020_3Q', '2020_4Q', '2021_1Q', '2021_2Q', '2021_3Q', '2021_4Q',\n",
       "       '2022_1Q', '2022_2Q', '2022_3Q', '2022_4Q'],\n",
       "      dtype='object')"
      ]
     },
     "execution_count": 216,
     "metadata": {},
     "output_type": "execute_result"
    }
   ],
   "source": [
    "df.columns"
   ]
  },
  {
   "cell_type": "code",
   "execution_count": 220,
   "metadata": {},
   "outputs": [
    {
     "name": "stdout",
     "output_type": "stream",
     "text": [
      "['2019_1Q', '2019_2Q', '2019_3Q', '2019_4Q', '2020_4Q', '2021_1Q', '2021_2Q', '2021_3Q', '2021_4Q', '2022_1Q', '2022_2Q', '2022_4Q']\n"
     ]
    }
   ],
   "source": [
    "idx =df.columns.tolist()\n",
    "remove_list = [\"2020_1Q\", \"2020_2Q\", \"2020_3Q\", \"2022_3Q\"]\n",
    "new_idx = [x for x in idx if x not in remove_list]\n",
    "print(new_idx)\n"
   ]
  },
  {
   "cell_type": "code",
   "execution_count": 222,
   "metadata": {},
   "outputs": [
    {
     "data": {
      "text/html": [
       "<div>\n",
       "<style scoped>\n",
       "    .dataframe tbody tr th:only-of-type {\n",
       "        vertical-align: middle;\n",
       "    }\n",
       "\n",
       "    .dataframe tbody tr th {\n",
       "        vertical-align: top;\n",
       "    }\n",
       "\n",
       "    .dataframe thead th {\n",
       "        text-align: right;\n",
       "    }\n",
       "</style>\n",
       "<table border=\"1\" class=\"dataframe\">\n",
       "  <thead>\n",
       "    <tr style=\"text-align: right;\">\n",
       "      <th></th>\n",
       "      <th>site</th>\n",
       "      <th>screen</th>\n",
       "      <th>bo_cn</th>\n",
       "      <th>bo_cgv_cn</th>\n",
       "      <th>atp_cn</th>\n",
       "      <th>revenue</th>\n",
       "      <th>op</th>\n",
       "      <th>EBITDA</th>\n",
       "    </tr>\n",
       "  </thead>\n",
       "  <tbody>\n",
       "    <tr>\n",
       "      <th>site</th>\n",
       "      <td>1.000000</td>\n",
       "      <td>0.998816</td>\n",
       "      <td>-0.360328</td>\n",
       "      <td>-0.513562</td>\n",
       "      <td>0.218783</td>\n",
       "      <td>-0.619970</td>\n",
       "      <td>-0.591295</td>\n",
       "      <td>-0.483421</td>\n",
       "    </tr>\n",
       "    <tr>\n",
       "      <th>screen</th>\n",
       "      <td>0.998816</td>\n",
       "      <td>1.000000</td>\n",
       "      <td>-0.382987</td>\n",
       "      <td>-0.537477</td>\n",
       "      <td>0.242511</td>\n",
       "      <td>-0.639895</td>\n",
       "      <td>-0.614179</td>\n",
       "      <td>-0.509053</td>\n",
       "    </tr>\n",
       "    <tr>\n",
       "      <th>bo_cn</th>\n",
       "      <td>-0.360328</td>\n",
       "      <td>-0.382987</td>\n",
       "      <td>1.000000</td>\n",
       "      <td>0.957569</td>\n",
       "      <td>-0.295865</td>\n",
       "      <td>0.937131</td>\n",
       "      <td>0.817665</td>\n",
       "      <td>0.828119</td>\n",
       "    </tr>\n",
       "    <tr>\n",
       "      <th>bo_cgv_cn</th>\n",
       "      <td>-0.513562</td>\n",
       "      <td>-0.537477</td>\n",
       "      <td>0.957569</td>\n",
       "      <td>1.000000</td>\n",
       "      <td>-0.406907</td>\n",
       "      <td>0.984927</td>\n",
       "      <td>0.916053</td>\n",
       "      <td>0.910512</td>\n",
       "    </tr>\n",
       "    <tr>\n",
       "      <th>atp_cn</th>\n",
       "      <td>0.218783</td>\n",
       "      <td>0.242511</td>\n",
       "      <td>-0.295865</td>\n",
       "      <td>-0.406907</td>\n",
       "      <td>1.000000</td>\n",
       "      <td>-0.404785</td>\n",
       "      <td>-0.420496</td>\n",
       "      <td>-0.418256</td>\n",
       "    </tr>\n",
       "    <tr>\n",
       "      <th>revenue</th>\n",
       "      <td>-0.619970</td>\n",
       "      <td>-0.639895</td>\n",
       "      <td>0.937131</td>\n",
       "      <td>0.984927</td>\n",
       "      <td>-0.404785</td>\n",
       "      <td>1.000000</td>\n",
       "      <td>0.922940</td>\n",
       "      <td>0.902811</td>\n",
       "    </tr>\n",
       "    <tr>\n",
       "      <th>op</th>\n",
       "      <td>-0.591295</td>\n",
       "      <td>-0.614179</td>\n",
       "      <td>0.817665</td>\n",
       "      <td>0.916053</td>\n",
       "      <td>-0.420496</td>\n",
       "      <td>0.922940</td>\n",
       "      <td>1.000000</td>\n",
       "      <td>0.987866</td>\n",
       "    </tr>\n",
       "    <tr>\n",
       "      <th>EBITDA</th>\n",
       "      <td>-0.483421</td>\n",
       "      <td>-0.509053</td>\n",
       "      <td>0.828119</td>\n",
       "      <td>0.910512</td>\n",
       "      <td>-0.418256</td>\n",
       "      <td>0.902811</td>\n",
       "      <td>0.987866</td>\n",
       "      <td>1.000000</td>\n",
       "    </tr>\n",
       "  </tbody>\n",
       "</table>\n",
       "</div>"
      ],
      "text/plain": [
       "               site    screen     bo_cn  bo_cgv_cn    atp_cn   revenue  \\\n",
       "site       1.000000  0.998816 -0.360328  -0.513562  0.218783 -0.619970   \n",
       "screen     0.998816  1.000000 -0.382987  -0.537477  0.242511 -0.639895   \n",
       "bo_cn     -0.360328 -0.382987  1.000000   0.957569 -0.295865  0.937131   \n",
       "bo_cgv_cn -0.513562 -0.537477  0.957569   1.000000 -0.406907  0.984927   \n",
       "atp_cn     0.218783  0.242511 -0.295865  -0.406907  1.000000 -0.404785   \n",
       "revenue   -0.619970 -0.639895  0.937131   0.984927 -0.404785  1.000000   \n",
       "op        -0.591295 -0.614179  0.817665   0.916053 -0.420496  0.922940   \n",
       "EBITDA    -0.483421 -0.509053  0.828119   0.910512 -0.418256  0.902811   \n",
       "\n",
       "                 op    EBITDA  \n",
       "site      -0.591295 -0.483421  \n",
       "screen    -0.614179 -0.509053  \n",
       "bo_cn      0.817665  0.828119  \n",
       "bo_cgv_cn  0.916053  0.910512  \n",
       "atp_cn    -0.420496 -0.418256  \n",
       "revenue    0.922940  0.902811  \n",
       "op         1.000000  0.987866  \n",
       "EBITDA     0.987866  1.000000  "
      ]
     },
     "execution_count": 222,
     "metadata": {},
     "output_type": "execute_result"
    }
   ],
   "source": [
    "df[new_idx].T.corr()"
   ]
  },
  {
   "cell_type": "code",
   "execution_count": 208,
   "metadata": {},
   "outputs": [
    {
     "data": {
      "image/png": "[encoded data removed]",
      "text/plain": [
       "<Figure size 2000x1500 with 8 Axes>"
      ]
     },
     "metadata": {},
     "output_type": "display_data"
    }
   ],
   "source": [
    "\n",
    "fig, axes = plt.subplots(nrows=2, ncols=4, figsize = (20, 15))\n",
    "\n",
    "for i in range(8):\n",
    "    df.iloc[i].plot.bar(ax=axes[i // 4, i % 4])\n",
    "    axes[i // 4, i % 4].set_title(df.index[i])\n",
    "\n"
   ]
  },
  {
   "cell_type": "code",
   "execution_count": 189,
   "metadata": {},
   "outputs": [
    {
     "data": {
      "image/png": "[encoded data removed]",
      "text/plain": [
       "<Figure size 640x480 with 1 Axes>"
      ]
     },
     "metadata": {},
     "output_type": "display_data"
    }
   ],
   "source": [
    "for i in CGV_china.index.tolist() :\n",
    "    plt.bar(CGV_china.columns, CGV_china.loc[i])"
   ]
  },
  {
   "cell_type": "code",
   "execution_count": 164,
   "metadata": {},
   "outputs": [],
   "source": [
    "# 연도별 기업의 실적을 갖는 새로운 데이터 프레임 생성\n",
    "new_CGV_china = CGV_china.apply(lambda x: x.groupby(lambda y: y.split('_')[0]).agg('mean' if x.name in ['site', 'screen'] else 'sum'), axis=1)"
   ]
  },
  {
   "cell_type": "code",
   "execution_count": 184,
   "metadata": {},
   "outputs": [
    {
     "data": {
      "text/html": [
       "<div>\n",
       "<style scoped>\n",
       "    .dataframe tbody tr th:only-of-type {\n",
       "        vertical-align: middle;\n",
       "    }\n",
       "\n",
       "    .dataframe tbody tr th {\n",
       "        vertical-align: top;\n",
       "    }\n",
       "\n",
       "    .dataframe thead th {\n",
       "        text-align: right;\n",
       "    }\n",
       "</style>\n",
       "<table border=\"1\" class=\"dataframe\">\n",
       "  <thead>\n",
       "    <tr style=\"text-align: right;\">\n",
       "      <th></th>\n",
       "      <th>2019</th>\n",
       "      <th>2020</th>\n",
       "      <th>2021</th>\n",
       "      <th>2022</th>\n",
       "    </tr>\n",
       "  </thead>\n",
       "  <tbody>\n",
       "    <tr>\n",
       "      <th>site</th>\n",
       "      <td>130.00</td>\n",
       "      <td>142.75</td>\n",
       "      <td>143.5</td>\n",
       "      <td>145.25</td>\n",
       "    </tr>\n",
       "    <tr>\n",
       "      <th>screen</th>\n",
       "      <td>1028.75</td>\n",
       "      <td>1128.25</td>\n",
       "      <td>1145.5</td>\n",
       "      <td>1159.25</td>\n",
       "    </tr>\n",
       "    <tr>\n",
       "      <th>bo_cn</th>\n",
       "      <td>1038.00</td>\n",
       "      <td>262.00</td>\n",
       "      <td>470.3</td>\n",
       "      <td>299.70</td>\n",
       "    </tr>\n",
       "    <tr>\n",
       "      <th>bo_cgv_cn</th>\n",
       "      <td>30.90</td>\n",
       "      <td>8.10</td>\n",
       "      <td>13.1</td>\n",
       "      <td>7.60</td>\n",
       "    </tr>\n",
       "    <tr>\n",
       "      <th>atp_cn</th>\n",
       "      <td>171.40</td>\n",
       "      <td>158.10</td>\n",
       "      <td>180.2</td>\n",
       "      <td>199.70</td>\n",
       "    </tr>\n",
       "    <tr>\n",
       "      <th>revenue</th>\n",
       "      <td>3757.00</td>\n",
       "      <td>1206.00</td>\n",
       "      <td>2783.0</td>\n",
       "      <td>1747.00</td>\n",
       "    </tr>\n",
       "    <tr>\n",
       "      <th>op</th>\n",
       "      <td>208.00</td>\n",
       "      <td>-838.00</td>\n",
       "      <td>-251.0</td>\n",
       "      <td>-720.00</td>\n",
       "    </tr>\n",
       "    <tr>\n",
       "      <th>EBITDA</th>\n",
       "      <td>1189.00</td>\n",
       "      <td>316.00</td>\n",
       "      <td>809.0</td>\n",
       "      <td>378.00</td>\n",
       "    </tr>\n",
       "  </tbody>\n",
       "</table>\n",
       "</div>"
      ],
      "text/plain": [
       "              2019     2020    2021     2022\n",
       "site        130.00   142.75   143.5   145.25\n",
       "screen     1028.75  1128.25  1145.5  1159.25\n",
       "bo_cn      1038.00   262.00   470.3   299.70\n",
       "bo_cgv_cn    30.90     8.10    13.1     7.60\n",
       "atp_cn      171.40   158.10   180.2   199.70\n",
       "revenue    3757.00  1206.00  2783.0  1747.00\n",
       "op          208.00  -838.00  -251.0  -720.00\n",
       "EBITDA     1189.00   316.00   809.0   378.00"
      ]
     },
     "execution_count": 184,
     "metadata": {},
     "output_type": "execute_result"
    }
   ],
   "source": [
    "new_CGV_china"
   ]
  },
  {
   "cell_type": "code",
   "execution_count": 166,
   "metadata": {},
   "outputs": [
    {
     "data": {
      "text/plain": [
       "<matplotlib.legend.Legend at 0x250c3b4ea10>"
      ]
     },
     "execution_count": 166,
     "metadata": {},
     "output_type": "execute_result"
    },
    {
     "data": {
      "image/png": "[encoded data removed]",
      "text/plain": [
       "<Figure size 1500x500 with 1 Axes>"
      ]
     },
     "metadata": {},
     "output_type": "display_data"
    }
   ],
   "source": [
    "idx = np.arange(4)\n",
    "w = 0.15\n",
    "plt.figure(figsize=(15, 5))\n",
    "plt.bar(idx-w, new_CGV_china.loc[\"revenue\"], width = w, label = '매출')\n",
    "plt.bar(idx, new_CGV_china.loc[\"bo_cgv_cn\"]*165, width = w, label = '중국 CGV 박스오피스 (억 위안)')\n",
    "plt.bar(idx+ w, new_CGV_china.loc[\"bo_cn\"], width = w, label = \"중국 박스오피스 (억 위안)\")\n",
    "plt.xticks(idx, new_CGV_china.columns.tolist())\n",
    "plt.axhline(color = 'b')\n",
    "plt.legend()"
   ]
  },
  {
   "attachments": {},
   "cell_type": "markdown",
   "metadata": {},
   "source": [
    "### 중국 CGV 1분기 매출 계산하기"
   ]
  },
  {
   "cell_type": "code",
   "execution_count": 179,
   "metadata": {},
   "outputs": [
    {
     "data": {
      "text/plain": [
       "array([[1.        , 0.60988947],\n",
       "       [0.60988947, 1.        ]])"
      ]
     },
     "execution_count": 179,
     "metadata": {},
     "output_type": "execute_result"
    }
   ],
   "source": [
    "np.corrcoef(CGV_china.loc[\"bo_cgv_cn\"] * CGV_china.loc[\"atp_cn\"], CGV_china.loc[\"revenue\"])"
   ]
  },
  {
   "cell_type": "code",
   "execution_count": 182,
   "metadata": {},
   "outputs": [
    {
     "data": {
      "text/plain": [
       "2022_4Q    243.571429\n",
       "2022_3Q    234.545455\n",
       "2022_2Q    234.000000\n",
       "2022_1Q    218.666667\n",
       "2021_4Q    207.941176\n",
       "2021_3Q    256.000000\n",
       "2021_2Q    218.666667\n",
       "2021_1Q    193.191489\n",
       "2020_4Q    119.473684\n",
       "2020_3Q    199.444444\n",
       "2020_2Q           inf\n",
       "2020_1Q    263.333333\n",
       "2019_4Q     50.340909\n",
       "2019_3Q    205.555556\n",
       "2019_2Q    213.888889\n",
       "2019_1Q    227.066116\n",
       "dtype: float64"
      ]
     },
     "execution_count": 182,
     "metadata": {},
     "output_type": "execute_result"
    }
   ],
   "source": [
    "CGV_china.loc[\"revenue\"] / CGV_china.loc[\"bo_cgv_cn\"]"
   ]
  },
  {
   "cell_type": "code",
   "execution_count": 180,
   "metadata": {},
   "outputs": [
    {
     "data": {
      "text/plain": [
       "2022_4Q     1.40\n",
       "2022_3Q     2.20\n",
       "2022_2Q     1.00\n",
       "2022_1Q     3.00\n",
       "2021_4Q     3.40\n",
       "2021_3Q     2.00\n",
       "2021_2Q     3.00\n",
       "2021_1Q     4.70\n",
       "2020_4Q     5.70\n",
       "2020_3Q     1.80\n",
       "2020_2Q     0.00\n",
       "2020_1Q     0.60\n",
       "2019_4Q    17.60\n",
       "2019_3Q     4.50\n",
       "2019_2Q     3.96\n",
       "2019_1Q     4.84\n",
       "Name: bo_cgv_cn, dtype: float64"
      ]
     },
     "execution_count": 180,
     "metadata": {},
     "output_type": "execute_result"
    }
   ],
   "source": [
    "CGV_china.loc[\"bo_cgv_cn\"] /CGV_china.loc[\"revenue\"]"
   ]
  },
  {
   "cell_type": "code",
   "execution_count": 175,
   "metadata": {},
   "outputs": [
    {
     "data": {
      "text/html": [
       "<div>\n",
       "<style scoped>\n",
       "    .dataframe tbody tr th:only-of-type {\n",
       "        vertical-align: middle;\n",
       "    }\n",
       "\n",
       "    .dataframe tbody tr th {\n",
       "        vertical-align: top;\n",
       "    }\n",
       "\n",
       "    .dataframe thead th {\n",
       "        text-align: right;\n",
       "    }\n",
       "</style>\n",
       "<table border=\"1\" class=\"dataframe\">\n",
       "  <thead>\n",
       "    <tr style=\"text-align: right;\">\n",
       "      <th></th>\n",
       "      <th>site</th>\n",
       "      <th>screen</th>\n",
       "      <th>bo_cn</th>\n",
       "      <th>bo_cgv_cn</th>\n",
       "      <th>atp_cn</th>\n",
       "      <th>revenue</th>\n",
       "      <th>op</th>\n",
       "      <th>EBITDA</th>\n",
       "    </tr>\n",
       "  </thead>\n",
       "  <tbody>\n",
       "    <tr>\n",
       "      <th>site</th>\n",
       "      <td>1.000000</td>\n",
       "      <td>0.996912</td>\n",
       "      <td>-0.068074</td>\n",
       "      <td>-0.091863</td>\n",
       "      <td>0.160286</td>\n",
       "      <td>-0.448214</td>\n",
       "      <td>-0.442410</td>\n",
       "      <td>-0.388262</td>\n",
       "    </tr>\n",
       "    <tr>\n",
       "      <th>screen</th>\n",
       "      <td>0.996912</td>\n",
       "      <td>1.000000</td>\n",
       "      <td>-0.075590</td>\n",
       "      <td>-0.100822</td>\n",
       "      <td>0.210601</td>\n",
       "      <td>-0.419216</td>\n",
       "      <td>-0.417741</td>\n",
       "      <td>-0.368461</td>\n",
       "    </tr>\n",
       "    <tr>\n",
       "      <th>bo_cn</th>\n",
       "      <td>-0.068074</td>\n",
       "      <td>-0.075590</td>\n",
       "      <td>1.000000</td>\n",
       "      <td>0.995543</td>\n",
       "      <td>-0.109481</td>\n",
       "      <td>0.608214</td>\n",
       "      <td>0.600535</td>\n",
       "      <td>0.661283</td>\n",
       "    </tr>\n",
       "    <tr>\n",
       "      <th>bo_cgv_cn</th>\n",
       "      <td>-0.091863</td>\n",
       "      <td>-0.100822</td>\n",
       "      <td>0.995543</td>\n",
       "      <td>1.000000</td>\n",
       "      <td>-0.147615</td>\n",
       "      <td>0.591274</td>\n",
       "      <td>0.600423</td>\n",
       "      <td>0.659436</td>\n",
       "    </tr>\n",
       "    <tr>\n",
       "      <th>atp_cn</th>\n",
       "      <td>0.160286</td>\n",
       "      <td>0.210601</td>\n",
       "      <td>-0.109481</td>\n",
       "      <td>-0.147615</td>\n",
       "      <td>1.000000</td>\n",
       "      <td>0.042696</td>\n",
       "      <td>0.023226</td>\n",
       "      <td>0.017044</td>\n",
       "    </tr>\n",
       "    <tr>\n",
       "      <th>revenue</th>\n",
       "      <td>-0.448214</td>\n",
       "      <td>-0.419216</td>\n",
       "      <td>0.608214</td>\n",
       "      <td>0.591274</td>\n",
       "      <td>0.042696</td>\n",
       "      <td>1.000000</td>\n",
       "      <td>0.943115</td>\n",
       "      <td>0.918572</td>\n",
       "    </tr>\n",
       "    <tr>\n",
       "      <th>op</th>\n",
       "      <td>-0.442410</td>\n",
       "      <td>-0.417741</td>\n",
       "      <td>0.600535</td>\n",
       "      <td>0.600423</td>\n",
       "      <td>0.023226</td>\n",
       "      <td>0.943115</td>\n",
       "      <td>1.000000</td>\n",
       "      <td>0.990742</td>\n",
       "    </tr>\n",
       "    <tr>\n",
       "      <th>EBITDA</th>\n",
       "      <td>-0.388262</td>\n",
       "      <td>-0.368461</td>\n",
       "      <td>0.661283</td>\n",
       "      <td>0.659436</td>\n",
       "      <td>0.017044</td>\n",
       "      <td>0.918572</td>\n",
       "      <td>0.990742</td>\n",
       "      <td>1.000000</td>\n",
       "    </tr>\n",
       "  </tbody>\n",
       "</table>\n",
       "</div>"
      ],
      "text/plain": [
       "               site    screen     bo_cn  bo_cgv_cn    atp_cn   revenue  \\\n",
       "site       1.000000  0.996912 -0.068074  -0.091863  0.160286 -0.448214   \n",
       "screen     0.996912  1.000000 -0.075590  -0.100822  0.210601 -0.419216   \n",
       "bo_cn     -0.068074 -0.075590  1.000000   0.995543 -0.109481  0.608214   \n",
       "bo_cgv_cn -0.091863 -0.100822  0.995543   1.000000 -0.147615  0.591274   \n",
       "atp_cn     0.160286  0.210601 -0.109481  -0.147615  1.000000  0.042696   \n",
       "revenue   -0.448214 -0.419216  0.608214   0.591274  0.042696  1.000000   \n",
       "op        -0.442410 -0.417741  0.600535   0.600423  0.023226  0.943115   \n",
       "EBITDA    -0.388262 -0.368461  0.661283   0.659436  0.017044  0.918572   \n",
       "\n",
       "                 op    EBITDA  \n",
       "site      -0.442410 -0.388262  \n",
       "screen    -0.417741 -0.368461  \n",
       "bo_cn      0.600535  0.661283  \n",
       "bo_cgv_cn  0.600423  0.659436  \n",
       "atp_cn     0.023226  0.017044  \n",
       "revenue    0.943115  0.918572  \n",
       "op         1.000000  0.990742  \n",
       "EBITDA     0.990742  1.000000  "
      ]
     },
     "execution_count": 175,
     "metadata": {},
     "output_type": "execute_result"
    }
   ],
   "source": [
    "CGV_china.T.corr()"
   ]
  },
  {
   "cell_type": "code",
   "execution_count": 173,
   "metadata": {},
   "outputs": [
    {
     "name": "stdout",
     "output_type": "stream",
     "text": [
      "[[1.         0.99554299]\n",
      " [0.99554299 1.        ]]\n",
      "[[1.         0.60821413]\n",
      " [0.60821413 1.        ]]\n",
      "[[1.         0.59127446]\n",
      " [0.59127446 1.        ]]\n"
     ]
    }
   ],
   "source": [
    "print(np.corrcoef(CGV_china.loc[\"bo_cgv_cn\"], CGV_china.loc[\"bo_cn\"]))\n",
    "print(np.corrcoef(CGV_china.loc[\"bo_cn\"], CGV_china.loc[\"revenue\"]))\n",
    "print(np.corrcoef(CGV_china.loc[\"bo_cgv_cn\"], CGV_china.loc[\"revenue\"]))"
   ]
  }
 ],
 "metadata": {
  "kernelspec": {
   "display_name": "Python 3",
   "language": "python",
   "name": "python3"
  },
  "language_info": {
   "codemirror_mode": {
    "name": "ipython",
    "version": 3
   },
   "file_extension": ".py",
   "mimetype": "text/x-python",
   "name": "python",
   "nbconvert_exporter": "python",
   "pygments_lexer": "ipython3",
   "version": "3.11.1"
  },
  "orig_nbformat": 4
 },
 "nbformat": 4,
 "nbformat_minor": 2
}
