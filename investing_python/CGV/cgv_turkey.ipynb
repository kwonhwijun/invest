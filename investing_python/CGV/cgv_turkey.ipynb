{
 "cells": [
  {
   "attachments": {},
   "cell_type": "markdown",
   "metadata": {},
   "source": [
    "## 터키 1분기 실적 예측하기"
   ]
  },
  {
   "cell_type": "code",
   "execution_count": 110,
   "metadata": {},
   "outputs": [],
   "source": [
    "import pandas as pd\n",
    "import numpy as np\n",
    "import matplotlib.pyplot as plt"
   ]
  },
  {
   "cell_type": "code",
   "execution_count": 111,
   "metadata": {},
   "outputs": [],
   "source": [
    "import matplotlib as matplotlib\n",
    "matplotlib.rcParams['font.family'] ='Malgun Gothic'\n",
    "\n",
    "matplotlib.rcParams['axes.unicode_minus'] =False"
   ]
  },
  {
   "attachments": {},
   "cell_type": "markdown",
   "metadata": {},
   "source": [
    "### 데이터 불러오기"
   ]
  },
  {
   "attachments": {},
   "cell_type": "markdown",
   "metadata": {},
   "source": [
    "1. 박스오피스모조 사이트에서 데이터테이블 불러오기"
   ]
  },
  {
   "cell_type": "code",
   "execution_count": 112,
   "metadata": {},
   "outputs": [
    {
     "name": "stdout",
     "output_type": "stream",
     "text": [
      "    Year   Total Gross    %± LY Releases     Average  \\\n",
      "0   2023   $33,097,324        -      115    $287,802   \n",
      "1   2022   $71,851,732  +314.8%      286    $251,229   \n",
      "2   2021   $17,323,833     -54%       67    $258,564   \n",
      "3   2020   $37,670,024   -76.3%      152    $247,829   \n",
      "4   2019  $158,828,872   -12.1%      437    $363,452   \n",
      "5   2018  $180,649,098   -19.3%      462    $391,015   \n",
      "6   2017  $223,902,914    +5.4%      424    $528,072   \n",
      "7   2016  $212,337,060    +1.9%      404    $525,586   \n",
      "8   2015  $208,444,598   -18.7%      324    $643,347   \n",
      "9   2014  $256,469,748    +3.1%      297    $863,534   \n",
      "10  2013  $248,676,065      -4%      346    $718,716   \n",
      "11  2012  $258,927,238   +11.6%      345    $750,513   \n",
      "12  2011  $232,006,061   -41.4%      338    $686,408   \n",
      "13  2010  $395,780,391    +109%      312  $1,268,526   \n",
      "14  2009  $189,412,970     -17%      312    $607,092   \n",
      "15  2008  $228,144,925   +24.7%      326    $699,831   \n",
      "16  2007  $182,979,491   +20.4%      301    $607,905   \n",
      "17  2006  $151,932,513   +21.1%      172    $883,328   \n",
      "18  2005  $125,434,781    +8.3%      138    $908,947   \n",
      "19  2004  $115,774,333   +58.3%      132    $877,078   \n",
      "20  2003   $73,120,979  +189.9%      136    $537,654   \n",
      "21  2002   $25,222,960        -       80    $315,287   \n",
      "\n",
      "                               #1 Release\\n  \n",
      "0              Rafadan Tayfa Galaktik Tayfa  \n",
      "1                                    Bergen  \n",
      "2                   Spider-Man: No Way Home  \n",
      "3                          Eltilerin Savasi  \n",
      "4                     Miracle in Cell No. 7  \n",
      "5                                    Muslum  \n",
      "6                            Recep Ivedik 5  \n",
      "7                           Osman Pazarlama  \n",
      "8                    Dügün Dernek 2: Sünnet  \n",
      "9                            Recep Ivedik 4  \n",
      "10                   CM101MMXI Fundamentals  \n",
      "11                            Conquest 1453  \n",
      "12                           Eyyvah Eyvah 2  \n",
      "13                         Act of Vengeance  \n",
      "14                           Recep Ivedik 2  \n",
      "15                             Recep Ivedik  \n",
      "16                          The White Angel  \n",
      "17               Valley of the Wolves: Iraq  \n",
      "18          The Chaos Class in the Military  \n",
      "19                                 G.O.R.A.  \n",
      "20                      Asmali Konak: Hayat  \n",
      "21  Harry Potter and the Chamber of Secrets  \n"
     ]
    }
   ],
   "source": [
    "import requests as requests\n",
    "from bs4 import BeautifulSoup\n",
    "\n",
    "url = \"https://www.boxofficemojo.com/year/?area=TR\"\n",
    "page = requests.get(url)\n",
    "\n",
    "soup = BeautifulSoup(page.content, 'html.parser')\n",
    "\n",
    "table = soup.find('table')\n",
    "\n",
    "rows = table.find_all('tr')\n",
    "data = []\n",
    "for row in rows[1:] : # 첫 행이 비어있으므로\n",
    "    row_data = row.find_all(\"td\")\n",
    "    row = [cell.text for cell in row_data]\n",
    "    data.append(row)\n",
    "\n",
    "headers = table.find_all('th')\n",
    "column_names = [header.text for header in headers]\n",
    "\n",
    "df = pd.DataFrame(data)\n",
    "df.columns = column_names\n",
    "\n",
    "print(df)\n"
   ]
  },
  {
   "attachments": {},
   "cell_type": "markdown",
   "metadata": {},
   "source": [
    "2. 데이터 테이블 전처리 하기"
   ]
  },
  {
   "cell_type": "code",
   "execution_count": 113,
   "metadata": {},
   "outputs": [
    {
     "name": "stderr",
     "output_type": "stream",
     "text": [
      "C:\\Users\\HwijunKwon\\AppData\\Local\\Temp\\ipykernel_37092\\925385101.py:1: FutureWarning: The default value of regex will change from True to False in a future version. In addition, single character regular expressions will *not* be treated as literal strings when regex=True.\n",
      "  df[\"Total Gross\"] = df[\"Total Gross\"].str.replace('$' ,\"\").str.replace(',', \"\")\n",
      "C:\\Users\\HwijunKwon\\AppData\\Local\\Temp\\ipykernel_37092\\925385101.py:2: FutureWarning: The default value of regex will change from True to False in a future version. In addition, single character regular expressions will *not* be treated as literal strings when regex=True.\n",
      "  df[\"Average\"] = df[\"Average\"].str.replace('$' ,\"\").str.replace(',', \"\")\n"
     ]
    }
   ],
   "source": [
    "df[\"Total Gross\"] = df[\"Total Gross\"].str.replace('$' ,\"\").str.replace(',', \"\")\n",
    "df[\"Average\"] = df[\"Average\"].str.replace('$' ,\"\").str.replace(',', \"\")\n",
    "\n",
    "df[\"Average\"] = df[\"Average\"].astype(int)\n",
    "df[\"Year\"] = pd.to_datetime(df[\"Year\"], format = \"%Y\")"
   ]
  },
  {
   "cell_type": "code",
   "execution_count": 114,
   "metadata": {},
   "outputs": [],
   "source": [
    "df[\"Total Gross\"] = df[\"Total Gross\"].astype(int)"
   ]
  },
  {
   "cell_type": "code",
   "execution_count": 115,
   "metadata": {},
   "outputs": [],
   "source": [
    "# 인덱스를 연도로 바꾸기\n",
    "df = df.set_index('Year')"
   ]
  },
  {
   "cell_type": "code",
   "execution_count": 116,
   "metadata": {},
   "outputs": [],
   "source": [
    "df = df.sort_values(by = \"Year\")"
   ]
  },
  {
   "cell_type": "code",
   "execution_count": 117,
   "metadata": {},
   "outputs": [
    {
     "name": "stdout",
     "output_type": "stream",
     "text": [
      "            Total Gross    %± LY Releases  Average  \\\n",
      "Year                                                 \n",
      "2002-01-01     25222960        -       80   315287   \n",
      "2003-01-01     73120979  +189.9%      136   537654   \n",
      "2004-01-01    115774333   +58.3%      132   877078   \n",
      "2005-01-01    125434781    +8.3%      138   908947   \n",
      "2006-01-01    151932513   +21.1%      172   883328   \n",
      "2007-01-01    182979491   +20.4%      301   607905   \n",
      "2008-01-01    228144925   +24.7%      326   699831   \n",
      "2009-01-01    189412970     -17%      312   607092   \n",
      "2010-01-01    395780391    +109%      312  1268526   \n",
      "2011-01-01    232006061   -41.4%      338   686408   \n",
      "2012-01-01    258927238   +11.6%      345   750513   \n",
      "2013-01-01    248676065      -4%      346   718716   \n",
      "2014-01-01    256469748    +3.1%      297   863534   \n",
      "2015-01-01    208444598   -18.7%      324   643347   \n",
      "2016-01-01    212337060    +1.9%      404   525586   \n",
      "2017-01-01    223902914    +5.4%      424   528072   \n",
      "2018-01-01    180649098   -19.3%      462   391015   \n",
      "2019-01-01    158828872   -12.1%      437   363452   \n",
      "2020-01-01     37670024   -76.3%      152   247829   \n",
      "2021-01-01     17323833     -54%       67   258564   \n",
      "2022-01-01     71851732  +314.8%      286   251229   \n",
      "2023-01-01     33097324        -      115   287802   \n",
      "\n",
      "                                       #1 Release\\n  \n",
      "Year                                                 \n",
      "2002-01-01  Harry Potter and the Chamber of Secrets  \n",
      "2003-01-01                      Asmali Konak: Hayat  \n",
      "2004-01-01                                 G.O.R.A.  \n",
      "2005-01-01          The Chaos Class in the Military  \n",
      "2006-01-01               Valley of the Wolves: Iraq  \n",
      "2007-01-01                          The White Angel  \n",
      "2008-01-01                             Recep Ivedik  \n",
      "2009-01-01                           Recep Ivedik 2  \n",
      "2010-01-01                         Act of Vengeance  \n",
      "2011-01-01                           Eyyvah Eyvah 2  \n",
      "2012-01-01                            Conquest 1453  \n",
      "2013-01-01                   CM101MMXI Fundamentals  \n",
      "2014-01-01                           Recep Ivedik 4  \n",
      "2015-01-01                   Dügün Dernek 2: Sünnet  \n",
      "2016-01-01                          Osman Pazarlama  \n",
      "2017-01-01                           Recep Ivedik 5  \n",
      "2018-01-01                                   Muslum  \n",
      "2019-01-01                    Miracle in Cell No. 7  \n",
      "2020-01-01                         Eltilerin Savasi  \n",
      "2021-01-01                  Spider-Man: No Way Home  \n",
      "2022-01-01                                   Bergen  \n",
      "2023-01-01             Rafadan Tayfa Galaktik Tayfa  \n"
     ]
    }
   ],
   "source": [
    "print(df)"
   ]
  },
  {
   "cell_type": "code",
   "execution_count": 122,
   "metadata": {},
   "outputs": [
    {
     "data": {
      "image/png": "[encoded data removed]",
      "text/plain": [
       "<Figure size 1000x500 with 1 Axes>"
      ]
     },
     "metadata": {},
     "output_type": "display_data"
    }
   ],
   "source": [
    "from matplotlib.ticker import ScalarFormatter\n",
    "plt.figure(figsize= (10, 5))\n",
    "ax = df['Total Gross'].plot(kind='bar')\n",
    "\n",
    "# Customize the y-axis tick labels\n",
    "y_formatter = ScalarFormatter(useOffset=False)\n",
    "ax.yaxis.set_major_formatter(y_formatter)\n",
    "\n",
    "# Add a description of the y-axis units\n",
    "plt.text(1, ax.get_ylim()[1], '단위: 천만달러', va='bottom')\n",
    "\n",
    "# Customize the x-axis tick labels\n",
    "plt.xticks(range(len(df)), df.index.year, rotation = 0)\n",
    "\n",
    "plt.show()"
   ]
  },
  {
   "attachments": {},
   "cell_type": "markdown",
   "metadata": {},
   "source": [
    "### CGV 실적 "
   ]
  },
  {
   "cell_type": "code",
   "execution_count": 123,
   "metadata": {},
   "outputs": [],
   "source": [
    "import os\n",
    "import requests\n",
    "from bs4 import BeautifulSoup\n",
    "\n",
    "url = 'https://m.irgo.co.kr/IR-COMP/079160/CJ%20CGV-IR-PAGE'\n",
    "response = requests.get(url)\n",
    "soup = BeautifulSoup(response.text, 'html.parser')\n",
    "\n",
    "# Find all the links to the PDF files\n",
    "links = soup.select('a[href$=\".pdf\"]')\n",
    "\n",
    "# Create a directory to store the downloaded files\n",
    "os.makedirs('downloads', exist_ok=True)\n",
    "\n",
    "# Download each PDF file\n",
    "for link in links:\n",
    "    pdf_url = link['href']\n",
    "    filename = os.path.basename(pdf_url)\n",
    "    response = requests.get(pdf_url)\n",
    "    with open(os.path.join('downloads', filename), 'wb') as f:\n",
    "        f.write(response.content)"
   ]
  },
  {
   "cell_type": "code",
   "execution_count": 127,
   "metadata": {},
   "outputs": [],
   "source": [
    "import os\n",
    "import requests\n",
    "from bs4 import BeautifulSoup\n",
    "\n",
    "base_url = 'https://m.irgo.co.kr'\n",
    "start_url = base_url + '/IR-COMP/079160/CJ%20CGV-IR-PAGE'\n",
    "response = requests.get(start_url)\n",
    "soup = BeautifulSoup(response.text, 'html.parser')\n",
    "\n",
    "# Find all the links to the pages with the PDF files\n",
    "links = soup.select('a[href*=\"/IR-COMP/079160/\"]')\n",
    "\n",
    "# Create a directory to store the downloaded files\n",
    "os.makedirs('downloads', exist_ok=True)\n",
    "\n",
    "# Follow each link and download the PDF file\n",
    "for link in links:\n",
    "    page_url = base_url + link['href']\n",
    "    response = requests.get(page_url)\n",
    "    soup = BeautifulSoup(response.text, 'html.parser')\n",
    "    pdf_link = soup.select_one('a[href$=\".pdf\"]')\n",
    "    if pdf_link:\n",
    "        pdf_url = pdf_link['href']\n",
    "        filename = os.path.basename(pdf_url)\n",
    "        response = requests.get(pdf_url)\n",
    "        with open(os.path.join('downloads', filename), 'wb') as f:\n",
    "            f.write(response.content)"
   ]
  },
  {
   "cell_type": "code",
   "execution_count": null,
   "metadata": {},
   "outputs": [],
   "source": [
    "#tab2 > div > div:nth-child(1) > ul > li:nth-child(1)\n",
    "\n",
    "#tab2 > div > div:nth-child(1) > ul > li:nth-child(2)\n",
    "\n",
    "#tab2 > div > div:nth-child(1) > ul > li:nth-child(14)"
   ]
  },
  {
   "cell_type": "code",
   "execution_count": 132,
   "metadata": {},
   "outputs": [],
   "source": [
    "import requests\n",
    "from bs4 import BeautifulSoup\n",
    "\n",
    "base_url = 'https://m.irgo.co.kr'\n",
    "start_url = base_url + '/IR-COMP/079160/CJ%20CGV-IR-PAGE'\n",
    "response = requests.get(start_url)\n",
    "soup = BeautifulSoup(response.text, 'html.parser')\n",
    "\n",
    "# Find the link to the other page using the CSS selector\n",
    "link = soup.select_one('#tab2 > div > div:nth-child(1) > ul > li:nth-child(1) a')\n",
    "if link:\n",
    "    page_url = base_url + link['href']\n",
    "    response = requests.get(page_url)\n",
    "    soup = BeautifulSoup(response.text, 'html.parser')\n",
    "    # Now you can access the content of the other page using the `soup` object\n",
    "\n",
    "pdf_link = soup.select_one('a[href$=\".pdf\"]')\n",
    "if pdf_link:\n",
    "    pdf_url = pdf_link['href']\n",
    "    filename = os.path.basename(pdf_url)\n",
    "    response = requests.get(pdf_url)\n",
    "    with open(os.path.join('downloads', filename), 'wb') as f:\n",
    "        f.write(response.content)"
   ]
  },
  {
   "cell_type": "code",
   "execution_count": 136,
   "metadata": {},
   "outputs": [
    {
     "name": "stdout",
     "output_type": "stream",
     "text": [
      "<Response [200]>\n"
     ]
    }
   ],
   "source": [
    "print(response)"
   ]
  }
 ],
 "metadata": {
  "kernelspec": {
   "display_name": "Python 3",
   "language": "python",
   "name": "python3"
  },
  "language_info": {
   "codemirror_mode": {
    "name": "ipython",
    "version": 3
   },
   "file_extension": ".py",
   "mimetype": "text/x-python",
   "name": "python",
   "nbconvert_exporter": "python",
   "pygments_lexer": "ipython3",
   "version": "3.11.1"
  },
  "orig_nbformat": 4
 },
 "nbformat": 4,
 "nbformat_minor": 2
}
