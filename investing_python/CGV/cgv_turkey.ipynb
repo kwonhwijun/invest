{
 "cells": [
  {
   "attachments": {},
   "cell_type": "markdown",
   "metadata": {},
   "source": [
    "## 터키 1분기 실적 예측하기"
   ]
  },
  {
   "cell_type": "code",
   "execution_count": 110,
   "metadata": {},
   "outputs": [],
   "source": [
    "import pandas as pd\n",
    "import numpy as np\n",
    "import matplotlib.pyplot as plt"
   ]
  },
  {
   "cell_type": "code",
   "execution_count": 111,
   "metadata": {},
   "outputs": [],
   "source": [
    "import matplotlib as matplotlib\n",
    "matplotlib.rcParams['font.family'] ='Malgun Gothic'\n",
    "\n",
    "matplotlib.rcParams['axes.unicode_minus'] =False"
   ]
  },
  {
   "attachments": {},
   "cell_type": "markdown",
   "metadata": {},
   "source": [
    "### 데이터 불러오기"
   ]
  },
  {
   "attachments": {},
   "cell_type": "markdown",
   "metadata": {},
   "source": [
    "1. 박스오피스모조 사이트에서 데이터테이블 불러오기"
   ]
  },
  {
   "cell_type": "code",
   "execution_count": 112,
   "metadata": {},
   "outputs": [
    {
     "name": "stdout",
     "output_type": "stream",
     "text": [
      "    Year   Total Gross    %± LY Releases     Average  \\\n",
      "0   2023   $33,097,324        -      115    $287,802   \n",
      "1   2022   $71,851,732  +314.8%      286    $251,229   \n",
      "2   2021   $17,323,833     -54%       67    $258,564   \n",
      "3   2020   $37,670,024   -76.3%      152    $247,829   \n",
      "4   2019  $158,828,872   -12.1%      437    $363,452   \n",
      "5   2018  $180,649,098   -19.3%      462    $391,015   \n",
      "6   2017  $223,902,914    +5.4%      424    $528,072   \n",
      "7   2016  $212,337,060    +1.9%      404    $525,586   \n",
      "8   2015  $208,444,598   -18.7%      324    $643,347   \n",
      "9   2014  $256,469,748    +3.1%      297    $863,534   \n",
      "10  2013  $248,676,065      -4%      346    $718,716   \n",
      "11  2012  $258,927,238   +11.6%      345    $750,513   \n",
      "12  2011  $232,006,061   -41.4%      338    $686,408   \n",
      "13  2010  $395,780,391    +109%      312  $1,268,526   \n",
      "14  2009  $189,412,970     -17%      312    $607,092   \n",
      "15  2008  $228,144,925   +24.7%      326    $699,831   \n",
      "16  2007  $182,979,491   +20.4%      301    $607,905   \n",
      "17  2006  $151,932,513   +21.1%      172    $883,328   \n",
      "18  2005  $125,434,781    +8.3%      138    $908,947   \n",
      "19  2004  $115,774,333   +58.3%      132    $877,078   \n",
      "20  2003   $73,120,979  +189.9%      136    $537,654   \n",
      "21  2002   $25,222,960        -       80    $315,287   \n",
      "\n",
      "                               #1 Release\\n  \n",
      "0              Rafadan Tayfa Galaktik Tayfa  \n",
      "1                                    Bergen  \n",
      "2                   Spider-Man: No Way Home  \n",
      "3                          Eltilerin Savasi  \n",
      "4                     Miracle in Cell No. 7  \n",
      "5                                    Muslum  \n",
      "6                            Recep Ivedik 5  \n",
      "7                           Osman Pazarlama  \n",
      "8                    Dügün Dernek 2: Sünnet  \n",
      "9                            Recep Ivedik 4  \n",
      "10                   CM101MMXI Fundamentals  \n",
      "11                            Conquest 1453  \n",
      "12                           Eyyvah Eyvah 2  \n",
      "13                         Act of Vengeance  \n",
      "14                           Recep Ivedik 2  \n",
      "15                             Recep Ivedik  \n",
      "16                          The White Angel  \n",
      "17               Valley of the Wolves: Iraq  \n",
      "18          The Chaos Class in the Military  \n",
      "19                                 G.O.R.A.  \n",
      "20                      Asmali Konak: Hayat  \n",
      "21  Harry Potter and the Chamber of Secrets  \n"
     ]
    }
   ],
   "source": [
    "import requests as requests\n",
    "from bs4 import BeautifulSoup\n",
    "\n",
    "url = \"https://www.boxofficemojo.com/year/?area=TR\"\n",
    "page = requests.get(url)\n",
    "\n",
    "soup = BeautifulSoup(page.content, 'html.parser')\n",
    "\n",
    "table = soup.find('table')\n",
    "\n",
    "rows = table.find_all('tr')\n",
    "data = []\n",
    "for row in rows[1:] : # 첫 행이 비어있으므로\n",
    "    row_data = row.find_all(\"td\")\n",
    "    row = [cell.text for cell in row_data]\n",
    "    data.append(row)\n",
    "\n",
    "headers = table.find_all('th')\n",
    "column_names = [header.text for header in headers]\n",
    "\n",
    "df = pd.DataFrame(data)\n",
    "df.columns = column_names\n",
    "\n",
    "print(df)\n"
   ]
  },
  {
   "attachments": {},
   "cell_type": "markdown",
   "metadata": {},
   "source": [
    "2. 데이터 테이블 전처리 하기"
   ]
  },
  {
   "cell_type": "code",
   "execution_count": 113,
   "metadata": {},
   "outputs": [
    {
     "name": "stderr",
     "output_type": "stream",
     "text": [
      "C:\\Users\\HwijunKwon\\AppData\\Local\\Temp\\ipykernel_37092\\925385101.py:1: FutureWarning: The default value of regex will change from True to False in a future version. In addition, single character regular expressions will *not* be treated as literal strings when regex=True.\n",
      "  df[\"Total Gross\"] = df[\"Total Gross\"].str.replace('$' ,\"\").str.replace(',', \"\")\n",
      "C:\\Users\\HwijunKwon\\AppData\\Local\\Temp\\ipykernel_37092\\925385101.py:2: FutureWarning: The default value of regex will change from True to False in a future version. In addition, single character regular expressions will *not* be treated as literal strings when regex=True.\n",
      "  df[\"Average\"] = df[\"Average\"].str.replace('$' ,\"\").str.replace(',', \"\")\n"
     ]
    }
   ],
   "source": [
    "df[\"Total Gross\"] = df[\"Total Gross\"].str.replace('$' ,\"\").str.replace(',', \"\")\n",
    "df[\"Average\"] = df[\"Average\"].str.replace('$' ,\"\").str.replace(',', \"\")\n",
    "\n",
    "df[\"Average\"] = df[\"Average\"].astype(int)\n",
    "df[\"Year\"] = pd.to_datetime(df[\"Year\"], format = \"%Y\")"
   ]
  },
  {
   "cell_type": "code",
   "execution_count": 114,
   "metadata": {},
   "outputs": [],
   "source": [
    "df[\"Total Gross\"] = df[\"Total Gross\"].astype(int)"
   ]
  },
  {
   "cell_type": "code",
   "execution_count": 115,
   "metadata": {},
   "outputs": [],
   "source": [
    "# 인덱스를 연도로 바꾸기\n",
    "df = df.set_index('Year')"
   ]
  },
  {
   "cell_type": "code",
   "execution_count": 116,
   "metadata": {},
   "outputs": [],
   "source": [
    "df = df.sort_values(by = \"Year\")"
   ]
  },
  {
   "cell_type": "code",
   "execution_count": 117,
   "metadata": {},
   "outputs": [
    {
     "name": "stdout",
     "output_type": "stream",
     "text": [
      "            Total Gross    %± LY Releases  Average  \\\n",
      "Year                                                 \n",
      "2002-01-01     25222960        -       80   315287   \n",
      "2003-01-01     73120979  +189.9%      136   537654   \n",
      "2004-01-01    115774333   +58.3%      132   877078   \n",
      "2005-01-01    125434781    +8.3%      138   908947   \n",
      "2006-01-01    151932513   +21.1%      172   883328   \n",
      "2007-01-01    182979491   +20.4%      301   607905   \n",
      "2008-01-01    228144925   +24.7%      326   699831   \n",
      "2009-01-01    189412970     -17%      312   607092   \n",
      "2010-01-01    395780391    +109%      312  1268526   \n",
      "2011-01-01    232006061   -41.4%      338   686408   \n",
      "2012-01-01    258927238   +11.6%      345   750513   \n",
      "2013-01-01    248676065      -4%      346   718716   \n",
      "2014-01-01    256469748    +3.1%      297   863534   \n",
      "2015-01-01    208444598   -18.7%      324   643347   \n",
      "2016-01-01    212337060    +1.9%      404   525586   \n",
      "2017-01-01    223902914    +5.4%      424   528072   \n",
      "2018-01-01    180649098   -19.3%      462   391015   \n",
      "2019-01-01    158828872   -12.1%      437   363452   \n",
      "2020-01-01     37670024   -76.3%      152   247829   \n",
      "2021-01-01     17323833     -54%       67   258564   \n",
      "2022-01-01     71851732  +314.8%      286   251229   \n",
      "2023-01-01     33097324        -      115   287802   \n",
      "\n",
      "                                       #1 Release\\n  \n",
      "Year                                                 \n",
      "2002-01-01  Harry Potter and the Chamber of Secrets  \n",
      "2003-01-01                      Asmali Konak: Hayat  \n",
      "2004-01-01                                 G.O.R.A.  \n",
      "2005-01-01          The Chaos Class in the Military  \n",
      "2006-01-01               Valley of the Wolves: Iraq  \n",
      "2007-01-01                          The White Angel  \n",
      "2008-01-01                             Recep Ivedik  \n",
      "2009-01-01                           Recep Ivedik 2  \n",
      "2010-01-01                         Act of Vengeance  \n",
      "2011-01-01                           Eyyvah Eyvah 2  \n",
      "2012-01-01                            Conquest 1453  \n",
      "2013-01-01                   CM101MMXI Fundamentals  \n",
      "2014-01-01                           Recep Ivedik 4  \n",
      "2015-01-01                   Dügün Dernek 2: Sünnet  \n",
      "2016-01-01                          Osman Pazarlama  \n",
      "2017-01-01                           Recep Ivedik 5  \n",
      "2018-01-01                                   Muslum  \n",
      "2019-01-01                    Miracle in Cell No. 7  \n",
      "2020-01-01                         Eltilerin Savasi  \n",
      "2021-01-01                  Spider-Man: No Way Home  \n",
      "2022-01-01                                   Bergen  \n",
      "2023-01-01             Rafadan Tayfa Galaktik Tayfa  \n"
     ]
    }
   ],
   "source": [
    "print(df)"
   ]
  },
  {
   "cell_type": "code",
   "execution_count": 122,
   "metadata": {},
   "outputs": [
    {
     "data": {
      "image/png": "[encoded data removed]",
      "text/plain": [
       "<Figure size 1000x500 with 1 Axes>"
      ]
     },
     "metadata": {},
     "output_type": "display_data"
    }
   ],
   "source": [
    "from matplotlib.ticker import ScalarFormatter\n",
    "plt.figure(figsize= (10, 5))\n",
    "ax = df['Total Gross'].plot(kind='bar')\n",
    "\n",
    "# Customize the y-axis tick labels\n",
    "y_formatter = ScalarFormatter(useOffset=False)\n",
    "ax.yaxis.set_major_formatter(y_formatter)\n",
    "\n",
    "# Add a description of the y-axis units\n",
    "plt.text(1, ax.get_ylim()[1], '단위: 천만달러', va='bottom')\n",
    "\n",
    "# Customize the x-axis tick labels\n",
    "plt.xticks(range(len(df)), df.index.year, rotation = 0)\n",
    "\n",
    "plt.show()"
   ]
  },
  {
   "attachments": {},
   "cell_type": "markdown",
   "metadata": {},
   "source": [
    "### CGV 실적 "
   ]
  },
  {
   "cell_type": "code",
   "execution_count": 145,
   "metadata": {},
   "outputs": [
    {
     "name": "stdout",
     "output_type": "stream",
     "text": [
      "['https://m.irgo.co.kr/IR자료/53541/TB/CJ-CGV-CJ-CGV-2022년-4분기-영업실적발표', 'https://m.irgo.co.kr/IR자료/52360/TB/CJ-CGV-CJ-CGV-2022년-3분기-영업실적발표', 'https://m.irgo.co.kr/IR자료/50794/TB/CJ-CGV-CJ-CGV-2022년-2분기-영업실적발표', 'https://m.irgo.co.kr/IR일정/27446/TCPI/CJ-CGV-CJ-CGV-2022년-4분기-영업실적발표', 'https://m.irgo.co.kr/IR일정/26837/TCPI/CJ-CGV-CJ-CGV-2022년-3분기-영업실적발표', 'https://m.irgo.co.kr/IR일정/26108/TCPI/CJ-CGV-CJ-CGV-2022년-2분기-영업실적발표']\n"
     ]
    }
   ],
   "source": [
    "from bs4 import BeautifulSoup\n",
    "\n",
    "\n",
    "#html 추출\n",
    "\n",
    "url = \"https://m.irgo.co.kr/IR-COMP/079160/CJ%20CGV-IR-PAGE\"\n",
    "response = requests.get(url)\n",
    "html = response.text\n",
    "\n",
    "soup = BeautifulSoup(html, \"html.parser\")\n",
    "data_hrefs = []\n",
    "if True:\n",
    "    lis = soup.find_all('li', {'class': 'clearfix ir_information'})\n",
    "    for li in lis:\n",
    "        data_href = li['data-href']\n",
    "        data_hrefs.append(data_href)\n",
    "print(data_hrefs)"
   ]
  },
  {
   "cell_type": "code",
   "execution_count": 146,
   "metadata": {},
   "outputs": [
    {
     "data": {
      "text/html": [
       "<div>\n",
       "<style scoped>\n",
       "    .dataframe tbody tr th:only-of-type {\n",
       "        vertical-align: middle;\n",
       "    }\n",
       "\n",
       "    .dataframe tbody tr th {\n",
       "        vertical-align: top;\n",
       "    }\n",
       "\n",
       "    .dataframe thead th {\n",
       "        text-align: right;\n",
       "    }\n",
       "</style>\n",
       "<table border=\"1\" class=\"dataframe\">\n",
       "  <thead>\n",
       "    <tr style=\"text-align: right;\">\n",
       "      <th></th>\n",
       "      <th>0</th>\n",
       "    </tr>\n",
       "  </thead>\n",
       "  <tbody>\n",
       "    <tr>\n",
       "      <th>0</th>\n",
       "      <td>https://m.irgo.co.kr/IR자료/53541/TB/CJ-CGV-CJ-C...</td>\n",
       "    </tr>\n",
       "    <tr>\n",
       "      <th>1</th>\n",
       "      <td>https://m.irgo.co.kr/IR자료/52360/TB/CJ-CGV-CJ-C...</td>\n",
       "    </tr>\n",
       "    <tr>\n",
       "      <th>2</th>\n",
       "      <td>https://m.irgo.co.kr/IR자료/50794/TB/CJ-CGV-CJ-C...</td>\n",
       "    </tr>\n",
       "    <tr>\n",
       "      <th>3</th>\n",
       "      <td>https://m.irgo.co.kr/IR일정/27446/TCPI/CJ-CGV-CJ...</td>\n",
       "    </tr>\n",
       "    <tr>\n",
       "      <th>4</th>\n",
       "      <td>https://m.irgo.co.kr/IR일정/26837/TCPI/CJ-CGV-CJ...</td>\n",
       "    </tr>\n",
       "    <tr>\n",
       "      <th>5</th>\n",
       "      <td>https://m.irgo.co.kr/IR일정/26108/TCPI/CJ-CGV-CJ...</td>\n",
       "    </tr>\n",
       "  </tbody>\n",
       "</table>\n",
       "</div>"
      ],
      "text/plain": [
       "                                                   0\n",
       "0  https://m.irgo.co.kr/IR자료/53541/TB/CJ-CGV-CJ-C...\n",
       "1  https://m.irgo.co.kr/IR자료/52360/TB/CJ-CGV-CJ-C...\n",
       "2  https://m.irgo.co.kr/IR자료/50794/TB/CJ-CGV-CJ-C...\n",
       "3  https://m.irgo.co.kr/IR일정/27446/TCPI/CJ-CGV-CJ...\n",
       "4  https://m.irgo.co.kr/IR일정/26837/TCPI/CJ-CGV-CJ...\n",
       "5  https://m.irgo.co.kr/IR일정/26108/TCPI/CJ-CGV-CJ..."
      ]
     },
     "execution_count": 146,
     "metadata": {},
     "output_type": "execute_result"
    }
   ],
   "source": [
    "pd.DataFrame(data_hrefs)"
   ]
  },
  {
   "cell_type": "code",
   "execution_count": null,
   "metadata": {},
   "outputs": [],
   "source": [
    "#tab2 > div > div:nth-child(1) > ul > li:nth-child(1)\n",
    "\n",
    "#tab2 > div > div:nth-child(1) > ul > li:nth-child(2)\n",
    "\n",
    "#tab2 > div > div:nth-child(1) > ul > li:nth-child(14)"
   ]
  },
  {
   "cell_type": "code",
   "execution_count": 164,
   "metadata": {},
   "outputs": [],
   "source": [
    "from selenium import webdriver\n",
    "from bs4 import BeautifulSoup\n",
    "from selenium.webdriver.common.by import By\n",
    "import time\n",
    "\n",
    "url = \"https://m.irgo.co.kr/IR-COMP/079160/CJ%20CGV-IR-PAGE\"\n",
    "driver = webdriver.Chrome()\n",
    "driver.get(url)\n",
    "\n",
    "# \"더보기\" 버튼 클릭\n",
    "more_button = driver.find_element(By.ID, \"IRData-data-load-more\")\n",
    "more_button.click()\n",
    "time.sleep(1)\n",
    "more_button.click()\n",
    "time.sleep(1)\n",
    "more_button.click()\n",
    "time.sleep(1)\n",
    "more_button.click()\n",
    "time.sleep(1)\n",
    "more_button.click()\n",
    "\n",
    "# 웹 스크래핑\n",
    "html = driver.page_source\n",
    "soup = BeautifulSoup(html, \"html.parser\")\n",
    "datalist = soup.find('ul', {'class': 'dataList IRData'})\n",
    "lis = datalist.find_all('li', {'class': 'clearfix ir_information'})\n",
    "ir_list =[]\n",
    "for li in lis:\n",
    "    ir_list.append(li['data-href'])\n"
   ]
  },
  {
   "cell_type": "code",
   "execution_count": 170,
   "metadata": {},
   "outputs": [
    {
     "name": "stdout",
     "output_type": "stream",
     "text": [
      "['https://m.irgo.co.kr/IR자료/53541/TB/CJ-CGV-CJ-CGV-2022년-4분기-영업실적발표', 'https://m.irgo.co.kr/IR자료/52360/TB/CJ-CGV-CJ-CGV-2022년-3분기-영업실적발표', 'https://m.irgo.co.kr/IR자료/50794/TB/CJ-CGV-CJ-CGV-2022년-2분기-영업실적발표', 'https://m.irgo.co.kr/IR자료/49271/TB/CJ-CGV-CJ-CGV-2022년-1분기-영업실적발표', 'https://m.irgo.co.kr/IR자료/47715/TB/CJ-CGV-CJ-CGV-2021년-4분기-영업실적발표', 'https://m.irgo.co.kr/IR자료/46262/TB/CJ-CGV-CJ-CGV-2021년-3분기-영업실적발표', 'https://m.irgo.co.kr/IR자료/44792/TB/CJ-CGV-CJ-CGV-2021년-상반기-영업실적발표', 'https://m.irgo.co.kr/IR자료/43306/TB/CJ-CGV-CJ-CGV-2021년-1분기-영업실적-발표온라인', 'https://m.irgo.co.kr/IR자료/38455/TB/CJ-CGV-CJ-CGV-2020년-4분기-영업실적발표온라인', 'https://m.irgo.co.kr/IR자료/36769/TB/CJ-CGV-CJ-CGV-2020년-3분기-영업실적-발표국내', 'https://m.irgo.co.kr/IR자료/34983/TB/CJ-CGV-CJ-CGV-2020년-2분기-영업실적발표국내', 'https://m.irgo.co.kr/IR자료/33099/TB/CJ-CGV-CJ-CGV-2020년-1분기-영업실적발표국내', 'https://m.irgo.co.kr/IR자료/28803/TB/CJ-CGV-CJ-CGV-2019년-4분기-영업실적-발표국내', 'https://m.irgo.co.kr/IR자료/27632/TB/CJ-CGV-2019년-3분기-실적자료', 'https://m.irgo.co.kr/IR자료/26358/TB/CJ-CGV-2019년-2분기-실적자료', 'https://m.irgo.co.kr/IR자료/25627/TB/CJ-CGV-CJ-CGV-2018-IR신뢰지표-우수-기업-선정', 'https://m.irgo.co.kr/IR자료/24730/TB/CJ-CGV-2019년-1분기-실적자료', 'https://m.irgo.co.kr/IR자료/19247/TB/CJ-CGV-CJ-CGV-2018년-4분기-영업실적-발표국내']\n"
     ]
    }
   ],
   "source": [
    "print(ir_list)\n",
    "import os"
   ]
  },
  {
   "cell_type": "code",
   "execution_count": 169,
   "metadata": {},
   "outputs": [
    {
     "ename": "AttributeError",
     "evalue": "'NoneType' object has no attribute 'find'",
     "output_type": "error",
     "traceback": [
      "\u001b[1;31m---------------------------------------------------------------------------\u001b[0m",
      "\u001b[1;31mAttributeError\u001b[0m                            Traceback (most recent call last)",
      "Cell \u001b[1;32mIn[169], line 6\u001b[0m\n\u001b[0;32m      4\u001b[0m soup \u001b[39m=\u001b[39m BeautifulSoup(html, \u001b[39m\"\u001b[39m\u001b[39mhtml.parser\u001b[39m\u001b[39m\"\u001b[39m)\n\u001b[0;32m      5\u001b[0m pdf_element \u001b[39m=\u001b[39m soup\u001b[39m.\u001b[39mfind(\u001b[39m'\u001b[39m\u001b[39mdd\u001b[39m\u001b[39m'\u001b[39m, {\u001b[39m'\u001b[39m\u001b[39mclass\u001b[39m\u001b[39m'\u001b[39m: \u001b[39m'\u001b[39m\u001b[39mtxt-ellipsis file_pd\u001b[39m\u001b[39m'\u001b[39m})\n\u001b[1;32m----> 6\u001b[0m pdf_url \u001b[39m=\u001b[39m pdf_element\u001b[39m.\u001b[39;49mfind(\u001b[39m'\u001b[39m\u001b[39ma\u001b[39m\u001b[39m'\u001b[39m)[\u001b[39m'\u001b[39m\u001b[39mhref\u001b[39m\u001b[39m'\u001b[39m]\n\u001b[0;32m      7\u001b[0m pdf_name \u001b[39m=\u001b[39m os\u001b[39m.\u001b[39mpath\u001b[39m.\u001b[39mbasename(link)\u001b[39m.\u001b[39msplit(\u001b[39m'\u001b[39m\u001b[39m-\u001b[39m\u001b[39m'\u001b[39m)[\u001b[39m2\u001b[39m:\u001b[39m5\u001b[39m]\n\u001b[0;32m      8\u001b[0m pdf_name \u001b[39m=\u001b[39m \u001b[39m'\u001b[39m\u001b[39m-\u001b[39m\u001b[39m'\u001b[39m\u001b[39m.\u001b[39mjoin(pdf_name) \u001b[39m+\u001b[39m \u001b[39m'\u001b[39m\u001b[39m.pdf\u001b[39m\u001b[39m'\u001b[39m\n",
      "\u001b[1;31mAttributeError\u001b[0m: 'NoneType' object has no attribute 'find'"
     ]
    }
   ],
   "source": [
    "for link in ir_list:\n",
    "    response = requests.get(link)\n",
    "    html = response.text\n",
    "    soup = BeautifulSoup(html, \"html.parser\")\n",
    "    pdf_element = soup.find('dd', {'class': 'txt-ellipsis file_pd'})\n",
    "    pdf_url = pdf_element.find('a')['href']\n",
    "    pdf_name = os.path.basename(pdf_url)\n",
    "    with open(pdf_name, 'wb') as f:\n",
    "        f.write(requests.get(pdf_url).content)"
   ]
  },
  {
   "cell_type": "code",
   "execution_count": 172,
   "metadata": {},
   "outputs": [
    {
     "ename": "AttributeError",
     "evalue": "'NoneType' object has no attribute 'find'",
     "output_type": "error",
     "traceback": [
      "\u001b[1;31m---------------------------------------------------------------------------\u001b[0m",
      "\u001b[1;31mAttributeError\u001b[0m                            Traceback (most recent call last)",
      "Cell \u001b[1;32mIn[172], line 6\u001b[0m\n\u001b[0;32m      4\u001b[0m soup \u001b[39m=\u001b[39m BeautifulSoup(html, \u001b[39m\"\u001b[39m\u001b[39mhtml.parser\u001b[39m\u001b[39m\"\u001b[39m)\n\u001b[0;32m      5\u001b[0m pdf_element \u001b[39m=\u001b[39m soup\u001b[39m.\u001b[39mfind(\u001b[39m'\u001b[39m\u001b[39mdd\u001b[39m\u001b[39m'\u001b[39m, {\u001b[39m'\u001b[39m\u001b[39mclass\u001b[39m\u001b[39m'\u001b[39m: \u001b[39m'\u001b[39m\u001b[39mtxt-ellipsis file_pd\u001b[39m\u001b[39m'\u001b[39m})\n\u001b[1;32m----> 6\u001b[0m pdf_url \u001b[39m=\u001b[39m pdf_element\u001b[39m.\u001b[39;49mfind(\u001b[39m'\u001b[39m\u001b[39ma\u001b[39m\u001b[39m'\u001b[39m)[\u001b[39m'\u001b[39m\u001b[39mhref\u001b[39m\u001b[39m'\u001b[39m]\n\u001b[0;32m      7\u001b[0m pdf_name \u001b[39m=\u001b[39m os\u001b[39m.\u001b[39mpath\u001b[39m.\u001b[39mbasename(link)\u001b[39m.\u001b[39msplit(\u001b[39m'\u001b[39m\u001b[39m-\u001b[39m\u001b[39m'\u001b[39m)\n\u001b[0;32m      8\u001b[0m pdf_name \u001b[39m=\u001b[39m \u001b[39m'\u001b[39m\u001b[39m-\u001b[39m\u001b[39m'\u001b[39m\u001b[39m.\u001b[39mjoin(pdf_name) \u001b[39m+\u001b[39m \u001b[39m'\u001b[39m\u001b[39m.pdf\u001b[39m\u001b[39m'\u001b[39m\n",
      "\u001b[1;31mAttributeError\u001b[0m: 'NoneType' object has no attribute 'find'"
     ]
    }
   ],
   "source": [
    "for link in ir_list:\n",
    "    response = requests.get(link)\n",
    "    html = response.text\n",
    "    soup = BeautifulSoup(html, \"html.parser\")\n",
    "    pdf_element = soup.find('dd', {'class': 'txt-ellipsis file_pd'})\n",
    "    pdf_url = pdf_element.find('a')['href']\n",
    "    pdf_name = os.path.basename(link).split('-')\n",
    "    pdf_name = '-'.join(pdf_name) + '.pdf'\n",
    "    with open(pdf_name, 'wb') as f:\n",
    "        f.write(requests.get(pdf_url).content)"
   ]
  },
  {
   "cell_type": "code",
   "execution_count": 174,
   "metadata": {},
   "outputs": [
    {
     "name": "stdout",
     "output_type": "stream",
     "text": [
      "  Unnamed: 0  Unnamed: 1 4Q '19       FY '19 Unnamed: 2  Unnamed: 3  \\\n",
      "0        매출액         NaN    550          NaN        521        5.6%   \n",
      "1        NaN         NaN    193     13048.5%        366    26140.2%   \n",
      "2        NaN         NaN  35.1%  25.0%10.1%p      25.1%  15.6%9.5%p   \n",
      "3       영업이익         NaN    122          NaN        100       22.0%   \n",
      "4      22.2%  19.2%3.0%p   4.5%   7.6%▲3.0%p        NaN         NaN   \n",
      "5        NaN         NaN    NaN          NaN        NaN         NaN   \n",
      "\n",
      "   Unnamed: 4 Unnamed: 5  Unnamed: 6 Unnamed: 7 Unnamed: 8  \n",
      "0         NaN      1,456         NaN      1,677     ▲13.2%  \n",
      "1         NaN        NaN         NaN        NaN        NaN  \n",
      "2         NaN        NaN         NaN        NaN        NaN  \n",
      "3         NaN         66         NaN        127     ▲48.0%  \n",
      "4         NaN        NaN         NaN        NaN        NaN  \n",
      "5         NaN        NaN         NaN        NaN        NaN  \n",
      "  Unnamed: 0  Unnamed: 1 4Q '19       FY '19 Unnamed: 2   Unnamed: 3  \\\n",
      "0        매출액         NaN    419          NaN        308        36.0%   \n",
      "1        NaN         NaN    120     31287.1%        571    214166.8%   \n",
      "2        NaN         NaN  28.6%  10.1%18.6%p      30.7%  15.6%15.1%p   \n",
      "3       영업이익         NaN     25          NaN         ▲6         흑자전환   \n",
      "4       6.0%  ▲1.9%7.9%p  10.9%    5.7%5.2%p        NaN          NaN   \n",
      "5        NaN         NaN    NaN          NaN        NaN          NaN   \n",
      "\n",
      "   Unnamed: 4 Unnamed: 5  Unnamed: 6 Unnamed: 7 Unnamed: 8  \n",
      "0         NaN      1,861         NaN      1,376      35.2%  \n",
      "1         NaN        NaN         NaN        NaN        NaN  \n",
      "2         NaN        NaN         NaN        NaN        NaN  \n",
      "3         NaN        202         NaN         79     155.7%  \n",
      "4         NaN        NaN         NaN        NaN        NaN  \n",
      "5         NaN        NaN         NaN        NaN        NaN  \n"
     ]
    }
   ],
   "source": [
    "import tabula\n",
    "\n",
    "pdf_path = r\"C:\\Users\\HwijunKwon\\Desktop\\project\\investing_python\\CGV\\CJ-CGV-CJ-CGV-2019년-4분기-영업실적-발표국내.pdf\"\n",
    "dfs = tabula.read_pdf(pdf_path, pages=6, multiple_tables=True, lattice= True)\n",
    "\n",
    "for df in dfs:\n",
    "    print(df)"
   ]
  },
  {
   "cell_type": "code",
   "execution_count": null,
   "metadata": {},
   "outputs": [],
   "source": []
  },
  {
   "cell_type": "code",
   "execution_count": 178,
   "metadata": {},
   "outputs": [
    {
     "ename": "TesseractNotFoundError",
     "evalue": "tesseract is not installed or it's not in your PATH. See README file for more information.",
     "output_type": "error",
     "traceback": [
      "\u001b[1;31m---------------------------------------------------------------------------\u001b[0m",
      "\u001b[1;31mFileNotFoundError\u001b[0m                         Traceback (most recent call last)",
      "File \u001b[1;32mc:\\Users\\HwijunKwon\\AppData\\Local\\Programs\\Python\\Python311\\Lib\\site-packages\\pytesseract\\pytesseract.py:255\u001b[0m, in \u001b[0;36mrun_tesseract\u001b[1;34m(input_filename, output_filename_base, extension, lang, config, nice, timeout)\u001b[0m\n\u001b[0;32m    254\u001b[0m \u001b[39mtry\u001b[39;00m:\n\u001b[1;32m--> 255\u001b[0m     proc \u001b[39m=\u001b[39m subprocess\u001b[39m.\u001b[39;49mPopen(cmd_args, \u001b[39m*\u001b[39;49m\u001b[39m*\u001b[39;49msubprocess_args())\n\u001b[0;32m    256\u001b[0m \u001b[39mexcept\u001b[39;00m \u001b[39mOSError\u001b[39;00m \u001b[39mas\u001b[39;00m e:\n",
      "File \u001b[1;32mc:\\Users\\HwijunKwon\\AppData\\Local\\Programs\\Python\\Python311\\Lib\\subprocess.py:1024\u001b[0m, in \u001b[0;36mPopen.__init__\u001b[1;34m(self, args, bufsize, executable, stdin, stdout, stderr, preexec_fn, close_fds, shell, cwd, env, universal_newlines, startupinfo, creationflags, restore_signals, start_new_session, pass_fds, user, group, extra_groups, encoding, errors, text, umask, pipesize, process_group)\u001b[0m\n\u001b[0;32m   1021\u001b[0m             \u001b[39mself\u001b[39m\u001b[39m.\u001b[39mstderr \u001b[39m=\u001b[39m io\u001b[39m.\u001b[39mTextIOWrapper(\u001b[39mself\u001b[39m\u001b[39m.\u001b[39mstderr,\n\u001b[0;32m   1022\u001b[0m                     encoding\u001b[39m=\u001b[39mencoding, errors\u001b[39m=\u001b[39merrors)\n\u001b[1;32m-> 1024\u001b[0m     \u001b[39mself\u001b[39;49m\u001b[39m.\u001b[39;49m_execute_child(args, executable, preexec_fn, close_fds,\n\u001b[0;32m   1025\u001b[0m                         pass_fds, cwd, env,\n\u001b[0;32m   1026\u001b[0m                         startupinfo, creationflags, shell,\n\u001b[0;32m   1027\u001b[0m                         p2cread, p2cwrite,\n\u001b[0;32m   1028\u001b[0m                         c2pread, c2pwrite,\n\u001b[0;32m   1029\u001b[0m                         errread, errwrite,\n\u001b[0;32m   1030\u001b[0m                         restore_signals,\n\u001b[0;32m   1031\u001b[0m                         gid, gids, uid, umask,\n\u001b[0;32m   1032\u001b[0m                         start_new_session, process_group)\n\u001b[0;32m   1033\u001b[0m \u001b[39mexcept\u001b[39;00m:\n\u001b[0;32m   1034\u001b[0m     \u001b[39m# Cleanup if the child failed starting.\u001b[39;00m\n",
      "File \u001b[1;32mc:\\Users\\HwijunKwon\\AppData\\Local\\Programs\\Python\\Python311\\Lib\\subprocess.py:1493\u001b[0m, in \u001b[0;36mPopen._execute_child\u001b[1;34m(self, args, executable, preexec_fn, close_fds, pass_fds, cwd, env, startupinfo, creationflags, shell, p2cread, p2cwrite, c2pread, c2pwrite, errread, errwrite, unused_restore_signals, unused_gid, unused_gids, unused_uid, unused_umask, unused_start_new_session, unused_process_group)\u001b[0m\n\u001b[0;32m   1492\u001b[0m \u001b[39mtry\u001b[39;00m:\n\u001b[1;32m-> 1493\u001b[0m     hp, ht, pid, tid \u001b[39m=\u001b[39m _winapi\u001b[39m.\u001b[39mCreateProcess(executable, args,\n\u001b[0;32m   1494\u001b[0m                              \u001b[39m# no special security\u001b[39;00m\n\u001b[0;32m   1495\u001b[0m                              \u001b[39mNone\u001b[39;00m, \u001b[39mNone\u001b[39;00m,\n\u001b[0;32m   1496\u001b[0m                              \u001b[39mint\u001b[39m(\u001b[39mnot\u001b[39;00m close_fds),\n\u001b[0;32m   1497\u001b[0m                              creationflags,\n\u001b[0;32m   1498\u001b[0m                              env,\n\u001b[0;32m   1499\u001b[0m                              cwd,\n\u001b[0;32m   1500\u001b[0m                              startupinfo)\n\u001b[0;32m   1501\u001b[0m \u001b[39mfinally\u001b[39;00m:\n\u001b[0;32m   1502\u001b[0m     \u001b[39m# Child is launched. Close the parent's copy of those pipe\u001b[39;00m\n\u001b[0;32m   1503\u001b[0m     \u001b[39m# handles that only the child should have open.  You need\u001b[39;00m\n\u001b[1;32m   (...)\u001b[0m\n\u001b[0;32m   1506\u001b[0m     \u001b[39m# pipe will not close when the child process exits and the\u001b[39;00m\n\u001b[0;32m   1507\u001b[0m     \u001b[39m# ReadFile will hang.\u001b[39;00m\n",
      "\u001b[1;31mFileNotFoundError\u001b[0m: [WinError 2] 지정된 파일을 찾을 수 없습니다",
      "\nDuring handling of the above exception, another exception occurred:\n",
      "\u001b[1;31mTesseractNotFoundError\u001b[0m                    Traceback (most recent call last)",
      "Cell \u001b[1;32mIn[178], line 5\u001b[0m\n\u001b[0;32m      2\u001b[0m \u001b[39mfrom\u001b[39;00m \u001b[39mPIL\u001b[39;00m \u001b[39mimport\u001b[39;00m Image\n\u001b[0;32m      4\u001b[0m image_path \u001b[39m=\u001b[39m \u001b[39m\"\u001b[39m\u001b[39mC:/Users/HwijunKwon/Pictures/invest/19_4Q.png\u001b[39m\u001b[39m\"\u001b[39m\n\u001b[1;32m----> 5\u001b[0m text \u001b[39m=\u001b[39m pytesseract\u001b[39m.\u001b[39;49mimage_to_string(Image\u001b[39m.\u001b[39;49mopen(image_path), lang\u001b[39m=\u001b[39;49m\u001b[39m'\u001b[39;49m\u001b[39mkor\u001b[39;49m\u001b[39m'\u001b[39;49m)\n\u001b[0;32m      6\u001b[0m \u001b[39mprint\u001b[39m(text)\n",
      "File \u001b[1;32mc:\\Users\\HwijunKwon\\AppData\\Local\\Programs\\Python\\Python311\\Lib\\site-packages\\pytesseract\\pytesseract.py:423\u001b[0m, in \u001b[0;36mimage_to_string\u001b[1;34m(image, lang, config, nice, output_type, timeout)\u001b[0m\n\u001b[0;32m    418\u001b[0m \u001b[39m\u001b[39m\u001b[39m\"\"\"\u001b[39;00m\n\u001b[0;32m    419\u001b[0m \u001b[39mReturns the result of a Tesseract OCR run on the provided image to string\u001b[39;00m\n\u001b[0;32m    420\u001b[0m \u001b[39m\"\"\"\u001b[39;00m\n\u001b[0;32m    421\u001b[0m args \u001b[39m=\u001b[39m [image, \u001b[39m'\u001b[39m\u001b[39mtxt\u001b[39m\u001b[39m'\u001b[39m, lang, config, nice, timeout]\n\u001b[1;32m--> 423\u001b[0m \u001b[39mreturn\u001b[39;00m {\n\u001b[0;32m    424\u001b[0m     Output\u001b[39m.\u001b[39;49mBYTES: \u001b[39mlambda\u001b[39;49;00m: run_and_get_output(\u001b[39m*\u001b[39;49m(args \u001b[39m+\u001b[39;49m [\u001b[39mTrue\u001b[39;49;00m])),\n\u001b[0;32m    425\u001b[0m     Output\u001b[39m.\u001b[39;49mDICT: \u001b[39mlambda\u001b[39;49;00m: {\u001b[39m'\u001b[39;49m\u001b[39mtext\u001b[39;49m\u001b[39m'\u001b[39;49m: run_and_get_output(\u001b[39m*\u001b[39;49margs)},\n\u001b[0;32m    426\u001b[0m     Output\u001b[39m.\u001b[39;49mSTRING: \u001b[39mlambda\u001b[39;49;00m: run_and_get_output(\u001b[39m*\u001b[39;49margs),\n\u001b[0;32m    427\u001b[0m }[output_type]()\n",
      "File \u001b[1;32mc:\\Users\\HwijunKwon\\AppData\\Local\\Programs\\Python\\Python311\\Lib\\site-packages\\pytesseract\\pytesseract.py:426\u001b[0m, in \u001b[0;36mimage_to_string.<locals>.<lambda>\u001b[1;34m()\u001b[0m\n\u001b[0;32m    418\u001b[0m \u001b[39m\u001b[39m\u001b[39m\"\"\"\u001b[39;00m\n\u001b[0;32m    419\u001b[0m \u001b[39mReturns the result of a Tesseract OCR run on the provided image to string\u001b[39;00m\n\u001b[0;32m    420\u001b[0m \u001b[39m\"\"\"\u001b[39;00m\n\u001b[0;32m    421\u001b[0m args \u001b[39m=\u001b[39m [image, \u001b[39m'\u001b[39m\u001b[39mtxt\u001b[39m\u001b[39m'\u001b[39m, lang, config, nice, timeout]\n\u001b[0;32m    423\u001b[0m \u001b[39mreturn\u001b[39;00m {\n\u001b[0;32m    424\u001b[0m     Output\u001b[39m.\u001b[39mBYTES: \u001b[39mlambda\u001b[39;00m: run_and_get_output(\u001b[39m*\u001b[39m(args \u001b[39m+\u001b[39m [\u001b[39mTrue\u001b[39;00m])),\n\u001b[0;32m    425\u001b[0m     Output\u001b[39m.\u001b[39mDICT: \u001b[39mlambda\u001b[39;00m: {\u001b[39m'\u001b[39m\u001b[39mtext\u001b[39m\u001b[39m'\u001b[39m: run_and_get_output(\u001b[39m*\u001b[39margs)},\n\u001b[1;32m--> 426\u001b[0m     Output\u001b[39m.\u001b[39mSTRING: \u001b[39mlambda\u001b[39;00m: run_and_get_output(\u001b[39m*\u001b[39;49margs),\n\u001b[0;32m    427\u001b[0m }[output_type]()\n",
      "File \u001b[1;32mc:\\Users\\HwijunKwon\\AppData\\Local\\Programs\\Python\\Python311\\Lib\\site-packages\\pytesseract\\pytesseract.py:288\u001b[0m, in \u001b[0;36mrun_and_get_output\u001b[1;34m(image, extension, lang, config, nice, timeout, return_bytes)\u001b[0m\n\u001b[0;32m    277\u001b[0m \u001b[39mwith\u001b[39;00m save(image) \u001b[39mas\u001b[39;00m (temp_name, input_filename):\n\u001b[0;32m    278\u001b[0m     kwargs \u001b[39m=\u001b[39m {\n\u001b[0;32m    279\u001b[0m         \u001b[39m'\u001b[39m\u001b[39minput_filename\u001b[39m\u001b[39m'\u001b[39m: input_filename,\n\u001b[0;32m    280\u001b[0m         \u001b[39m'\u001b[39m\u001b[39moutput_filename_base\u001b[39m\u001b[39m'\u001b[39m: temp_name,\n\u001b[1;32m   (...)\u001b[0m\n\u001b[0;32m    285\u001b[0m         \u001b[39m'\u001b[39m\u001b[39mtimeout\u001b[39m\u001b[39m'\u001b[39m: timeout,\n\u001b[0;32m    286\u001b[0m     }\n\u001b[1;32m--> 288\u001b[0m     run_tesseract(\u001b[39m*\u001b[39;49m\u001b[39m*\u001b[39;49mkwargs)\n\u001b[0;32m    289\u001b[0m     filename \u001b[39m=\u001b[39m \u001b[39mf\u001b[39m\u001b[39m\"\u001b[39m\u001b[39m{\u001b[39;00mkwargs[\u001b[39m'\u001b[39m\u001b[39moutput_filename_base\u001b[39m\u001b[39m'\u001b[39m]\u001b[39m}\u001b[39;00m\u001b[39m{\u001b[39;00mextsep\u001b[39m}\u001b[39;00m\u001b[39m{\u001b[39;00mextension\u001b[39m}\u001b[39;00m\u001b[39m\"\u001b[39m\n\u001b[0;32m    290\u001b[0m     \u001b[39mwith\u001b[39;00m \u001b[39mopen\u001b[39m(filename, \u001b[39m'\u001b[39m\u001b[39mrb\u001b[39m\u001b[39m'\u001b[39m) \u001b[39mas\u001b[39;00m output_file:\n",
      "File \u001b[1;32mc:\\Users\\HwijunKwon\\AppData\\Local\\Programs\\Python\\Python311\\Lib\\site-packages\\pytesseract\\pytesseract.py:260\u001b[0m, in \u001b[0;36mrun_tesseract\u001b[1;34m(input_filename, output_filename_base, extension, lang, config, nice, timeout)\u001b[0m\n\u001b[0;32m    258\u001b[0m         \u001b[39mraise\u001b[39;00m\n\u001b[0;32m    259\u001b[0m     \u001b[39melse\u001b[39;00m:\n\u001b[1;32m--> 260\u001b[0m         \u001b[39mraise\u001b[39;00m TesseractNotFoundError()\n\u001b[0;32m    262\u001b[0m \u001b[39mwith\u001b[39;00m timeout_manager(proc, timeout) \u001b[39mas\u001b[39;00m error_string:\n\u001b[0;32m    263\u001b[0m     \u001b[39mif\u001b[39;00m proc\u001b[39m.\u001b[39mreturncode:\n",
      "\u001b[1;31mTesseractNotFoundError\u001b[0m: tesseract is not installed or it's not in your PATH. See README file for more information."
     ]
    }
   ],
   "source": [
    "import pytesseract\n",
    "from PIL import Image\n",
    "\n",
    "image_path = \"C:/Users/HwijunKwon/Pictures/invest/19_4Q.png\"\n",
    "text = pytesseract.image_to_string(Image.open(image_path), lang='kor')\n",
    "print(text)"
   ]
  },
  {
   "attachments": {},
   "cell_type": "markdown",
   "metadata": {},
   "source": [
    "### CGV 매출 데이터 만들기"
   ]
  }
 ],
 "metadata": {
  "kernelspec": {
   "display_name": "Python 3",
   "language": "python",
   "name": "python3"
  },
  "language_info": {
   "codemirror_mode": {
    "name": "ipython",
    "version": 3
   },
   "file_extension": ".py",
   "mimetype": "text/x-python",
   "name": "python",
   "nbconvert_exporter": "python",
   "pygments_lexer": "ipython3",
   "version": "3.11.1"
  },
  "orig_nbformat": 4
 },
 "nbformat": 4,
 "nbformat_minor": 2
}
