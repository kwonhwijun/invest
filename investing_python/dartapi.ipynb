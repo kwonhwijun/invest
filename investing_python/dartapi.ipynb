{
 "cells": [
  {
   "cell_type": "code",
   "execution_count": 10,
   "metadata": {},
   "outputs": [],
   "source": [
    "import requests"
   ]
  },
  {
   "cell_type": "code",
   "execution_count": 6,
   "metadata": {},
   "outputs": [
    {
     "name": "stdout",
     "output_type": "stream",
     "text": [
      "https://opendart.fss.or.kr/api/fnlttSinglAcnt.xml?crtfc_key=e6ef535160372ff7b3a880036c22ab8b4fce4fdd&corp_code=00126380&bsns_year=2018&reprt_code=11011\n",
      "False\n"
     ]
    }
   ],
   "source": [
    "api_key = 'e6ef535160372ff7b3a880036c22ab8b4fce4fdd'\n",
    "source_url = 'https://opendart.fss.or.kr/api/fnlttSinglAcnt.xml?crtfc_key='\n",
    "corp_code = \"00126380\"\n",
    "bsns_year = \"2018\"\n",
    "reprt_code = \"11011\"\n",
    "\n",
    "full_api = source_url + api_key + \"&corp_code=\" + corp_code + \"&bsns_year=\" + bsns_year + \"&reprt_code=\" + reprt_code\n",
    "print(full_api)\n",
    "print(full_api == \"https://opendart.fss.or.kr/api/fnlttSinglAcnt.xml?crtfc_key=xxxxxxxxxxxxxxxxxxxxxxxxxxxxxxxxxxxxxxxx&corp_code=00126380&bsns_year=2018&reprt_code=11011\")"
   ]
  },
  {
   "cell_type": "code",
   "execution_count": 8,
   "metadata": {},
   "outputs": [
    {
     "name": "stdout",
     "output_type": "stream",
     "text": [
      "<?xml version=\"1.0\" encoding=\"UTF-8\" standalone=\"yes\"?><html><body><result><status>000</status><message>정상</message><list><rcept_no>20190401004781</rcept_no><reprt_code>11011</reprt_code><bsns_year>2018</bsns_year><corp_code>00126380</corp_code><stock_code>005930</stock_code><fs_div>CFS</fs_div><fs_nm>연결재무제표</fs_nm><sj_div>BS</sj_div><sj_nm>재무상태표</sj_nm><account_nm>유동자산</account_nm><thstrm_nm>제 50 기</thstrm_nm><thstrm_dt>2018.12.31 현재</thstrm_dt><thstrm_amount>174,697,424,000,000</thstrm_amount><frmtrm_nm>제 49 기</frmtrm_nm><frmtrm_dt>2017.12.31 현재</frmtrm_dt><frmtrm_amount>146,982,464,000,000</frmtrm_amount><bfefrmtrm_nm>제 48 기</bfefrmtrm_nm><bfefrmtrm_dt>2016.12.31 현재</bfefrmtrm_dt><bfefrmtrm_amount>141,429,704,000,000</bfefrmtrm_amount><ord>1</ord><currency>KRW</currency></list><list><rcept_no>20190401004781</rcept_no><reprt_code>11011</reprt_code><bsns_year>2018</bsns_year><corp_code>00126380</corp_code><stock_code>005930</stock_code><fs_div>CFS</fs_div><fs_nm>연결재무제표</fs_nm><sj_div>BS</sj_div><sj_nm>재무상태표</sj_nm><account_nm>비유동자산</account_nm><thstrm_nm>제 50 기</thstrm_nm><thstrm_dt>2018.12.31 현재</thstrm_dt><thstrm_amount>164,659,820,000,000</thstrm_amount><frmtrm_nm>제 49 기</frmtrm_nm><frmtrm_dt>2017.12.31 현재</frmtrm_dt><frmtrm_amount>154,769,626,000,000</frmtrm_amount><bfefrmtrm_nm>제 48 기</bfefrmtrm_nm><bfefrmtrm_dt>2016.12.31 현재</bfefrmtrm_dt><bfefrmtrm_amount>120,744,620,000,000</bfefrmtrm_amount><ord>3</ord><currency>KRW</currency></list><list><rcept_no>20190401004781</rcept_no><reprt_code>11011</reprt_code><bsns_year>2018</bsns_year><corp_code>00126380</corp_code><stock_code>005930</stock_code><fs_div>CFS</fs_div><fs_nm>연결재무제표</fs_nm><sj_div>BS</sj_div><sj_nm>재무상태표</sj_nm><account_nm>자산총계</account_nm><thstrm_nm>제 50 기</thstrm_nm><thstrm_dt>2018.12.31 현재</thstrm_dt><thstrm_amount>339,357,244,000,000</thstrm_amount><frmtrm_nm>제 49 기</frmtrm_nm><frmtrm_dt>2017.12.31 현재</frmtrm_dt><frmtrm_amount>301,752,090,000,000</frmtrm_amount><bfefrmtrm_nm>제 48 기</bfefrmtrm_nm><bfefrmtrm_dt>2016.12.31 현재</bfefrmtrm_dt><bfefrmtrm_amount>262,174,324,000,000</bfefrmtrm_amount><ord>5</ord><currency>KRW</currency></list><list><rcept_no>20190401004781</rcept_no><reprt_code>11011</reprt_code><bsns_year>2018</bsns_year><corp_code>00126380</corp_code><stock_code>005930</stock_code><fs_div>CFS</fs_div><fs_nm>연결재무제표</fs_nm><sj_div>BS</sj_div><sj_nm>재무상태표</sj_nm><account_nm>유동부채</account_nm><thstrm_nm>제 50 기</thstrm_nm><thstrm_dt>2018.12.31 현재</thstrm_dt><thstrm_amount>69,081,510,000,000</thstrm_amount><frmtrm_nm>제 49 기</frmtrm_nm><frmtrm_dt>2017.12.31 현재</frmtrm_dt><frmtrm_amount>67,175,114,000,000</frmtrm_amount><bfefrmtrm_nm>제 48 기</bfefrmtrm_nm><bfefrmtrm_dt>2016.12.31 현재</bfefrmtrm_dt><bfefrmtrm_amount>54,704,095,000,000</bfefrmtrm_amount><ord>7</ord><currency>KRW</currency></list><list><rcept_no>20190401004781</rcept_no><reprt_code>11011</reprt_code><bsns_year>2018</bsns_year><corp_code>00126380</corp_code><stock_code>005930</stock_code><fs_div>CFS</fs_div><fs_nm>연결재무제표</fs_nm><sj_div>BS</sj_div><sj_nm>재무상태표</sj_nm><account_nm>비유동부채</account_nm><thstrm_nm>제 50 기</thstrm_nm><thstrm_dt>2018.12.31 현재</thstrm_dt><thstrm_amount>22,522,557,000,000</thstrm_amount><frmtrm_nm>제 49 기</frmtrm_nm><frmtrm_dt>2017.12.31 현재</frmtrm_dt><frmtrm_amount>20,085,548,000,000</frmtrm_amount><bfefrmtrm_nm>제 48 기</bfefrmtrm_nm><bfefrmtrm_dt>2016.12.31 현재</bfefrmtrm_dt><bfefrmtrm_amount>14,507,196,000,000</bfefrmtrm_amount><ord>9</ord><currency>KRW</currency></list><list><rcept_no>20190401004781</rcept_no><reprt_code>11011</reprt_code><bsns_year>2018</bsns_year><corp_code>00126380</corp_code><stock_code>005930</stock_code><fs_div>CFS</fs_div><fs_nm>연결재무제표</fs_nm><sj_div>BS</sj_div><sj_nm>재무상태표</sj_nm><account_nm>부채총계</account_nm><thstrm_nm>제 50 기</thstrm_nm><thstrm_dt>2018.12.31 현재</thstrm_dt><thstrm_amount>91,604,067,000,000</thstrm_amount><frmtrm_nm>제 49 기</frmtrm_nm><frmtrm_dt>2017.12.31 현재</frmtrm_dt><frmtrm_amount>87,260,662,000,000</frmtrm_amount><bfefrmtrm_nm>제 48 기</bfefrmtrm_nm><bfefrmtrm_dt>2016.12.31 현재</bfefrmtrm_dt><bfefrmtrm_amount>69,211,291,000,000</bfefrmtrm_amount><ord>11</ord><currency>KRW</currency></list><list><rcept_no>20190401004781</rcept_no><reprt_code>11011</reprt_code><bsns_year>2018</bsns_year><corp_code>00126380</corp_code><stock_code>005930</stock_code><fs_div>CFS</fs_div><fs_nm>연결재무제표</fs_nm><sj_div>BS</sj_div><sj_nm>재무상태표</sj_nm><account_nm>자본금</account_nm><thstrm_nm>제 50 기</thstrm_nm><thstrm_dt>2018.12.31 현재</thstrm_dt><thstrm_amount>897,514,000,000</thstrm_amount><frmtrm_nm>제 49 기</frmtrm_nm><frmtrm_dt>2017.12.31 현재</frmtrm_dt><frmtrm_amount>897,514,000,000</frmtrm_amount><bfefrmtrm_nm>제 48 기</bfefrmtrm_nm><bfefrmtrm_dt>2016.12.31 현재</bfefrmtrm_dt><bfefrmtrm_amount>897,514,000,000</bfefrmtrm_amount><ord>13</ord><currency>KRW</currency></list><list><rcept_no>20190401004781</rcept_no><reprt_code>11011</reprt_code><bsns_year>2018</bsns_year><corp_code>00126380</corp_code><stock_code>005930</stock_code><fs_div>CFS</fs_div><fs_nm>연결재무제표</fs_nm><sj_div>BS</sj_div><sj_nm>재무상태표</sj_nm><account_nm>이익잉여금</account_nm><thstrm_nm>제 50 기</thstrm_nm><thstrm_dt>2018.12.31 현재</thstrm_dt><thstrm_amount>242,698,956,000,000</thstrm_amount><frmtrm_nm>제 49 기</frmtrm_nm><frmtrm_dt>2017.12.31 현재</frmtrm_dt><frmtrm_amount>215,811,200,000,000</frmtrm_amount><bfefrmtrm_nm>제 48 기</bfefrmtrm_nm><bfefrmtrm_dt>2016.12.31 현재</bfefrmtrm_dt><bfefrmtrm_amount>193,086,317,000,000</bfefrmtrm_amount><ord>17</ord><currency>KRW</currency></list><list><rcept_no>20190401004781</rcept_no><reprt_code>11011</reprt_code><bsns_year>2018</bsns_year><corp_code>00126380</corp_code><stock_code>005930</stock_code><fs_div>CFS</fs_div><fs_nm>연결재무제표</fs_nm><sj_div>BS</sj_div><sj_nm>재무상태표</sj_nm><account_nm>자본총계</account_nm><thstrm_nm>제 50 기</thstrm_nm><thstrm_dt>2018.12.31 현재</thstrm_dt><thstrm_amount>247,753,177,000,000</thstrm_amount><frmtrm_nm>제 49 기</frmtrm_nm><frmtrm_dt>2017.12.31 현재</frmtrm_dt><frmtrm_amount>214,491,428,000,000</frmtrm_amount><bfefrmtrm_nm>제 48 기</bfefrmtrm_nm><bfefrmtrm_dt>2016.12.31 현재</bfefrmtrm_dt><bfefrmtrm_amount>192,963,033,000,000</bfefrmtrm_amount><ord>21</ord><currency>KRW</currency></list><list><rcept_no>20190401004781</rcept_no><reprt_code>11011</reprt_code><bsns_year>2018</bsns_year><corp_code>00126380</corp_code><stock_code>005930</stock_code><fs_div>CFS</fs_div><fs_nm>연결재무제표</fs_nm><sj_div>IS</sj_div><sj_nm>손익계산서</sj_nm><account_nm>매출액</account_nm><thstrm_nm>제 50 기</thstrm_nm><thstrm_dt>2018.01.01 ~ 2018.12.31</thstrm_dt><thstrm_amount>243,771,415,000,000</thstrm_amount><frmtrm_nm>제 49 기</frmtrm_nm><frmtrm_dt>2017.01.01 ~ 2017.12.31</frmtrm_dt><frmtrm_amount>239,575,376,000,000</frmtrm_amount><bfefrmtrm_nm>제 48 기</bfefrmtrm_nm><bfefrmtrm_dt>2016.01.01 ~ 2016.12.31</bfefrmtrm_dt><bfefrmtrm_amount>201,866,745,000,000</bfefrmtrm_amount><ord>23</ord><currency>KRW</currency></list><list><rcept_no>20190401004781</rcept_no><reprt_code>11011</reprt_code><bsns_year>2018</bsns_year><corp_code>00126380</corp_code><stock_code>005930</stock_code><fs_div>CFS</fs_div><fs_nm>연결재무제표</fs_nm><sj_div>IS</sj_div><sj_nm>손익계산서</sj_nm><account_nm>영업이익</account_nm><thstrm_nm>제 50 기</thstrm_nm><thstrm_dt>2018.01.01 ~ 2018.12.31</thstrm_dt><thstrm_amount>58,886,669,000,000</thstrm_amount><frmtrm_nm>제 49 기</frmtrm_nm><frmtrm_dt>2017.01.01 ~ 2017.12.31</frmtrm_dt><frmtrm_amount>53,645,038,000,000</frmtrm_amount><bfefrmtrm_nm>제 48 기</bfefrmtrm_nm><bfefrmtrm_dt>2016.01.01 ~ 2016.12.31</bfefrmtrm_dt><bfefrmtrm_amount>29,240,672,000,000</bfefrmtrm_amount><ord>25</ord><currency>KRW</currency></list><list><rcept_no>20190401004781</rcept_no><reprt_code>11011</reprt_code><bsns_year>2018</bsns_year><corp_code>00126380</corp_code><stock_code>005930</stock_code><fs_div>CFS</fs_div><fs_nm>연결재무제표</fs_nm><sj_div>IS</sj_div><sj_nm>손익계산서</sj_nm><account_nm>법인세차감전 순이익</account_nm><thstrm_nm>제 50 기</thstrm_nm><thstrm_dt>2018.01.01 ~ 2018.12.31</thstrm_dt><thstrm_amount>61,159,958,000,000</thstrm_amount><frmtrm_nm>제 49 기</frmtrm_nm><frmtrm_dt>2017.01.01 ~ 2017.12.31</frmtrm_dt><frmtrm_amount>56,195,967,000,000</frmtrm_amount><bfefrmtrm_nm>제 48 기</bfefrmtrm_nm><bfefrmtrm_dt>2016.01.01 ~ 2016.12.31</bfefrmtrm_dt><bfefrmtrm_amount>30,713,652,000,000</bfefrmtrm_amount><ord>27</ord><currency>KRW</currency></list><list><rcept_no>20190401004781</rcept_no><reprt_code>11011</reprt_code><bsns_year>2018</bsns_year><corp_code>00126380</corp_code><stock_code>005930</stock_code><fs_div>CFS</fs_div><fs_nm>연결재무제표</fs_nm><sj_div>IS</sj_div><sj_nm>손익계산서</sj_nm><account_nm>당기순이익</account_nm><thstrm_nm>제 50 기</thstrm_nm><thstrm_dt>2018.01.01 ~ 2018.12.31</thstrm_dt><thstrm_amount>44,344,857,000,000</thstrm_amount><frmtrm_nm>제 49 기</frmtrm_nm><frmtrm_dt>2017.01.01 ~ 2017.12.31</frmtrm_dt><frmtrm_amount>42,186,747,000,000</frmtrm_amount><bfefrmtrm_nm>제 48 기</bfefrmtrm_nm><bfefrmtrm_dt>2016.01.01 ~ 2016.12.31</bfefrmtrm_dt><bfefrmtrm_amount>22,726,092,000,000</bfefrmtrm_amount><ord>29</ord><currency>KRW</currency></list><list><rcept_no>20190401004781</rcept_no><reprt_code>11011</reprt_code><bsns_year>2018</bsns_year><corp_code>00126380</corp_code><stock_code>005930</stock_code><fs_div>OFS</fs_div><fs_nm>재무제표</fs_nm><sj_div>BS</sj_div><sj_nm>재무상태표</sj_nm><account_nm>유동자산</account_nm><thstrm_nm>제 50 기</thstrm_nm><thstrm_dt>2018.12.31 현재</thstrm_dt><thstrm_amount>80,039,455,000,000</thstrm_amount><frmtrm_nm>제 49 기</frmtrm_nm><frmtrm_dt>2017.12.31 현재</frmtrm_dt><frmtrm_amount>70,155,189,000,000</frmtrm_amount><bfefrmtrm_nm>제 48 기</bfefrmtrm_nm><bfefrmtrm_dt>2016.12.31 현재</bfefrmtrm_dt><bfefrmtrm_amount>69,981,128,000,000</bfefrmtrm_amount><ord>2</ord><currency>KRW</currency></list><list><rcept_no>20190401004781</rcept_no><reprt_code>11011</reprt_code><bsns_year>2018</bsns_year><corp_code>00126380</corp_code><stock_code>005930</stock_code><fs_div>OFS</fs_div><fs_nm>재무제표</fs_nm><sj_div>BS</sj_div><sj_nm>재무상태표</sj_nm><account_nm>비유동자산</account_nm><thstrm_nm>제 50 기</thstrm_nm><thstrm_dt>2018.12.31 현재</thstrm_dt><thstrm_amount>138,981,902,000,000</thstrm_amount><frmtrm_nm>제 49 기</frmtrm_nm><frmtrm_dt>2017.12.31 현재</frmtrm_dt><frmtrm_amount>128,086,171,000,000</frmtrm_amount><bfefrmtrm_nm>제 48 기</bfefrmtrm_nm><bfefrmtrm_dt>2016.12.31 현재</bfefrmtrm_dt><bfefrmtrm_amount>104,821,831,000,000</bfefrmtrm_amount><ord>4</ord><currency>KRW</currency></list><list><rcept_no>20190401004781</rcept_no><reprt_code>11011</reprt_code><bsns_year>2018</bsns_year><corp_code>00126380</corp_code><stock_code>005930</stock_code><fs_div>OFS</fs_div><fs_nm>재무제표</fs_nm><sj_div>BS</sj_div><sj_nm>재무상태표</sj_nm><account_nm>자산총계</account_nm><thstrm_nm>제 50 기</thstrm_nm><thstrm_dt>2018.12.31 현재</thstrm_dt><thstrm_amount>219,021,357,000,000</thstrm_amount><frmtrm_nm>제 49 기</frmtrm_nm><frmtrm_dt>2017.12.31 현재</frmtrm_dt><frmtrm_amount>198,241,360,000,000</frmtrm_amount><bfefrmtrm_nm>제 48 기</bfefrmtrm_nm><bfefrmtrm_dt>2016.12.31 현재</bfefrmtrm_dt><bfefrmtrm_amount>174,802,959,000,000</bfefrmtrm_amount><ord>6</ord><currency>KRW</currency></list><list><rcept_no>20190401004781</rcept_no><reprt_code>11011</reprt_code><bsns_year>2018</bsns_year><corp_code>00126380</corp_code><stock_code>005930</stock_code><fs_div>OFS</fs_div><fs_nm>재무제표</fs_nm><sj_div>BS</sj_div><sj_nm>재무상태표</sj_nm><account_nm>유동부채</account_nm><thstrm_nm>제 50 기</thstrm_nm><thstrm_dt>2018.12.31 현재</thstrm_dt><thstrm_amount>43,145,053,000,000</thstrm_amount><frmtrm_nm>제 49 기</frmtrm_nm><frmtrm_dt>2017.12.31 현재</frmtrm_dt><frmtrm_amount>44,495,084,000,000</frmtrm_amount><bfefrmtrm_nm>제 48 기</bfefrmtrm_nm><bfefrmtrm_dt>2016.12.31 현재</bfefrmtrm_dt><bfefrmtrm_amount>34,076,122,000,000</bfefrmtrm_amount><ord>8</ord><currency>KRW</currency></list><list><rcept_no>20190401004781</rcept_no><reprt_code>11011</reprt_code><bsns_year>2018</bsns_year><corp_code>00126380</corp_code><stock_code>005930</stock_code><fs_div>OFS</fs_div><fs_nm>재무제표</fs_nm><sj_div>BS</sj_div><sj_nm>재무상태표</sj_nm><account_nm>비유동부채</account_nm><thstrm_nm>제 50 기</thstrm_nm><thstrm_dt>2018.12.31 현재</thstrm_dt><thstrm_amount>2,888,179,000,000</thstrm_amount><frmtrm_nm>제 49 기</frmtrm_nm><frmtrm_dt>2017.12.31 현재</frmtrm_dt><frmtrm_amount>2,176,501,000,000</frmtrm_amount><bfefrmtrm_nm>제 48 기</bfefrmtrm_nm><bfefrmtrm_dt>2016.12.31 현재</bfefrmtrm_dt><bfefrmtrm_amount>3,180,075,000,000</bfefrmtrm_amount><ord>10</ord><currency>KRW</currency></list><list><rcept_no>20190401004781</rcept_no><reprt_code>11011</reprt_code><bsns_year>2018</bsns_year><corp_code>00126380</corp_code><stock_code>005930</stock_code><fs_div>OFS</fs_div><fs_nm>재무제표</fs_nm><sj_div>BS</sj_div><sj_nm>재무상태표</sj_nm><account_nm>부채총계</account_nm><thstrm_nm>제 50 기</thstrm_nm><thstrm_dt>2018.12.31 현재</thstrm_dt><thstrm_amount>46,033,232,000,000</thstrm_amount><frmtrm_nm>제 49 기</frmtrm_nm><frmtrm_dt>2017.12.31 현재</frmtrm_dt><frmtrm_amount>46,671,585,000,000</frmtrm_amount><bfefrmtrm_nm>제 48 기</bfefrmtrm_nm><bfefrmtrm_dt>2016.12.31 현재</bfefrmtrm_dt><bfefrmtrm_amount>37,256,197,000,000</bfefrmtrm_amount><ord>12</ord><currency>KRW</currency></list><list><rcept_no>20190401004781</rcept_no><reprt_code>11011</reprt_code><bsns_year>2018</bsns_year><corp_code>00126380</corp_code><stock_code>005930</stock_code><fs_div>OFS</fs_div><fs_nm>재무제표</fs_nm><sj_div>BS</sj_div><sj_nm>재무상태표</sj_nm><account_nm>자본금</account_nm><thstrm_nm>제 50 기</thstrm_nm><thstrm_dt>2018.12.31 현재</thstrm_dt><thstrm_amount>897,514,000,000</thstrm_amount><frmtrm_nm>제 49 기</frmtrm_nm><frmtrm_dt>2017.12.31 현재</frmtrm_dt><frmtrm_amount>897,514,000,000</frmtrm_amount><bfefrmtrm_nm>제 48 기</bfefrmtrm_nm><bfefrmtrm_dt>2016.12.31 현재</bfefrmtrm_dt><bfefrmtrm_amount>897,514,000,000</bfefrmtrm_amount><ord>15</ord><currency>KRW</currency></list><list><rcept_no>20190401004781</rcept_no><reprt_code>11011</reprt_code><bsns_year>2018</bsns_year><corp_code>00126380</corp_code><stock_code>005930</stock_code><fs_div>OFS</fs_div><fs_nm>재무제표</fs_nm><sj_div>BS</sj_div><sj_nm>재무상태표</sj_nm><account_nm>이익잉여금</account_nm><thstrm_nm>제 50 기</thstrm_nm><thstrm_dt>2018.12.31 현재</thstrm_dt><thstrm_amount>166,555,532,000,000</thstrm_amount><frmtrm_nm>제 49 기</frmtrm_nm><frmtrm_dt>2017.12.31 현재</frmtrm_dt><frmtrm_amount>150,928,724,000,000</frmtrm_amount><bfefrmtrm_nm>제 48 기</bfefrmtrm_nm><bfefrmtrm_dt>2016.12.31 현재</bfefrmtrm_dt><bfefrmtrm_amount>140,747,574,000,000</bfefrmtrm_amount><ord>19</ord><currency>KRW</currency></list><list><rcept_no>20190401004781</rcept_no><reprt_code>11011</reprt_code><bsns_year>2018</bsns_year><corp_code>00126380</corp_code><stock_code>005930</stock_code><fs_div>OFS</fs_div><fs_nm>재무제표</fs_nm><sj_div>BS</sj_div><sj_nm>재무상태표</sj_nm><account_nm>자본총계</account_nm><thstrm_nm>제 50 기</thstrm_nm><thstrm_dt>2018.12.31 현재</thstrm_dt><thstrm_amount>172,988,125,000,000</thstrm_amount><frmtrm_nm>제 49 기</frmtrm_nm><frmtrm_dt>2017.12.31 현재</frmtrm_dt><frmtrm_amount>151,569,775,000,000</frmtrm_amount><bfefrmtrm_nm>제 48 기</bfefrmtrm_nm><bfefrmtrm_dt>2016.12.31 현재</bfefrmtrm_dt><bfefrmtrm_amount>137,546,762,000,000</bfefrmtrm_amount><ord>22</ord><currency>KRW</currency></list><list><rcept_no>20190401004781</rcept_no><reprt_code>11011</reprt_code><bsns_year>2018</bsns_year><corp_code>00126380</corp_code><stock_code>005930</stock_code><fs_div>OFS</fs_div><fs_nm>재무제표</fs_nm><sj_div>IS</sj_div><sj_nm>손익계산서</sj_nm><account_nm>매출액</account_nm><thstrm_nm>제 50 기</thstrm_nm><thstrm_dt>2018.01.01 ~ 2018.12.31</thstrm_dt><thstrm_amount>170,381,870,000,000</thstrm_amount><frmtrm_nm>제 49 기</frmtrm_nm><frmtrm_dt>2017.01.01 ~ 2017.12.31</frmtrm_dt><frmtrm_amount>161,915,007,000,000</frmtrm_amount><bfefrmtrm_nm>제 48 기</bfefrmtrm_nm><bfefrmtrm_dt>2016.01.01 ~ 2016.12.31</bfefrmtrm_dt><bfefrmtrm_amount>133,947,204,000,000</bfefrmtrm_amount><ord>24</ord><currency>KRW</currency></list><list><rcept_no>20190401004781</rcept_no><reprt_code>11011</reprt_code><bsns_year>2018</bsns_year><corp_code>00126380</corp_code><stock_code>005930</stock_code><fs_div>OFS</fs_div><fs_nm>재무제표</fs_nm><sj_div>IS</sj_div><sj_nm>손익계산서</sj_nm><account_nm>영업이익</account_nm><thstrm_nm>제 50 기</thstrm_nm><thstrm_dt>2018.01.01 ~ 2018.12.31</thstrm_dt><thstrm_amount>43,699,451,000,000</thstrm_amount><frmtrm_nm>제 49 기</frmtrm_nm><frmtrm_dt>2017.01.01 ~ 2017.12.31</frmtrm_dt><frmtrm_amount>34,857,091,000,000</frmtrm_amount><bfefrmtrm_nm>제 48 기</bfefrmtrm_nm><bfefrmtrm_dt>2016.01.01 ~ 2016.12.31</bfefrmtrm_dt><bfefrmtrm_amount>13,647,436,000,000</bfefrmtrm_amount><ord>26</ord><currency>KRW</currency></list><list><rcept_no>20190401004781</rcept_no><reprt_code>11011</reprt_code><bsns_year>2018</bsns_year><corp_code>00126380</corp_code><stock_code>005930</stock_code><fs_div>OFS</fs_div><fs_nm>재무제표</fs_nm><sj_div>IS</sj_div><sj_nm>손익계산서</sj_nm><account_nm>법인세차감전 순이익</account_nm><thstrm_nm>제 50 기</thstrm_nm><thstrm_dt>2018.01.01 ~ 2018.12.31</thstrm_dt><thstrm_amount>44,398,855,000,000</thstrm_amount><frmtrm_nm>제 49 기</frmtrm_nm><frmtrm_dt>2017.01.01 ~ 2017.12.31</frmtrm_dt><frmtrm_amount>36,533,552,000,000</frmtrm_amount><bfefrmtrm_nm>제 48 기</bfefrmtrm_nm><bfefrmtrm_dt>2016.01.01 ~ 2016.12.31</bfefrmtrm_dt><bfefrmtrm_amount>14,725,074,000,000</bfefrmtrm_amount><ord>28</ord><currency>KRW</currency></list><list><rcept_no>20190401004781</rcept_no><reprt_code>11011</reprt_code><bsns_year>2018</bsns_year><corp_code>00126380</corp_code><stock_code>005930</stock_code><fs_div>OFS</fs_div><fs_nm>재무제표</fs_nm><sj_div>IS</sj_div><sj_nm>손익계산서</sj_nm><account_nm>당기순이익</account_nm><thstrm_nm>제 50 기</thstrm_nm><thstrm_dt>2018.01.01 ~ 2018.12.31</thstrm_dt><thstrm_amount>32,815,127,000,000</thstrm_amount><frmtrm_nm>제 49 기</frmtrm_nm><frmtrm_dt>2017.01.01 ~ 2017.12.31</frmtrm_dt><frmtrm_amount>28,800,837,000,000</frmtrm_amount><bfefrmtrm_nm>제 48 기</bfefrmtrm_nm><bfefrmtrm_dt>2016.01.01 ~ 2016.12.31</bfefrmtrm_dt><bfefrmtrm_amount>11,579,749,000,000</bfefrmtrm_amount><ord>30</ord><currency>KRW</currency></list></result></body></html>\n"
     ]
    },
    {
     "name": "stderr",
     "output_type": "stream",
     "text": [
      "c:\\Users\\HwijunKwon\\AppData\\Local\\Programs\\Python\\Python311\\Lib\\site-packages\\bs4\\builder\\__init__.py:545: XMLParsedAsHTMLWarning: It looks like you're parsing an XML document using an HTML parser. If this really is an HTML document (maybe it's XHTML?), you can ignore or filter this warning. If it's XML, you should know that using an XML parser will be more reliable. To parse this document as XML, make sure you have the lxml package installed, and pass the keyword argument `features=\"xml\"` into the BeautifulSoup constructor.\n",
      "  warnings.warn(\n"
     ]
    }
   ],
   "source": [
    "response = requests.get(\"https://opendart.fss.or.kr/api/fnlttSinglAcnt.xml?crtfc_key=xxxxxxxxxxxxxxxxxxxxxxxxxxxxxxxxxxxxxxxx&corp_code=00126380&bsns_year=2018&reprt_code=11011\")\n",
    "soup = BeautifulSoup(response.text, \"lxml\")\n",
    "print(soup)"
   ]
  },
  {
   "cell_type": "code",
   "execution_count": 9,
   "metadata": {},
   "outputs": [],
   "source": [
    "import pandas"
   ]
  },
  {
   "cell_type": "code",
   "execution_count": null,
   "metadata": {},
   "outputs": [],
   "source": []
  },
  {
   "cell_type": "code",
   "execution_count": null,
   "metadata": {},
   "outputs": [],
   "source": [
    "import dart_fss as dart\n",
    "\n",
    "# Open DART API KEY 설정\n",
    "api_key='e6ef535160372ff7b3a880036c22ab8b4fce4fdd'\n",
    "dart.set_api_key(api_key=api_key)\n",
    "\n",
    "# DART 에 공시된 회사 리스트 불러오기\n",
    "corp_list = dart.get_corp_list()\n",
    "\n",
    "# 삼성전자 검색\n",
    "samsung = corp_list.find_by_corp_name('삼성전자', exactly=True)[0]\n",
    "\n",
    "# 2012년부터 연간 연결재무제표 불러오기\n",
    "fs = samsung.extract_fs(bgn_de='20120101')\n",
    "\n",
    "# 재무제표 검색 결과를 엑셀파일로 저장 ( 기본저장위치: 실행폴더/fsdata )\n",
    "fs.save()"
   ]
  }
 ],
 "metadata": {
  "kernelspec": {
   "display_name": "Python 3",
   "language": "python",
   "name": "python3"
  },
  "language_info": {
   "codemirror_mode": {
    "name": "ipython",
    "version": 3
   },
   "file_extension": ".py",
   "mimetype": "text/x-python",
   "name": "python",
   "nbconvert_exporter": "python",
   "pygments_lexer": "ipython3",
   "version": "3.11.1"
  },
  "orig_nbformat": 4,
  "vscode": {
   "interpreter": {
    "hash": "7721fe99840d5deeed9e1922b3af716f8257560c3467418d9a8ef429ebdbd3ba"
   }
  }
 },
 "nbformat": 4,
 "nbformat_minor": 2
}
