{
 "cells": [
  {
   "cell_type": "code",
   "execution_count": null,
   "metadata": {},
   "outputs": [],
   "source": [
    "import requests\n",
    "from bs4 import BeautifulSoup"
   ]
  },
  {
   "cell_type": "code",
   "execution_count": null,
   "metadata": {},
   "outputs": [],
   "source": [
    "api_key = 'e6ef535160372ff7b3a880036c22ab8b4fce4fdd'\n",
    "source_url = 'https://opendart.fss.or.kr/api/fnlttSinglAcnt.xml?crtfc_key='\n",
    "corp_code = \"00126380\"\n",
    "bsns_year = \"2018\"\n",
    "reprt_code = \"11011\"\n",
    "\n",
    "\n",
    "\n",
    "full_api = api_key + source_url + \"&corp_code=\" + corp_code + \"&bsns_year=\" + bsns_year + \"&reprt_code=\" + reprt_code\n",
    "print(full_api)"
   ]
  },
  {
   "cell_type": "code",
   "execution_count": null,
   "metadata": {},
   "outputs": [],
   "source": [
    "import dart_fss as dart\n",
    "\n",
    "# Open DART API KEY 설정\n",
    "api_key='e6ef535160372ff7b3a880036c22ab8b4fce4fdd'\n",
    "dart.set_api_key(api_key=api_key)\n",
    "\n",
    "# DART 에 공시된 회사 리스트 불러오기\n",
    "corp_list = dart.get_corp_list()\n",
    "\n",
    "# 삼성전자 검색\n",
    "samsung = corp_list.find_by_corp_name('삼성전자', exactly=True)[0]\n",
    "\n",
    "# 2012년부터 연간 연결재무제표 불러오기\n",
    "fs = samsung.extract_fs(bgn_de='20120101')\n",
    "\n",
    "# 재무제표 검색 결과를 엑셀파일로 저장 ( 기본저장위치: 실행폴더/fsdata )\n",
    "fs.save()"
   ]
  }
 ],
 "metadata": {
  "kernelspec": {
   "display_name": "Python 3",
   "language": "python",
   "name": "python3"
  },
  "language_info": {
   "codemirror_mode": {
    "name": "ipython",
    "version": 3
   },
   "file_extension": ".py",
   "mimetype": "text/x-python",
   "name": "python",
   "nbconvert_exporter": "python",
   "pygments_lexer": "ipython3",
   "version": "3.11.1"
  },
  "orig_nbformat": 4
 },
 "nbformat": 4,
 "nbformat_minor": 2
}
