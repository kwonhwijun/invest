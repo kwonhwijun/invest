{
 "cells": [
  {
   "cell_type": "code",
   "execution_count": 9,
   "metadata": {},
   "outputs": [],
   "source": [
    "import pandas as pd\n",
    "import datetime "
   ]
  },
  {
   "cell_type": "code",
   "execution_count": 12,
   "metadata": {},
   "outputs": [
    {
     "name": "stdout",
     "output_type": "stream",
     "text": [
      "[datetime.datetime(2011, 12, 31, 0, 0), datetime.datetime(2012, 12, 31, 0, 0), datetime.datetime(2013, 12, 31, 0, 0)]\n"
     ]
    }
   ],
   "source": [
    "449\t552\t515\t521\t669\t703\t862\t777\t1,220\t-3,887\t-2,414\t-768\n",
    "\n",
    "print(년도)"
   ]
  },
  {
   "cell_type": "code",
   "execution_count": 24,
   "metadata": {},
   "outputs": [
    {
     "name": "stdout",
     "output_type": "stream",
     "text": [
      "12 12 12\n",
      "       매출         년도  영업이익\n",
      "0    6285 2011-12-31   449\n",
      "1    7793 2012-12-31   552\n",
      "2    9159 2013-12-31   515\n",
      "3   10393 2014-12-31   521\n",
      "4   11935 2015-12-31   669\n",
      "5   14322 2016-12-31   703\n",
      "6   17144 2017-12-31   862\n",
      "7   17694 2018-12-31   777\n",
      "8   19423 2019-12-31  1220\n",
      "9    5834 2020-12-31 -3887\n",
      "10   7363 2021-12-31 -2414\n",
      "11  12813 2022-12-31  -768\n"
     ]
    }
   ],
   "source": [
    "매출데이터 = [6285, 7793, 9159, 10393, 11935, 14322, 17144, 17694, 19423, 5834, 7363, 12813]\n",
    "영업이익 = [449, 552, 515, 521,\t669, 703, 862, 777, 1220, -3887, -2414, -768]\n",
    "년도 = []\n",
    "for i in range(2011, 2023) :\n",
    "    년도.append(datetime.datetime(i, 12, 31))\n",
    "print(len(매출데이터), len(영업이익), len(년도))\n",
    "data = pd.DataFrame({'매출':매출데이터, '년도' : 년도, '영업이익' : 영업이익})\n",
    "print(data)\n"
   ]
  },
  {
   "cell_type": "code",
   "execution_count": 50,
   "metadata": {},
   "outputs": [
    {
     "name": "stdout",
     "output_type": "stream",
     "text": [
      "['2011', '2012', '2013', '2014', '2015', '2016', '2017', '2018', '2019', '2020', '2021', '2022']\n"
     ]
    }
   ],
   "source": [
    "\n",
    "기준년도 = [i.strftime(\"%Y\") for i in data[\"년도\"]]\n",
    "print(기준년도)"
   ]
  },
  {
   "cell_type": "code",
   "execution_count": 58,
   "metadata": {},
   "outputs": [
    {
     "data": {
      "text/plain": [
       "([<matplotlib.axis.XTick at 0x18a3ea29590>,\n",
       "  <matplotlib.axis.XTick at 0x18a3e96ddd0>,\n",
       "  <matplotlib.axis.XTick at 0x18a3c490190>,\n",
       "  <matplotlib.axis.XTick at 0x18a3bbfaf10>,\n",
       "  <matplotlib.axis.XTick at 0x18a3a4a1b10>,\n",
       "  <matplotlib.axis.XTick at 0x18a3c199850>,\n",
       "  <matplotlib.axis.XTick at 0x18a3c11e690>,\n",
       "  <matplotlib.axis.XTick at 0x18a3c14da10>,\n",
       "  <matplotlib.axis.XTick at 0x18a3bc35a90>,\n",
       "  <matplotlib.axis.XTick at 0x18a3bab5690>,\n",
       "  <matplotlib.axis.XTick at 0x18a3bc48b10>,\n",
       "  <matplotlib.axis.XTick at 0x18a3c199050>],\n",
       " [Text(0, 0, '2011'),\n",
       "  Text(1, 0, '2012'),\n",
       "  Text(2, 0, '2013'),\n",
       "  Text(3, 0, '2014'),\n",
       "  Text(4, 0, '2015'),\n",
       "  Text(5, 0, '2016'),\n",
       "  Text(6, 0, '2017'),\n",
       "  Text(7, 0, '2018'),\n",
       "  Text(8, 0, '2019'),\n",
       "  Text(9, 0, '2020'),\n",
       "  Text(10, 0, '2021'),\n",
       "  Text(11, 0, '2022')])"
      ]
     },
     "execution_count": 58,
     "metadata": {},
     "output_type": "execute_result"
    },
    {
     "name": "stderr",
     "output_type": "stream",
     "text": [
      "C:\\Users\\HwijunKwon\\AppData\\Roaming\\Python\\Python311\\site-packages\\IPython\\core\\events.py:89: UserWarning: Glyph 50613 (\\N{HANGUL SYLLABLE EOG}) missing from current font.\n",
      "  func(*args, **kwargs)\n",
      "C:\\Users\\HwijunKwon\\AppData\\Roaming\\Python\\Python311\\site-packages\\IPython\\core\\events.py:89: UserWarning: Glyph 50896 (\\N{HANGUL SYLLABLE WEON}) missing from current font.\n",
      "  func(*args, **kwargs)\n",
      "C:\\Users\\HwijunKwon\\AppData\\Roaming\\Python\\Python311\\site-packages\\IPython\\core\\pylabtools.py:152: UserWarning: Glyph 50613 (\\N{HANGUL SYLLABLE EOG}) missing from current font.\n",
      "  fig.canvas.print_figure(bytes_io, **kw)\n",
      "C:\\Users\\HwijunKwon\\AppData\\Roaming\\Python\\Python311\\site-packages\\IPython\\core\\pylabtools.py:152: UserWarning: Glyph 50896 (\\N{HANGUL SYLLABLE WEON}) missing from current font.\n",
      "  fig.canvas.print_figure(bytes_io, **kw)\n"
     ]
    },
    {
     "data": {
      "image/png": "[encoded data removed]",
      "text/plain": [
       "<Figure size 640x480 with 1 Axes>"
      ]
     },
     "metadata": {},
     "output_type": "display_data"
    }
   ],
   "source": [
    "import matplotlib.pyplot as plt\n",
    "import numpy as np\n",
    "import datetime as datetime\n",
    "\n",
    "nrow = data.shape[0]\n",
    "idx = np.arange(nrow)\n",
    "w= 0.15\n",
    "\n",
    "plt.title(\"CJ CGV 2011 ~ 2022\")\n",
    "plt.bar(idx, data[\"매출\"], label = \"Revenue\")\n",
    "plt.bar(idx, data[\"영업이익\"], label = \"OP\")\n",
    "plt.legend(ncol = nrow)\n",
    "plt.axhline(y=0)\n",
    "plt.xticks(idx, 기준년도, rotation = 30)"
   ]
  },
  {
   "attachments": {},
   "cell_type": "markdown",
   "metadata": {},
   "source": [
    "### 연도별 영화관람객 수\n"
   ]
  },
  {
   "attachments": {},
   "cell_type": "markdown",
   "metadata": {},
   "source": []
  },
  {
   "cell_type": "code",
   "execution_count": 59,
   "metadata": {},
   "outputs": [
    {
     "data": {
      "text/plain": [
       "'c:\\\\Users\\\\HwijunKwon\\\\Desktop\\\\project\\\\investing_python'"
      ]
     },
     "execution_count": 59,
     "metadata": {},
     "output_type": "execute_result"
    }
   ],
   "source": [
    "import os\n",
    "\n",
    "os.getcwd()"
   ]
  },
  {
   "cell_type": "code",
   "execution_count": null,
   "metadata": {},
   "outputs": [],
   "source": [
    "import pandas as pd"
   ]
  },
  {
   "cell_type": "code",
   "execution_count": null,
   "metadata": {},
   "outputs": [],
   "source": [
    "매출액\n",
    "1,235,799,464,200\n",
    "1,455,140,354,435\n",
    "1,551,351,984,721\n",
    "1,664,232,549,160\n",
    "1,715,501,571,678\n",
    "1,743,194,424,370\n",
    "1,756,577,851,113\n",
    "1,813,963,809,238\n",
    "1,913,989,080,068\n",
    "510,374,718,191\n",
    "584,538,988,400\n",
    "1,160,213,484,400\n"
   ]
  },
  {
   "cell_type": "code",
   "execution_count": null,
   "metadata": {},
   "outputs": [],
   "source": [
    "관객수\n",
    "159,724,465\n",
    "194,890,587\n",
    "213,351,030\n",
    "215,068,958\n",
    "217,299,523\n",
    "217,026,182\n",
    "219,876,227\n",
    "216,385,269\n",
    "226,678,777\n",
    "59,523,967\n",
    "60,531,087\n",
    "112,805,094\n"
   ]
  },
  {
   "attachments": {},
   "cell_type": "markdown",
   "metadata": {},
   "source": [
    "## CJ CGV 재무제표 그리기"
   ]
  },
  {
   "cell_type": "code",
   "execution_count": 6,
   "metadata": {},
   "outputs": [
    {
     "data": {
      "application/vnd.jupyter.widget-view+json": {
       "model_id": "71bf020699e047c58b32eb945259cacf",
       "version_major": 2,
       "version_minor": 0
      },
      "text/plain": [
       "Annual reports:   0%|          | 0/12 [00:00<?, ?report/s]"
      ]
     },
     "metadata": {},
     "output_type": "display_data"
    },
    {
     "ename": "KeyboardInterrupt",
     "evalue": "",
     "output_type": "error",
     "traceback": [
      "\u001b[1;31m---------------------------------------------------------------------------\u001b[0m",
      "\u001b[1;31mFileNotFoundError\u001b[0m                         Traceback (most recent call last)",
      "File \u001b[1;32mc:\\Users\\HwijunKwon\\AppData\\Local\\Programs\\Python\\Python311\\Lib\\site-packages\\dart_fss\\filings\\reports.py:386\u001b[0m, in \u001b[0;36mReport.load_xbrl\u001b[1;34m(self)\u001b[0m\n\u001b[0;32m    385\u001b[0m \u001b[39mtry\u001b[39;00m:\n\u001b[1;32m--> 386\u001b[0m     file_path \u001b[39m=\u001b[39m download_xbrl(path\u001b[39m=\u001b[39;49mpath, rcept_no\u001b[39m=\u001b[39;49m\u001b[39mself\u001b[39;49m\u001b[39m.\u001b[39;49mrcept_no)\n\u001b[0;32m    387\u001b[0m     \u001b[39mself\u001b[39m\u001b[39m.\u001b[39m_xbrl \u001b[39m=\u001b[39m get_xbrl_from_file(file_path)\n",
      "File \u001b[1;32mc:\\Users\\HwijunKwon\\AppData\\Local\\Programs\\Python\\Python311\\Lib\\site-packages\\dart_fss\\api\\finance\\xbrl.py:38\u001b[0m, in \u001b[0;36mdownload_xbrl\u001b[1;34m(path, rcept_no, reprt_code)\u001b[0m\n\u001b[0;32m     37\u001b[0m \u001b[39m# Request Download\u001b[39;00m\n\u001b[1;32m---> 38\u001b[0m resp \u001b[39m=\u001b[39m request\u001b[39m.\u001b[39;49mdownload(url\u001b[39m=\u001b[39;49murl, path\u001b[39m=\u001b[39;49mtemp, payload\u001b[39m=\u001b[39;49mpayload)\n\u001b[0;32m     39\u001b[0m download_path \u001b[39m=\u001b[39m resp[\u001b[39m'\u001b[39m\u001b[39mfull_path\u001b[39m\u001b[39m'\u001b[39m]\n",
      "File \u001b[1;32mc:\\Users\\HwijunKwon\\AppData\\Local\\Programs\\Python\\Python311\\Lib\\site-packages\\dart_fss\\utils\\request.py:248\u001b[0m, in \u001b[0;36mRequest.download\u001b[1;34m(self, url, path, filename, method, payload, referer, timeout)\u001b[0m\n\u001b[0;32m    247\u001b[0m \u001b[39mif\u001b[39;00m headers \u001b[39mis\u001b[39;00m \u001b[39mNone\u001b[39;00m \u001b[39mor\u001b[39;00m \u001b[39mnot\u001b[39;00m re\u001b[39m.\u001b[39msearch(\u001b[39m'\u001b[39m\u001b[39mattachment\u001b[39m\u001b[39m'\u001b[39m, headers):\n\u001b[1;32m--> 248\u001b[0m     \u001b[39mraise\u001b[39;00m \u001b[39mFileNotFoundError\u001b[39;00m(\u001b[39m'\u001b[39m\u001b[39mtarget does not exist\u001b[39m\u001b[39m'\u001b[39m)\n\u001b[0;32m    250\u001b[0m \u001b[39m# total_size = int(r.headers.get('content-length', 0))\u001b[39;00m\n",
      "\u001b[1;31mFileNotFoundError\u001b[0m: target does not exist",
      "\nDuring handling of the above exception, another exception occurred:\n",
      "\u001b[1;31mKeyboardInterrupt\u001b[0m                         Traceback (most recent call last)",
      "Cell \u001b[1;32mIn[6], line 8\u001b[0m\n\u001b[0;32m      6\u001b[0m corp_list \u001b[39m=\u001b[39m dart\u001b[39m.\u001b[39mget_corp_list()\n\u001b[0;32m      7\u001b[0m samsung \u001b[39m=\u001b[39m corp_list\u001b[39m.\u001b[39mfind_by_corp_name(\u001b[39m'\u001b[39m\u001b[39m삼성전자\u001b[39m\u001b[39m'\u001b[39m, exactly\u001b[39m=\u001b[39m\u001b[39mTrue\u001b[39;00m)[\u001b[39m0\u001b[39m]\n\u001b[1;32m----> 8\u001b[0m fs \u001b[39m=\u001b[39m samsung\u001b[39m.\u001b[39;49mextract_fs(bgn_de\u001b[39m=\u001b[39;49m\u001b[39m'\u001b[39;49m\u001b[39m20120101\u001b[39;49m\u001b[39m'\u001b[39;49m)\n\u001b[0;32m      9\u001b[0m fs\u001b[39m.\u001b[39msave()\n",
      "File \u001b[1;32mc:\\Users\\HwijunKwon\\AppData\\Local\\Programs\\Python\\Python311\\Lib\\site-packages\\dart_fss\\corp\\corp.py:252\u001b[0m, in \u001b[0;36mCorp.extract_fs\u001b[1;34m(self, bgn_de, end_de, fs_tp, separate, report_tp, lang, separator, dataset, cumulative, progressbar, skip_error, last_report_only)\u001b[0m\n\u001b[0;32m    204\u001b[0m \u001b[39mdef\u001b[39;00m \u001b[39mextract_fs\u001b[39m(\u001b[39mself\u001b[39m,\n\u001b[0;32m    205\u001b[0m                bgn_de: \u001b[39mstr\u001b[39m,\n\u001b[0;32m    206\u001b[0m                end_de: \u001b[39mstr\u001b[39m \u001b[39m=\u001b[39m \u001b[39mNone\u001b[39;00m,\n\u001b[1;32m   (...)\u001b[0m\n\u001b[0;32m    215\u001b[0m                skip_error: \u001b[39mbool\u001b[39m \u001b[39m=\u001b[39m \u001b[39mTrue\u001b[39;00m,\n\u001b[0;32m    216\u001b[0m                last_report_only: \u001b[39mbool\u001b[39m \u001b[39m=\u001b[39m \u001b[39mTrue\u001b[39;00m) \u001b[39m-\u001b[39m\u001b[39m>\u001b[39m FinancialStatement:\n\u001b[0;32m    217\u001b[0m \u001b[39m    \u001b[39m\u001b[39m\"\"\"\u001b[39;00m\n\u001b[0;32m    218\u001b[0m \u001b[39m     재무제표 검색\u001b[39;00m\n\u001b[0;32m    219\u001b[0m \n\u001b[1;32m   (...)\u001b[0m\n\u001b[0;32m    250\u001b[0m \n\u001b[0;32m    251\u001b[0m \u001b[39m     \"\"\"\u001b[39;00m\n\u001b[1;32m--> 252\u001b[0m     \u001b[39mreturn\u001b[39;00m extract(\u001b[39mself\u001b[39;49m\u001b[39m.\u001b[39;49mcorp_code, bgn_de, end_de, fs_tp, separate, report_tp, lang,\n\u001b[0;32m    253\u001b[0m                    separator, dataset, cumulative, progressbar, skip_error, last_report_only)\n",
      "File \u001b[1;32mc:\\Users\\HwijunKwon\\AppData\\Local\\Programs\\Python\\Python311\\Lib\\site-packages\\dart_fss\\fs\\extract.py:1421\u001b[0m, in \u001b[0;36mextract\u001b[1;34m(corp_code, bgn_de, end_de, fs_tp, separate, report_tp, lang, separator, dataset, cumulative, progressbar, skip_error, last_report_only)\u001b[0m\n\u001b[0;32m   1419\u001b[0m report \u001b[39m=\u001b[39m reports\u001b[39m.\u001b[39mpop(\u001b[39m0\u001b[39m)\n\u001b[0;32m   1420\u001b[0m \u001b[39mif\u001b[39;00m statements \u001b[39mis\u001b[39;00m \u001b[39mNone\u001b[39;00m:\n\u001b[1;32m-> 1421\u001b[0m     statements \u001b[39m=\u001b[39m analyze_report(report\u001b[39m=\u001b[39;49mreport,\n\u001b[0;32m   1422\u001b[0m                                 fs_tp\u001b[39m=\u001b[39;49mfs_tp,\n\u001b[0;32m   1423\u001b[0m                                 separate\u001b[39m=\u001b[39;49mseparate,\n\u001b[0;32m   1424\u001b[0m                                 lang\u001b[39m=\u001b[39;49mlang,\n\u001b[0;32m   1425\u001b[0m                                 separator\u001b[39m=\u001b[39;49mseparator)\n\u001b[0;32m   1426\u001b[0m     \u001b[39mif\u001b[39;00m statements \u001b[39mis\u001b[39;00m \u001b[39mNone\u001b[39;00m:\n\u001b[0;32m   1427\u001b[0m         warnings_text \u001b[39m=\u001b[39m \u001b[39m'\u001b[39m\u001b[39mUnable to extract financial statements: \u001b[39m\u001b[39m{}\u001b[39;00m\u001b[39m.\u001b[39m\u001b[39m'\u001b[39m\u001b[39m.\u001b[39mformat(report\u001b[39m.\u001b[39mto_dict())\n",
      "File \u001b[1;32mc:\\Users\\HwijunKwon\\AppData\\Local\\Programs\\Python\\Python311\\Lib\\site-packages\\dart_fss\\fs\\extract.py:1257\u001b[0m, in \u001b[0;36manalyze_report\u001b[1;34m(report, fs_tp, separate, lang, separator, dataset)\u001b[0m\n\u001b[0;32m   1255\u001b[0m year \u001b[39m=\u001b[39m \u001b[39mint\u001b[39m(report\u001b[39m.\u001b[39mrcept_dt[:\u001b[39m4\u001b[39m])\n\u001b[0;32m   1256\u001b[0m \u001b[39mif\u001b[39;00m year \u001b[39m>\u001b[39m \u001b[39m2011\u001b[39m \u001b[39mand\u001b[39;00m dataset \u001b[39m==\u001b[39m \u001b[39m'\u001b[39m\u001b[39mxbrl\u001b[39m\u001b[39m'\u001b[39m:\n\u001b[1;32m-> 1257\u001b[0m     xbrl \u001b[39m=\u001b[39m report\u001b[39m.\u001b[39;49mxbrl\n\u001b[0;32m   1258\u001b[0m \u001b[39melse\u001b[39;00m:\n\u001b[0;32m   1259\u001b[0m     xbrl \u001b[39m=\u001b[39m \u001b[39mNone\u001b[39;00m\n",
      "File \u001b[1;32mc:\\Users\\HwijunKwon\\AppData\\Local\\Programs\\Python\\Python311\\Lib\\site-packages\\dart_fss\\filings\\reports.py:377\u001b[0m, in \u001b[0;36mReport.xbrl\u001b[1;34m(self)\u001b[0m\n\u001b[0;32m    374\u001b[0m \u001b[39m@property\u001b[39m\n\u001b[0;32m    375\u001b[0m \u001b[39mdef\u001b[39;00m \u001b[39mxbrl\u001b[39m(\u001b[39mself\u001b[39m):\n\u001b[0;32m    376\u001b[0m     \u001b[39mif\u001b[39;00m \u001b[39mself\u001b[39m\u001b[39m.\u001b[39m_xbrl \u001b[39mis\u001b[39;00m \u001b[39mNone\u001b[39;00m:\n\u001b[1;32m--> 377\u001b[0m         \u001b[39mself\u001b[39;49m\u001b[39m.\u001b[39;49mload_xbrl()\n\u001b[0;32m    378\u001b[0m     \u001b[39mreturn\u001b[39;00m \u001b[39mself\u001b[39m\u001b[39m.\u001b[39m_xbrl\n",
      "File \u001b[1;32mc:\\Users\\HwijunKwon\\AppData\\Local\\Programs\\Python\\Python311\\Lib\\site-packages\\dart_fss\\filings\\reports.py:395\u001b[0m, in \u001b[0;36mReport.load_xbrl\u001b[1;34m(self)\u001b[0m\n\u001b[0;32m    393\u001b[0m     file \u001b[39m=\u001b[39m search_file(folder_path)\n\u001b[0;32m    394\u001b[0m     \u001b[39mif\u001b[39;00m \u001b[39mlen\u001b[39m(file) \u001b[39m>\u001b[39m \u001b[39m0\u001b[39m:\n\u001b[1;32m--> 395\u001b[0m         \u001b[39mself\u001b[39m\u001b[39m.\u001b[39m_xbrl \u001b[39m=\u001b[39m get_xbrl_from_file(file[\u001b[39m0\u001b[39;49m])\n\u001b[0;32m    396\u001b[0m \u001b[39melse\u001b[39;00m:\n\u001b[0;32m    397\u001b[0m     \u001b[39mself\u001b[39m\u001b[39m.\u001b[39m_xbrl \u001b[39m=\u001b[39m \u001b[39mNone\u001b[39;00m\n",
      "File \u001b[1;32mc:\\Users\\HwijunKwon\\AppData\\Local\\Programs\\Python\\Python311\\Lib\\site-packages\\dart_fss\\xbrl\\xbrl.py:41\u001b[0m, in \u001b[0;36mget_xbrl_from_file\u001b[1;34m(file_path)\u001b[0m\n\u001b[0;32m     39\u001b[0m cntlr \u001b[39m=\u001b[39m Cntlr\u001b[39m.\u001b[39mCntlr(logFileName\u001b[39m=\u001b[39m\u001b[39m'\u001b[39m\u001b[39mlogToStdErr\u001b[39m\u001b[39m'\u001b[39m)\n\u001b[0;32m     40\u001b[0m cntlr\u001b[39m.\u001b[39mlogger\u001b[39m.\u001b[39msetLevel(logging\u001b[39m.\u001b[39mCRITICAL)\n\u001b[1;32m---> 41\u001b[0m model_xbrl \u001b[39m=\u001b[39m cntlr\u001b[39m.\u001b[39;49mmodelManager\u001b[39m.\u001b[39;49mload(file_path)\n\u001b[0;32m     42\u001b[0m filename \u001b[39m=\u001b[39m file_path\u001b[39m.\u001b[39msplit(\u001b[39m'\u001b[39m\u001b[39m\\\\\u001b[39;00m\u001b[39m'\u001b[39m)[\u001b[39m-\u001b[39m\u001b[39m1\u001b[39m]\n\u001b[0;32m     43\u001b[0m xbrl \u001b[39m=\u001b[39m DartXbrl(filename, model_xbrl)\n",
      "File \u001b[1;32mc:\\Users\\HwijunKwon\\AppData\\Local\\Programs\\Python\\Python311\\Lib\\site-packages\\arelle\\ModelManager.py:171\u001b[0m, in \u001b[0;36mModelManager.load\u001b[1;34m(self, filesource, nextaction, taxonomyPackages, **kwargs)\u001b[0m\n\u001b[0;32m    169\u001b[0m         \u001b[39mbreak\u001b[39;00m \u001b[39m# custom loader did the loading\u001b[39;00m\n\u001b[0;32m    170\u001b[0m \u001b[39mif\u001b[39;00m modelXbrl \u001b[39mis\u001b[39;00m \u001b[39mNone\u001b[39;00m:  \u001b[39m# use default xbrl loader\u001b[39;00m\n\u001b[1;32m--> 171\u001b[0m     modelXbrl \u001b[39m=\u001b[39m ModelXbrl\u001b[39m.\u001b[39;49mload(\u001b[39mself\u001b[39;49m, filesource, nextaction, \u001b[39m*\u001b[39;49m\u001b[39m*\u001b[39;49mkwargs)\n\u001b[0;32m    172\u001b[0m \u001b[39mself\u001b[39m\u001b[39m.\u001b[39mmodelXbrl \u001b[39m=\u001b[39m modelXbrl\n\u001b[0;32m    173\u001b[0m \u001b[39mself\u001b[39m\u001b[39m.\u001b[39mloadedModelXbrls\u001b[39m.\u001b[39mappend(\u001b[39mself\u001b[39m\u001b[39m.\u001b[39mmodelXbrl)\n",
      "File \u001b[1;32mc:\\Users\\HwijunKwon\\AppData\\Local\\Programs\\Python\\Python311\\Lib\\site-packages\\arelle\\ModelXbrl.py:87\u001b[0m, in \u001b[0;36mload\u001b[1;34m(modelManager, url, nextaction, base, useFileSource, errorCaptureLevel, **kwargs)\u001b[0m\n\u001b[0;32m     85\u001b[0m modelXbrl\u001b[39m.\u001b[39mmodelDocument \u001b[39m=\u001b[39m \u001b[39mNone\u001b[39;00m\n\u001b[0;32m     86\u001b[0m \u001b[39mif\u001b[39;00m kwargs\u001b[39m.\u001b[39mget(\u001b[39m\"\u001b[39m\u001b[39misLoadable\u001b[39m\u001b[39m\"\u001b[39m,\u001b[39mTrue\u001b[39;00m): \u001b[39m# used for test cases to block taxonomy packages without discoverable contents\u001b[39;00m\n\u001b[1;32m---> 87\u001b[0m     modelXbrl\u001b[39m.\u001b[39mmodelDocument \u001b[39m=\u001b[39m ModelDocument\u001b[39m.\u001b[39;49mload(modelXbrl, url, base, isEntry\u001b[39m=\u001b[39;49m\u001b[39mTrue\u001b[39;49;00m, \u001b[39m*\u001b[39;49m\u001b[39m*\u001b[39;49mkwargs)\n\u001b[0;32m     88\u001b[0m     \u001b[39mif\u001b[39;00m supplementalUrls:\n\u001b[0;32m     89\u001b[0m         \u001b[39mfor\u001b[39;00m url \u001b[39min\u001b[39;00m supplementalUrls:\n",
      "File \u001b[1;32mc:\\Users\\HwijunKwon\\AppData\\Local\\Programs\\Python\\Python311\\Lib\\site-packages\\arelle\\ModelDocument.py:328\u001b[0m, in \u001b[0;36mload\u001b[1;34m(modelXbrl, uri, base, referringElement, isEntry, isDiscovered, isIncluded, isSupplemental, namespace, reloadCache, **kwargs)\u001b[0m\n\u001b[0;32m    326\u001b[0m     modelDocument\u001b[39m.\u001b[39mlinkbaseDiscover(rootNode)\n\u001b[0;32m    327\u001b[0m \u001b[39melif\u001b[39;00m _type \u001b[39m==\u001b[39m Type\u001b[39m.\u001b[39mINSTANCE:\n\u001b[1;32m--> 328\u001b[0m     modelDocument\u001b[39m.\u001b[39;49minstanceDiscover(rootNode)\n\u001b[0;32m    329\u001b[0m \u001b[39melif\u001b[39;00m _type \u001b[39m==\u001b[39m Type\u001b[39m.\u001b[39mINLINEXBRL:\n\u001b[0;32m    330\u001b[0m     \u001b[39mtry\u001b[39;00m:\n",
      "File \u001b[1;32mc:\\Users\\HwijunKwon\\AppData\\Local\\Programs\\Python\\Python311\\Lib\\site-packages\\arelle\\ModelDocument.py:1231\u001b[0m, in \u001b[0;36mModelDocument.instanceDiscover\u001b[1;34m(self, xbrlElement)\u001b[0m\n\u001b[0;32m   1230\u001b[0m \u001b[39mdef\u001b[39;00m \u001b[39minstanceDiscover\u001b[39m(\u001b[39mself\u001b[39m, xbrlElement):\n\u001b[1;32m-> 1231\u001b[0m     \u001b[39mself\u001b[39;49m\u001b[39m.\u001b[39;49mschemaLinkbaseRefsDiscover(xbrlElement)\n\u001b[0;32m   1232\u001b[0m     \u001b[39mif\u001b[39;00m \u001b[39mnot\u001b[39;00m \u001b[39mself\u001b[39m\u001b[39m.\u001b[39mskipDTS:\n\u001b[0;32m   1233\u001b[0m         \u001b[39mself\u001b[39m\u001b[39m.\u001b[39mlinkbaseDiscover(xbrlElement,inInstance\u001b[39m=\u001b[39m\u001b[39mTrue\u001b[39;00m) \u001b[39m# for role/arcroleRefs and footnoteLinks\u001b[39;00m\n",
      "File \u001b[1;32mc:\\Users\\HwijunKwon\\AppData\\Local\\Programs\\Python\\Python311\\Lib\\site-packages\\arelle\\ModelDocument.py:1089\u001b[0m, in \u001b[0;36mModelDocument.schemaLinkbaseRefsDiscover\u001b[1;34m(self, tree)\u001b[0m\n\u001b[0;32m   1087\u001b[0m     \u001b[39mfor\u001b[39;00m element \u001b[39min\u001b[39;00m tree\u001b[39m.\u001b[39miterdescendants(tag\u001b[39m=\u001b[39mrefln):\n\u001b[0;32m   1088\u001b[0m         \u001b[39mif\u001b[39;00m \u001b[39misinstance\u001b[39m(element,ModelObject):\n\u001b[1;32m-> 1089\u001b[0m             \u001b[39mself\u001b[39;49m\u001b[39m.\u001b[39;49mschemaLinkbaseRefDiscover(element)\n\u001b[0;32m   1090\u001b[0m \u001b[39m# schemaLocate xbrldi if there is an xbrldi element\u001b[39;00m\n\u001b[0;32m   1091\u001b[0m \u001b[39mfor\u001b[39;00m element \u001b[39min\u001b[39;00m tree\u001b[39m.\u001b[39miterdescendants(\u001b[39m\"\u001b[39m\u001b[39m{\u001b[39m\u001b[39mhttp://xbrl.org/2006/xbrldi}*\u001b[39m\u001b[39m\"\u001b[39m):\n",
      "File \u001b[1;32mc:\\Users\\HwijunKwon\\AppData\\Local\\Programs\\Python\\Python311\\Lib\\site-packages\\arelle\\ModelDocument.py:1096\u001b[0m, in \u001b[0;36mModelDocument.schemaLinkbaseRefDiscover\u001b[1;34m(self, element)\u001b[0m\n\u001b[0;32m   1095\u001b[0m \u001b[39mdef\u001b[39;00m \u001b[39mschemaLinkbaseRefDiscover\u001b[39m(\u001b[39mself\u001b[39m, element):\n\u001b[1;32m-> 1096\u001b[0m     \u001b[39mreturn\u001b[39;00m \u001b[39mself\u001b[39;49m\u001b[39m.\u001b[39;49mdiscoverHref(element, urlRewritePluginClass\u001b[39m=\u001b[39;49m\u001b[39m\"\u001b[39;49m\u001b[39mModelDocument.InstanceSchemaRefRewriter\u001b[39;49m\u001b[39m\"\u001b[39;49m)\n",
      "File \u001b[1;32mc:\\Users\\HwijunKwon\\AppData\\Local\\Programs\\Python\\Python311\\Lib\\site-packages\\arelle\\ModelDocument.py:1216\u001b[0m, in \u001b[0;36mModelDocument.discoverHref\u001b[1;34m(self, element, nonDTS, urlRewritePluginClass)\u001b[0m\n\u001b[0;32m   1214\u001b[0m     \u001b[39mfor\u001b[39;00m pluginMethod \u001b[39min\u001b[39;00m pluginClassMethods(urlRewritePluginClass):\n\u001b[0;32m   1215\u001b[0m         url \u001b[39m=\u001b[39m pluginMethod(\u001b[39mself\u001b[39m, url)\n\u001b[1;32m-> 1216\u001b[0m doc \u001b[39m=\u001b[39m _newDoc(\u001b[39mself\u001b[39;49m\u001b[39m.\u001b[39;49mmodelXbrl, url, isDiscovered\u001b[39m=\u001b[39;49m\u001b[39mnot\u001b[39;49;00m nonDTS, base\u001b[39m=\u001b[39;49m\u001b[39mself\u001b[39;49m\u001b[39m.\u001b[39;49mbaseForElement(element), referringElement\u001b[39m=\u001b[39;49melement)\n\u001b[0;32m   1217\u001b[0m \u001b[39mif\u001b[39;00m \u001b[39mnot\u001b[39;00m nonDTS \u001b[39mand\u001b[39;00m doc \u001b[39mis\u001b[39;00m \u001b[39mnot\u001b[39;00m \u001b[39mNone\u001b[39;00m:\n\u001b[0;32m   1218\u001b[0m     \u001b[39mif\u001b[39;00m doc \u001b[39mnot\u001b[39;00m \u001b[39min\u001b[39;00m \u001b[39mself\u001b[39m\u001b[39m.\u001b[39mreferencesDocument:\n",
      "File \u001b[1;32mc:\\Users\\HwijunKwon\\AppData\\Local\\Programs\\Python\\Python311\\Lib\\site-packages\\arelle\\ModelDocument.py:324\u001b[0m, in \u001b[0;36mload\u001b[1;34m(modelXbrl, uri, base, referringElement, isEntry, isDiscovered, isIncluded, isSupplemental, namespace, reloadCache, **kwargs)\u001b[0m\n\u001b[0;32m    322\u001b[0m     \u001b[39mpass\u001b[39;00m \u001b[39m# discovery was performed by plug-in, we're done\u001b[39;00m\n\u001b[0;32m    323\u001b[0m \u001b[39melif\u001b[39;00m _type \u001b[39m==\u001b[39m Type\u001b[39m.\u001b[39mSCHEMA:\n\u001b[1;32m--> 324\u001b[0m     modelDocument\u001b[39m.\u001b[39;49mschemaDiscover(rootNode, isIncluded, isSupplemental, namespace)\n\u001b[0;32m    325\u001b[0m \u001b[39melif\u001b[39;00m _type \u001b[39m==\u001b[39m Type\u001b[39m.\u001b[39mLINKBASE:\n\u001b[0;32m    326\u001b[0m     modelDocument\u001b[39m.\u001b[39mlinkbaseDiscover(rootNode)\n",
      "File \u001b[1;32mc:\\Users\\HwijunKwon\\AppData\\Local\\Programs\\Python\\Python311\\Lib\\site-packages\\arelle\\ModelDocument.py:926\u001b[0m, in \u001b[0;36mModelDocument.schemaDiscover\u001b[1;34m(self, rootElement, isIncluded, isSupplemental, namespace)\u001b[0m\n\u001b[0;32m    924\u001b[0m \u001b[39m# self.definesUTR = any(ns == XbrlConst.utr for ns in rootElement.nsmap.values())\u001b[39;00m\n\u001b[0;32m    925\u001b[0m \u001b[39mtry\u001b[39;00m:\n\u001b[1;32m--> 926\u001b[0m     \u001b[39mself\u001b[39;49m\u001b[39m.\u001b[39;49mschemaDiscoverChildElements(rootElement, isSupplemental)\n\u001b[0;32m    927\u001b[0m \u001b[39mexcept\u001b[39;00m (\u001b[39mValueError\u001b[39;00m, \u001b[39mLookupError\u001b[39;00m) \u001b[39mas\u001b[39;00m err:\n\u001b[0;32m    928\u001b[0m     \u001b[39mself\u001b[39m\u001b[39m.\u001b[39mfilesource\u001b[39m.\u001b[39mcntlr\u001b[39m.\u001b[39maddToLog(\u001b[39m\"\u001b[39m\u001b[39merror during schema discovery: \u001b[39m\u001b[39m%(error)s\u001b[39;00m\u001b[39m\"\u001b[39m,\n\u001b[0;32m    929\u001b[0m                                    messageCode\u001b[39m=\u001b[39m\u001b[39m\"\u001b[39m\u001b[39marelle:discoveryError\u001b[39m\u001b[39m\"\u001b[39m,\n\u001b[0;32m    930\u001b[0m                                    messageArgs\u001b[39m=\u001b[39m{\u001b[39m\"\u001b[39m\u001b[39merror\u001b[39m\u001b[39m\"\u001b[39m:err}, file\u001b[39m=\u001b[39m\u001b[39mself\u001b[39m\u001b[39m.\u001b[39mbasename)\n",
      "File \u001b[1;32mc:\\Users\\HwijunKwon\\AppData\\Local\\Programs\\Python\\Python311\\Lib\\site-packages\\arelle\\ModelDocument.py:982\u001b[0m, in \u001b[0;36mModelDocument.schemaDiscoverChildElements\u001b[1;34m(self, parentModelObject, isSupplemental)\u001b[0m\n\u001b[0;32m    980\u001b[0m         \u001b[39mself\u001b[39m\u001b[39m.\u001b[39mlinkbaseDiscover(modelObject)\n\u001b[0;32m    981\u001b[0m \u001b[39melse\u001b[39;00m: \u001b[39m# recurse to children\u001b[39;00m\n\u001b[1;32m--> 982\u001b[0m     \u001b[39mself\u001b[39;49m\u001b[39m.\u001b[39;49mschemaDiscoverChildElements(modelObject, isSupplemental)\n",
      "File \u001b[1;32mc:\\Users\\HwijunKwon\\AppData\\Local\\Programs\\Python\\Python311\\Lib\\site-packages\\arelle\\ModelDocument.py:982\u001b[0m, in \u001b[0;36mModelDocument.schemaDiscoverChildElements\u001b[1;34m(self, parentModelObject, isSupplemental)\u001b[0m\n\u001b[0;32m    980\u001b[0m         \u001b[39mself\u001b[39m\u001b[39m.\u001b[39mlinkbaseDiscover(modelObject)\n\u001b[0;32m    981\u001b[0m \u001b[39melse\u001b[39;00m: \u001b[39m# recurse to children\u001b[39;00m\n\u001b[1;32m--> 982\u001b[0m     \u001b[39mself\u001b[39;49m\u001b[39m.\u001b[39;49mschemaDiscoverChildElements(modelObject, isSupplemental)\n",
      "File \u001b[1;32mc:\\Users\\HwijunKwon\\AppData\\Local\\Programs\\Python\\Python311\\Lib\\site-packages\\arelle\\ModelDocument.py:974\u001b[0m, in \u001b[0;36mModelDocument.schemaDiscoverChildElements\u001b[1;34m(self, parentModelObject, isSupplemental)\u001b[0m\n\u001b[0;32m    970\u001b[0m     \u001b[39mif\u001b[39;00m _mislocated:\n\u001b[0;32m    971\u001b[0m         \u001b[39mself\u001b[39m\u001b[39m.\u001b[39mmodelXbrl\u001b[39m.\u001b[39merror(\u001b[39m\"\u001b[39m\u001b[39mxbrl.5.1.2.LinkbaseRefLocation\u001b[39m\u001b[39m\"\u001b[39m,\n\u001b[0;32m    972\u001b[0m             _(\u001b[39m\"\u001b[39m\u001b[39mSchema file link:linkbaseRef may only be located at path //xs:schema/xs:annotation/xs:appinfo but was found at \u001b[39m\u001b[39m%(elementPath)s\u001b[39;00m\u001b[39m\"\u001b[39m),\n\u001b[0;32m    973\u001b[0m             modelObject\u001b[39m=\u001b[39mmodelObject, elementPath\u001b[39m=\u001b[39m\u001b[39mself\u001b[39m\u001b[39m.\u001b[39mxmlDocument\u001b[39m.\u001b[39mgetpath(parentModelObject))\n\u001b[1;32m--> 974\u001b[0m     \u001b[39mself\u001b[39;49m\u001b[39m.\u001b[39;49mschemaLinkbaseRefDiscover(modelObject)\n\u001b[0;32m    975\u001b[0m \u001b[39melif\u001b[39;00m ln \u001b[39m==\u001b[39m \u001b[39m\"\u001b[39m\u001b[39mlinkbase\u001b[39m\u001b[39m\"\u001b[39m:\n\u001b[0;32m    976\u001b[0m     \u001b[39mif\u001b[39;00m _mislocated:\n",
      "File \u001b[1;32mc:\\Users\\HwijunKwon\\AppData\\Local\\Programs\\Python\\Python311\\Lib\\site-packages\\arelle\\ModelDocument.py:1096\u001b[0m, in \u001b[0;36mModelDocument.schemaLinkbaseRefDiscover\u001b[1;34m(self, element)\u001b[0m\n\u001b[0;32m   1095\u001b[0m \u001b[39mdef\u001b[39;00m \u001b[39mschemaLinkbaseRefDiscover\u001b[39m(\u001b[39mself\u001b[39m, element):\n\u001b[1;32m-> 1096\u001b[0m     \u001b[39mreturn\u001b[39;00m \u001b[39mself\u001b[39;49m\u001b[39m.\u001b[39;49mdiscoverHref(element, urlRewritePluginClass\u001b[39m=\u001b[39;49m\u001b[39m\"\u001b[39;49m\u001b[39mModelDocument.InstanceSchemaRefRewriter\u001b[39;49m\u001b[39m\"\u001b[39;49m)\n",
      "File \u001b[1;32mc:\\Users\\HwijunKwon\\AppData\\Local\\Programs\\Python\\Python311\\Lib\\site-packages\\arelle\\ModelDocument.py:1216\u001b[0m, in \u001b[0;36mModelDocument.discoverHref\u001b[1;34m(self, element, nonDTS, urlRewritePluginClass)\u001b[0m\n\u001b[0;32m   1214\u001b[0m     \u001b[39mfor\u001b[39;00m pluginMethod \u001b[39min\u001b[39;00m pluginClassMethods(urlRewritePluginClass):\n\u001b[0;32m   1215\u001b[0m         url \u001b[39m=\u001b[39m pluginMethod(\u001b[39mself\u001b[39m, url)\n\u001b[1;32m-> 1216\u001b[0m doc \u001b[39m=\u001b[39m _newDoc(\u001b[39mself\u001b[39;49m\u001b[39m.\u001b[39;49mmodelXbrl, url, isDiscovered\u001b[39m=\u001b[39;49m\u001b[39mnot\u001b[39;49;00m nonDTS, base\u001b[39m=\u001b[39;49m\u001b[39mself\u001b[39;49m\u001b[39m.\u001b[39;49mbaseForElement(element), referringElement\u001b[39m=\u001b[39;49melement)\n\u001b[0;32m   1217\u001b[0m \u001b[39mif\u001b[39;00m \u001b[39mnot\u001b[39;00m nonDTS \u001b[39mand\u001b[39;00m doc \u001b[39mis\u001b[39;00m \u001b[39mnot\u001b[39;00m \u001b[39mNone\u001b[39;00m:\n\u001b[0;32m   1218\u001b[0m     \u001b[39mif\u001b[39;00m doc \u001b[39mnot\u001b[39;00m \u001b[39min\u001b[39;00m \u001b[39mself\u001b[39m\u001b[39m.\u001b[39mreferencesDocument:\n",
      "File \u001b[1;32mc:\\Users\\HwijunKwon\\AppData\\Local\\Programs\\Python\\Python311\\Lib\\site-packages\\arelle\\ModelDocument.py:326\u001b[0m, in \u001b[0;36mload\u001b[1;34m(modelXbrl, uri, base, referringElement, isEntry, isDiscovered, isIncluded, isSupplemental, namespace, reloadCache, **kwargs)\u001b[0m\n\u001b[0;32m    324\u001b[0m     modelDocument\u001b[39m.\u001b[39mschemaDiscover(rootNode, isIncluded, isSupplemental, namespace)\n\u001b[0;32m    325\u001b[0m \u001b[39melif\u001b[39;00m _type \u001b[39m==\u001b[39m Type\u001b[39m.\u001b[39mLINKBASE:\n\u001b[1;32m--> 326\u001b[0m     modelDocument\u001b[39m.\u001b[39;49mlinkbaseDiscover(rootNode)\n\u001b[0;32m    327\u001b[0m \u001b[39melif\u001b[39;00m _type \u001b[39m==\u001b[39m Type\u001b[39m.\u001b[39mINSTANCE:\n\u001b[0;32m    328\u001b[0m     modelDocument\u001b[39m.\u001b[39minstanceDiscover(rootNode)\n",
      "File \u001b[1;32mc:\\Users\\HwijunKwon\\AppData\\Local\\Programs\\Python\\Python311\\Lib\\site-packages\\arelle\\ModelDocument.py:1114\u001b[0m, in \u001b[0;36mModelDocument.linkbaseDiscover\u001b[1;34m(self, linkbaseElement, inInstance)\u001b[0m\n\u001b[0;32m   1112\u001b[0m \u001b[39mif\u001b[39;00m lbNs \u001b[39m==\u001b[39m XbrlConst\u001b[39m.\u001b[39mlink:\n\u001b[0;32m   1113\u001b[0m     \u001b[39mif\u001b[39;00m lbLn \u001b[39m==\u001b[39m \u001b[39m\"\u001b[39m\u001b[39mroleRef\u001b[39m\u001b[39m\"\u001b[39m \u001b[39mor\u001b[39;00m lbLn \u001b[39m==\u001b[39m \u001b[39m\"\u001b[39m\u001b[39marcroleRef\u001b[39m\u001b[39m\"\u001b[39m:\n\u001b[1;32m-> 1114\u001b[0m         href \u001b[39m=\u001b[39m \u001b[39mself\u001b[39;49m\u001b[39m.\u001b[39;49mdiscoverHref(lbElement)\n\u001b[0;32m   1115\u001b[0m         \u001b[39mif\u001b[39;00m href \u001b[39mis\u001b[39;00m \u001b[39mNone\u001b[39;00m:\n\u001b[0;32m   1116\u001b[0m             \u001b[39mself\u001b[39m\u001b[39m.\u001b[39mmodelXbrl\u001b[39m.\u001b[39merror(\u001b[39m\"\u001b[39m\u001b[39mxmlSchema:requiredAttribute\u001b[39m\u001b[39m\"\u001b[39m,\n\u001b[0;32m   1117\u001b[0m                     _(\u001b[39m\"\u001b[39m\u001b[39mLinkbase reference for \u001b[39m\u001b[39m%(linkbaseRefElement)s\u001b[39;00m\u001b[39m href attribute missing or malformed\u001b[39m\u001b[39m\"\u001b[39m),\n\u001b[0;32m   1118\u001b[0m                     modelObject\u001b[39m=\u001b[39mlbElement, linkbaseRefElement\u001b[39m=\u001b[39mlbLn)\n",
      "File \u001b[1;32mc:\\Users\\HwijunKwon\\AppData\\Local\\Programs\\Python\\Python311\\Lib\\site-packages\\arelle\\ModelDocument.py:1216\u001b[0m, in \u001b[0;36mModelDocument.discoverHref\u001b[1;34m(self, element, nonDTS, urlRewritePluginClass)\u001b[0m\n\u001b[0;32m   1214\u001b[0m     \u001b[39mfor\u001b[39;00m pluginMethod \u001b[39min\u001b[39;00m pluginClassMethods(urlRewritePluginClass):\n\u001b[0;32m   1215\u001b[0m         url \u001b[39m=\u001b[39m pluginMethod(\u001b[39mself\u001b[39m, url)\n\u001b[1;32m-> 1216\u001b[0m doc \u001b[39m=\u001b[39m _newDoc(\u001b[39mself\u001b[39;49m\u001b[39m.\u001b[39;49mmodelXbrl, url, isDiscovered\u001b[39m=\u001b[39;49m\u001b[39mnot\u001b[39;49;00m nonDTS, base\u001b[39m=\u001b[39;49m\u001b[39mself\u001b[39;49m\u001b[39m.\u001b[39;49mbaseForElement(element), referringElement\u001b[39m=\u001b[39;49melement)\n\u001b[0;32m   1217\u001b[0m \u001b[39mif\u001b[39;00m \u001b[39mnot\u001b[39;00m nonDTS \u001b[39mand\u001b[39;00m doc \u001b[39mis\u001b[39;00m \u001b[39mnot\u001b[39;00m \u001b[39mNone\u001b[39;00m:\n\u001b[0;32m   1218\u001b[0m     \u001b[39mif\u001b[39;00m doc \u001b[39mnot\u001b[39;00m \u001b[39min\u001b[39;00m \u001b[39mself\u001b[39m\u001b[39m.\u001b[39mreferencesDocument:\n",
      "File \u001b[1;32mc:\\Users\\HwijunKwon\\AppData\\Local\\Programs\\Python\\Python311\\Lib\\site-packages\\arelle\\ModelDocument.py:156\u001b[0m, in \u001b[0;36mload\u001b[1;34m(modelXbrl, uri, base, referringElement, isEntry, isDiscovered, isIncluded, isSupplemental, namespace, reloadCache, **kwargs)\u001b[0m\n\u001b[0;32m    154\u001b[0m     file, _encoding \u001b[39m=\u001b[39m ValidateFilingText\u001b[39m.\u001b[39mcheckfile(modelXbrl,filepath)\n\u001b[0;32m    155\u001b[0m \u001b[39melse\u001b[39;00m:\n\u001b[1;32m--> 156\u001b[0m     file, _encoding \u001b[39m=\u001b[39m modelXbrl\u001b[39m.\u001b[39;49mfileSource\u001b[39m.\u001b[39;49mfile(filepath, stripDeclaration\u001b[39m=\u001b[39;49m\u001b[39mTrue\u001b[39;49;00m)\n\u001b[0;32m    157\u001b[0m xmlDocument \u001b[39m=\u001b[39m \u001b[39mNone\u001b[39;00m\n\u001b[0;32m    158\u001b[0m isPluginParserDocument \u001b[39m=\u001b[39m \u001b[39mFalse\u001b[39;00m\n",
      "File \u001b[1;32mc:\\Users\\HwijunKwon\\AppData\\Local\\Programs\\Python\\Python311\\Lib\\site-packages\\arelle\\FileSource.py:596\u001b[0m, in \u001b[0;36mFileSource.file\u001b[1;34m(self, filepath, binary, stripDeclaration, encoding)\u001b[0m\n\u001b[0;32m    594\u001b[0m     \u001b[39mreturn\u001b[39;00m (openFileStream(\u001b[39mself\u001b[39m\u001b[39m.\u001b[39mcntlr, filepath, \u001b[39m'\u001b[39m\u001b[39mrt\u001b[39m\u001b[39m'\u001b[39m, encoding\u001b[39m=\u001b[39mencoding), )\n\u001b[0;32m    595\u001b[0m \u001b[39melse\u001b[39;00m:\n\u001b[1;32m--> 596\u001b[0m     \u001b[39mreturn\u001b[39;00m openXmlFileStream(\u001b[39mself\u001b[39;49m\u001b[39m.\u001b[39;49mcntlr, filepath, stripDeclaration)\n",
      "File \u001b[1;32mc:\\Users\\HwijunKwon\\AppData\\Local\\Programs\\Python\\Python311\\Lib\\site-packages\\arelle\\FileSource.py:804\u001b[0m, in \u001b[0;36mopenXmlFileStream\u001b[1;34m(cntlr, filepath, stripDeclaration)\u001b[0m\n\u001b[0;32m    800\u001b[0m \u001b[39mdef\u001b[39;00m \u001b[39mopenXmlFileStream\u001b[39m(\n\u001b[0;32m    801\u001b[0m     cntlr: Cntlr \u001b[39m|\u001b[39m \u001b[39mNone\u001b[39;00m, filepath: \u001b[39mstr\u001b[39m, stripDeclaration: \u001b[39mbool\u001b[39m \u001b[39m=\u001b[39m \u001b[39mFalse\u001b[39;00m\n\u001b[0;32m    802\u001b[0m ) \u001b[39m-\u001b[39m\u001b[39m>\u001b[39m \u001b[39mtuple\u001b[39m[io\u001b[39m.\u001b[39mTextIOWrapper, \u001b[39mstr\u001b[39m]:\n\u001b[0;32m    803\u001b[0m     \u001b[39m# returns tuple: (fileStream, encoding)\u001b[39;00m\n\u001b[1;32m--> 804\u001b[0m     openedFileStream \u001b[39m=\u001b[39m openFileStream(cntlr, filepath, \u001b[39m'\u001b[39;49m\u001b[39mrb\u001b[39;49m\u001b[39m'\u001b[39;49m)\n\u001b[0;32m    806\u001b[0m     \u001b[39m# check encoding\u001b[39;00m\n\u001b[0;32m    807\u001b[0m     hdrBytes \u001b[39m=\u001b[39m openedFileStream\u001b[39m.\u001b[39mread(\u001b[39m512\u001b[39m)\n",
      "File \u001b[1;32mc:\\Users\\HwijunKwon\\AppData\\Local\\Programs\\Python\\Python311\\Lib\\site-packages\\arelle\\FileSource.py:798\u001b[0m, in \u001b[0;36mopenFileStream\u001b[1;34m(cntlr, filepath, mode, encoding)\u001b[0m\n\u001b[0;32m    795\u001b[0m     \u001b[39mreturn\u001b[39;00m io\u001b[39m.\u001b[39mopen(filepath, mode\u001b[39m=\u001b[39mmode, encoding\u001b[39m=\u001b[39mencoding)\n\u001b[0;32m    796\u001b[0m \u001b[39melse\u001b[39;00m:\n\u001b[0;32m    797\u001b[0m     \u001b[39m# local file system\u001b[39;00m\n\u001b[1;32m--> 798\u001b[0m     \u001b[39mreturn\u001b[39;00m io\u001b[39m.\u001b[39mopen(filepath, mode\u001b[39m=\u001b[39mmode, encoding\u001b[39m=\u001b[39mencoding)\n",
      "\u001b[1;31mKeyboardInterrupt\u001b[0m: "
     ]
    }
   ],
   "source": [
    "import dart_fss as dart # pip로 가져올 때는 dart-fss\n",
    "\n",
    "key = \"e6ef535160372ff7b3a880036c22ab8b4fce4fdd\"\n",
    "\n",
    "dart.set_api_key(api_key=key)\n",
    "corp_list = dart.get_corp_list()\n",
    "samsung = corp_list.find_by_corp_name('삼성전자', exactly=True)[0]\n",
    "fs = samsung.extract_fs(bgn_de='20120101')\n",
    "fs.save()\n",
    "\n"
   ]
  },
  {
   "cell_type": "code",
   "execution_count": 8,
   "metadata": {},
   "outputs": [
    {
     "data": {
      "application/vnd.jupyter.widget-view+json": {
       "model_id": "bb23d0c9c0c34d0985cc903ef582a54f",
       "version_major": 2,
       "version_minor": 0
      },
      "text/plain": [
       "Annual reports:   0%|          | 0/12 [00:00<?, ?report/s]"
      ]
     },
     "metadata": {},
     "output_type": "display_data"
    },
    {
     "name": "stderr",
     "output_type": "stream",
     "text": [
      "Traceback (most recent call last):\n",
      "  File \"c:\\Users\\HwijunKwon\\AppData\\Local\\Programs\\Python\\Python311\\Lib\\site-packages\\dart_fss\\fs\\extract.py\", line 1435, in extract\n",
      "    nstatements = analyze_report(report=report,\n",
      "                  ^^^^^^^^^^^^^^^^^^^^^^^^^^^^^\n",
      "  File \"c:\\Users\\HwijunKwon\\AppData\\Local\\Programs\\Python\\Python311\\Lib\\site-packages\\dart_fss\\fs\\extract.py\", line 1264, in analyze_report\n",
      "    raise NotFoundConsolidated('Could not find consolidated financial statements')\n",
      "dart_fss.errors.errors.NotFoundConsolidated: Could not find consolidated financial statements\n",
      "c:\\Users\\HwijunKwon\\AppData\\Local\\Programs\\Python\\Python311\\Lib\\site-packages\\dart_fss\\fs\\extract.py:1450: RuntimeWarning: Unable to extract financial statements: {'rcp_no': '20120612000334', 'corp_code': '00303873', 'corp_name': 'CJ CGV', 'stock_code': '079160', 'corp_cls': 'Y', 'report_nm': '[기재정정]사업보고서 (2011.12)', 'flr_nm': 'CJ CGV', 'rcept_dt': '20120612', 'rm': '연'}.\n",
      "  warnings.warn(warnings_text, RuntimeWarning)\n"
     ]
    },
    {
     "data": {
      "text/plain": [
       "'c:\\\\Users\\\\HwijunKwon\\\\Desktop\\\\project\\\\investing_python\\\\fsdata\\\\00303873_annual.xlsx'"
      ]
     },
     "execution_count": 8,
     "metadata": {},
     "output_type": "execute_result"
    }
   ],
   "source": [
    "import dart_fss as dart\n",
    "key = \"e6ef535160372ff7b3a880036c22ab8b4fce4fdd\"\n",
    "\n",
    "dart.set_api_key(api_key=key)\n",
    "corp_list = dart.get_corp_list()\n",
    "cgv = corp_list.find_by_corp_name('CJ CGV', exactly=True)[0]\n",
    "fs = cgv.extract_fs(bgn_de='20120101')\n",
    "fs.save()"
   ]
  },
  {
   "cell_type": "code",
   "execution_count": 19,
   "metadata": {},
   "outputs": [
    {
     "data": {
      "text/plain": [
       "pandas.core.series.Series"
      ]
     },
     "execution_count": 19,
     "metadata": {},
     "output_type": "execute_result"
    }
   ],
   "source": [
    "import pandas as pd\n",
    "import matplotlib.pyplot as plt\n",
    "bs = pd.read_excel(\"C:/Users/HwijunKwon/Desktop/project/investing_python/fsdata/00303873_annual.xlsx\", sheet_name='Data_bs')\n",
    "\n"
   ]
  },
  {
   "cell_type": "code",
   "execution_count": 37,
   "metadata": {},
   "outputs": [
    {
     "data": {
      "text/plain": [
       "MultiIndex([(20, 'Unnamed: 2'),\n",
       "            (20, 'Unnamed: 6')],\n",
       "           )"
      ]
     },
     "execution_count": 37,
     "metadata": {},
     "output_type": "execute_result"
    }
   ],
   "source": [
    "bs[bs[\"Unnamed: 2\"] == \"자산총계\"].stack().index"
   ]
  },
  {
   "cell_type": "code",
   "execution_count": 62,
   "metadata": {},
   "outputs": [],
   "source": [
    "import matplotlib as matplotlib\n",
    "matplotlib.rcParams['font.family'] ='Malgun Gothic'\n",
    "\n",
    "matplotlib.rcParams['axes.unicode_minus'] =False"
   ]
  },
  {
   "cell_type": "code",
   "execution_count": 83,
   "metadata": {},
   "outputs": [
    {
     "data": {
      "text/plain": [
       "2"
      ]
     },
     "execution_count": 83,
     "metadata": {},
     "output_type": "execute_result"
    }
   ],
   "source": [
    "10^8"
   ]
  },
  {
   "cell_type": "code",
   "execution_count": 87,
   "metadata": {},
   "outputs": [
    {
     "data": {
      "text/plain": [
       "50.0"
      ]
     },
     "execution_count": 87,
     "metadata": {},
     "output_type": "execute_result"
    }
   ],
   "source": [
    "100/(10^8)"
   ]
  },
  {
   "cell_type": "code",
   "execution_count": 88,
   "metadata": {},
   "outputs": [
    {
     "name": "stdout",
     "output_type": "stream",
     "text": [
      "[3601468386488, 3785492375609, 4354856895866, 4524046865181, 2234185992506, 2460100845901, 2541773013510, 1417577426757, 1254918922892, 1099174954072, 1007974718560, 933435853595, 711633256527]\n",
      "[36014.68386488, 37854.92375609, 43548.56895866, 45240.46865181, 22341.85992506, 24601.00845901, 25417.7301351, 14175.77426757, 12549.18922892, 10991.74954072, 10079.7471856, 9334.35853595, 7116.33256527]\n"
     ]
    }
   ],
   "source": [
    "asset = bs.loc[20][9:].tolist()\n",
    "asset_10 = [i/(10**8) for i in asset ]\n",
    "print(asset)\n",
    "print(asset_10)"
   ]
  },
  {
   "cell_type": "code",
   "execution_count": 78,
   "metadata": {},
   "outputs": [
    {
     "name": "stdout",
     "output_type": "stream",
     "text": [
      "[355816628263.5, 466717926797.5, 503987359280.0, 549587477036.0, 627459461446.0, 708788713378.5, 1270886506755.0, 1230050422950.5, 1117092996253.0, 2262023432590.5, 2177428447933.0, 1892746187804.5, 1800734193244.0]\n"
     ]
    }
   ],
   "source": [
    "print(asset)"
   ]
  },
  {
   "cell_type": "code",
   "execution_count": 92,
   "metadata": {},
   "outputs": [
    {
     "data": {
      "text/plain": [
       "<matplotlib.legend.Legend at 0x20fddca73d0>"
      ]
     },
     "execution_count": 92,
     "metadata": {},
     "output_type": "execute_result"
    },
    {
     "data": {
      "image/png": "[encoded data removed]",
      "text/plain": [
       "<Figure size 1000x500 with 1 Axes>"
      ]
     },
     "metadata": {},
     "output_type": "display_data"
    }
   ],
   "source": [
    "target_data = \"자산총계\"\n",
    "target_index = bs[bs[\"Unnamed: 2\"] == target_data].index[0]\n",
    "\n",
    "time = bs.loc[20].index[9:].tolist()\n",
    "time =[i[:4] for i in time][::-1]\n",
    "asset = bs.loc[20][9:].tolist()\n",
    "asset = [i/(10**8) for i in asset ][::-1]\n",
    "\n",
    "\n",
    "target_data = \"부채총계\"\n",
    "target_index = bs[bs[\"Unnamed: 2\"] == target_data].index[0]\n",
    "\n",
    "debt = bs.loc[target_index][9:].tolist()\n",
    "debt = [i/(10**8) for i in debt ][::-1]\n",
    "\n",
    "\n",
    "plt.figure(figsize= (10, 5))\n",
    "plt.title(\"CJ CGV 자산/부채 2012 ~ 2022\")\n",
    "plt.xlabel(\"년도\")\n",
    "plt.ylabel(\"억원\")\n",
    "plt.bar(time, asset, label =\"자산\")\n",
    "\n",
    "for i in range(len(asset)):\n",
    "    text = str(int(asset[i])) + \"억\"\n",
    "    plt.text(time[i], asset[i], text, ha='center', va='bottom')\n",
    "plt.plot(time, asset)\n",
    "plt.bar(time, debt, label = \"부채\")\n",
    "plt.legend(ncol = 1)"
   ]
  },
  {
   "cell_type": "code",
   "execution_count": 33,
   "metadata": {},
   "outputs": [
    {
     "name": "stdout",
     "output_type": "stream",
     "text": [
      "   A  B  C\n",
      "0  1  4  7\n",
      "1  2  5  8\n",
      "2  3  6  9\n"
     ]
    },
    {
     "data": {
      "text/plain": [
       "(1, 'B')"
      ]
     },
     "execution_count": 33,
     "metadata": {},
     "output_type": "execute_result"
    }
   ],
   "source": [
    "import pandas as pd\n",
    "\n",
    "df = pd.DataFrame({\n",
    "    'A': [1, 2, 3],\n",
    "    'B': [4, 5, 6],\n",
    "    'C': [7, 8, 9]\n",
    "})\n",
    "\n",
    "print(df)\n",
    "df[df == 5].stack().index[0]"
   ]
  },
  {
   "cell_type": "code",
   "execution_count": 9,
   "metadata": {},
   "outputs": [
    {
     "name": "stdout",
     "output_type": "stream",
     "text": [
      "['2022_4Q', '2022_3Q', '2022_2Q', '2022_1Q', '2021_4Q', '2021_3Q', '2021_2Q', '2021_1Q']\n"
     ]
    }
   ],
   "source": [
    "import pandas as pd\n",
    "cinema = pd.DataFrame({\n",
    "    \n",
    "    '2022_4Q' : [42.7, 1.4, 491.3, 226.2],\n",
    "    '2022_3Q' : [85, 2.2, 195, 107],\n",
    "    '2022_2Q' : [32, 1, 223, 121],\n",
    "    '2022_1Q' : [140, 3, 439, 202],\n",
    "    '2021_4Q' : [121.6, 3.4, 199.7, 104.2],\n",
    "    '2021_3Q' : [73, 2.0, 85, 50],\n",
    "    '2021_2Q' : [94.7, 3.0, 0, 0 ], \n",
    "    '2021_1Q' : [181, 4.7, 0, 0],\n",
    "\n",
    "})\n",
    "cinema.index = [\"China Box Office\", \"China CGV REVENUE\", \"Turkiye Box office\", \"Turkiye CGV Revenue\"]\n",
    "print(list(cinema.columns))\n"
   ]
  },
  {
   "cell_type": "code",
   "execution_count": 34,
   "metadata": {},
   "outputs": [],
   "source": [
    "Year = [int(i[0:4]) for i in cinema.columns.tolist()]\n",
    "cinema.loc[\"Year\"] = Year"
   ]
  },
  {
   "cell_type": "code",
   "execution_count": 35,
   "metadata": {},
   "outputs": [
    {
     "name": "stdout",
     "output_type": "stream",
     "text": [
      "                    2022_4Q 2022_3Q 2022_2Q 2022_1Q 2021_4Q 2021_3Q 2021_2Q  \\\n",
      "China Box Office       42.7    85.0      32     140   121.6    73.0    94.7   \n",
      "China CGV REVENUE       1.4     2.2       1       3     3.4     2.0     3.0   \n",
      "Turkiye Box office    491.3   195.0     223     439   199.7    85.0     0.0   \n",
      "Turkiye CGV Revenue   226.2   107.0     121     202   104.2    50.0     0.0   \n",
      "Year                   2022    2022    2022    2022    2021    2021    2021   \n",
      "\n",
      "                    2021_1Q  \n",
      "China Box Office      181.0  \n",
      "China CGV REVENUE       4.7  \n",
      "Turkiye Box office      0.0  \n",
      "Turkiye CGV Revenue     0.0  \n",
      "Year                   2021  \n"
     ]
    }
   ],
   "source": [
    "print(cinema)"
   ]
  },
  {
   "cell_type": "code",
   "execution_count": 18,
   "metadata": {},
   "outputs": [],
   "source": [
    "import matplotlib as matplotlib\n",
    "matplotlib.rcParams['font.family'] ='Malgun Gothic'\n",
    "\n",
    "matplotlib.rcParams['axes.unicode_minus'] =False"
   ]
  },
  {
   "cell_type": "code",
   "execution_count": 42,
   "metadata": {},
   "outputs": [],
   "source": [
    "cinema[\"2022 FY\"] = cinema[cinema.columns[cinema.eq(2022).any()].tolist()].sum(axis=1)"
   ]
  },
  {
   "cell_type": "code",
   "execution_count": 45,
   "metadata": {},
   "outputs": [
    {
     "name": "stderr",
     "output_type": "stream",
     "text": [
      "C:\\Users\\HwijunKwon\\AppData\\Local\\Temp\\ipykernel_41088\\848456796.py:1: SettingWithCopyWarning: \n",
      "A value is trying to be set on a copy of a slice from a DataFrame\n",
      "\n",
      "See the caveats in the documentation: https://pandas.pydata.org/pandas-docs/stable/user_guide/indexing.html#returning-a-view-versus-a-copy\n",
      "  cinema[\"2022 FY\"].Year = 2022\n"
     ]
    }
   ],
   "source": [
    "cinema[\"2022 FY\"].Year = 2022"
   ]
  },
  {
   "cell_type": "code",
   "execution_count": 48,
   "metadata": {},
   "outputs": [],
   "source": [
    "cinema[\"2023_1Q\"] = [158.58, 0,637, 0, 2023]"
   ]
  },
  {
   "cell_type": "code",
   "execution_count": 80,
   "metadata": {},
   "outputs": [
    {
     "name": "stdout",
     "output_type": "stream",
     "text": [
      "                    2022_4Q 2022_3Q 2022_2Q 2022_1Q 2021_4Q 2021_3Q 2021_2Q  \\\n",
      "China Box Office       42.7    85.0      32     140   121.6    73.0    94.7   \n",
      "China CGV REVENUE       1.4     2.2       1       3     3.4     2.0     3.0   \n",
      "Turkiye Box office    491.3   195.0     223     439   199.7    85.0     0.0   \n",
      "Turkiye CGV Revenue   226.2   107.0     121     202   104.2    50.0     0.0   \n",
      "Year                   2022    2022    2022    2022    2021    2021    2021   \n",
      "\n",
      "                    2021_1Q  2022 FY  \n",
      "China Box Office      181.0    299.7  \n",
      "China CGV REVENUE       4.7      7.6  \n",
      "Turkiye Box office      0.0   1348.3  \n",
      "Turkiye CGV Revenue     0.0    656.2  \n",
      "Year                   2021   2022.0  \n",
      "[[3.2786885245901636 2.5882352941176476 3.125 2.142857142857143\n",
      "  2.7960526315789473 2.73972602739726 3.167898627243928\n",
      "  2.5966850828729284 2.5358692025358693]]\n"
     ]
    }
   ],
   "source": [
    "import numpy as np\n",
    "print(Quater)\n",
    "print(new_row)"
   ]
  },
  {
   "cell_type": "code",
   "execution_count": 81,
   "metadata": {},
   "outputs": [
    {
     "name": "stdout",
     "output_type": "stream",
     "text": [
      "5\n"
     ]
    },
    {
     "ename": "ValueError",
     "evalue": "cannot set a row with mismatched columns",
     "output_type": "error",
     "traceback": [
      "\u001b[1;31m---------------------------------------------------------------------------\u001b[0m",
      "\u001b[1;31mValueError\u001b[0m                                Traceback (most recent call last)",
      "Cell \u001b[1;32mIn[81], line 8\u001b[0m\n\u001b[0;32m      6\u001b[0m \u001b[39mprint\u001b[39m(\u001b[39mlen\u001b[39m(Quater))\n\u001b[0;32m      7\u001b[0m Quater\u001b[39m.\u001b[39mastype(\u001b[39mfloat\u001b[39m)\n\u001b[1;32m----> 8\u001b[0m Quater\u001b[39m.\u001b[39;49mloc[\u001b[39mlen\u001b[39;49m(Quater)] \u001b[39m=\u001b[39m new_row\n",
      "File \u001b[1;32mc:\\Users\\HwijunKwon\\AppData\\Local\\Programs\\Python\\Python311\\Lib\\site-packages\\pandas\\core\\indexing.py:818\u001b[0m, in \u001b[0;36m_LocationIndexer.__setitem__\u001b[1;34m(self, key, value)\u001b[0m\n\u001b[0;32m    815\u001b[0m \u001b[39mself\u001b[39m\u001b[39m.\u001b[39m_has_valid_setitem_indexer(key)\n\u001b[0;32m    817\u001b[0m iloc \u001b[39m=\u001b[39m \u001b[39mself\u001b[39m \u001b[39mif\u001b[39;00m \u001b[39mself\u001b[39m\u001b[39m.\u001b[39mname \u001b[39m==\u001b[39m \u001b[39m\"\u001b[39m\u001b[39miloc\u001b[39m\u001b[39m\"\u001b[39m \u001b[39melse\u001b[39;00m \u001b[39mself\u001b[39m\u001b[39m.\u001b[39mobj\u001b[39m.\u001b[39miloc\n\u001b[1;32m--> 818\u001b[0m iloc\u001b[39m.\u001b[39;49m_setitem_with_indexer(indexer, value, \u001b[39mself\u001b[39;49m\u001b[39m.\u001b[39;49mname)\n",
      "File \u001b[1;32mc:\\Users\\HwijunKwon\\AppData\\Local\\Programs\\Python\\Python311\\Lib\\site-packages\\pandas\\core\\indexing.py:1785\u001b[0m, in \u001b[0;36m_iLocIndexer._setitem_with_indexer\u001b[1;34m(self, indexer, value, name)\u001b[0m\n\u001b[0;32m   1782\u001b[0m     indexer, missing \u001b[39m=\u001b[39m convert_missing_indexer(indexer)\n\u001b[0;32m   1784\u001b[0m     \u001b[39mif\u001b[39;00m missing:\n\u001b[1;32m-> 1785\u001b[0m         \u001b[39mself\u001b[39;49m\u001b[39m.\u001b[39;49m_setitem_with_indexer_missing(indexer, value)\n\u001b[0;32m   1786\u001b[0m         \u001b[39mreturn\u001b[39;00m\n\u001b[0;32m   1788\u001b[0m \u001b[39mif\u001b[39;00m name \u001b[39m==\u001b[39m \u001b[39m\"\u001b[39m\u001b[39mloc\u001b[39m\u001b[39m\"\u001b[39m:\n\u001b[0;32m   1789\u001b[0m     \u001b[39m# must come after setting of missing\u001b[39;00m\n",
      "File \u001b[1;32mc:\\Users\\HwijunKwon\\AppData\\Local\\Programs\\Python\\Python311\\Lib\\site-packages\\pandas\\core\\indexing.py:2160\u001b[0m, in \u001b[0;36m_iLocIndexer._setitem_with_indexer_missing\u001b[1;34m(self, indexer, value)\u001b[0m\n\u001b[0;32m   2157\u001b[0m     \u001b[39mif\u001b[39;00m is_list_like_indexer(value):\n\u001b[0;32m   2158\u001b[0m         \u001b[39m# must have conforming columns\u001b[39;00m\n\u001b[0;32m   2159\u001b[0m         \u001b[39mif\u001b[39;00m \u001b[39mlen\u001b[39m(value) \u001b[39m!=\u001b[39m \u001b[39mlen\u001b[39m(\u001b[39mself\u001b[39m\u001b[39m.\u001b[39mobj\u001b[39m.\u001b[39mcolumns):\n\u001b[1;32m-> 2160\u001b[0m             \u001b[39mraise\u001b[39;00m \u001b[39mValueError\u001b[39;00m(\u001b[39m\"\u001b[39m\u001b[39mcannot set a row with mismatched columns\u001b[39m\u001b[39m\"\u001b[39m)\n\u001b[0;32m   2162\u001b[0m     value \u001b[39m=\u001b[39m Series(value, index\u001b[39m=\u001b[39m\u001b[39mself\u001b[39m\u001b[39m.\u001b[39mobj\u001b[39m.\u001b[39mcolumns, name\u001b[39m=\u001b[39mindexer)\n\u001b[0;32m   2164\u001b[0m \u001b[39mif\u001b[39;00m \u001b[39mnot\u001b[39;00m \u001b[39mlen\u001b[39m(\u001b[39mself\u001b[39m\u001b[39m.\u001b[39mobj):\n\u001b[0;32m   2165\u001b[0m     \u001b[39m# We will ignore the existing dtypes instead of using\u001b[39;00m\n\u001b[0;32m   2166\u001b[0m     \u001b[39m#  internals.concat logic\u001b[39;00m\n",
      "\u001b[1;31mValueError\u001b[0m: cannot set a row with mismatched columns"
     ]
    }
   ],
   "source": [
    "Quater = cinema.drop([\"2023_1Q\"], axis = 1)\n",
    "Quater.astype(int)\n",
    "df1= Quater.iloc[1:2] \n",
    "df2= Quater.iloc[:1]\n",
    "new_row = df1.values / df2.values * 100\n",
    "print(len(Quater))\n",
    "Quater.astype(float)\n",
    "Quater.loc[len(Quater)] = new_row"
   ]
  },
  {
   "cell_type": "code",
   "execution_count": 33,
   "metadata": {},
   "outputs": [],
   "source": [
    "for i in cinema.columns.tolist():\n",
    "    cinema[i]"
   ]
  },
  {
   "cell_type": "code",
   "execution_count": 21,
   "metadata": {},
   "outputs": [
    {
     "data": {
      "text/plain": [
       "<BarContainer object of 8 artists>"
      ]
     },
     "execution_count": 21,
     "metadata": {},
     "output_type": "execute_result"
    },
    {
     "data": {
      "image/png": "[encoded data removed]",
      "text/plain": [
       "<Figure size 1000x500 with 1 Axes>"
      ]
     },
     "metadata": {},
     "output_type": "display_data"
    }
   ],
   "source": [
    "import matplotlib.pyplot as plt\n",
    "\n",
    "plt.figure(figsize= (10,5))\n",
    "plt.ylabel(\"억 (위안)\")\n",
    "plt.xlabel(\"분기\")\n",
    "plt.bar(cinema.columns.tolist()[::-1],cinema.loc[\"China Box Office\"][::-1], label = \"China Box Office\")\n",
    "plt.bar(cinema.columns.tolist()[::-1],cinema.loc[\"China CGV REVENUE\"][::-1], label =\"China CGV REVENUE\")"
   ]
  },
  {
   "cell_type": "code",
   "execution_count": 20,
   "metadata": {},
   "outputs": [
    {
     "data": {
      "text/plain": [
       "<BarContainer object of 8 artists>"
      ]
     },
     "execution_count": 20,
     "metadata": {},
     "output_type": "execute_result"
    },
    {
     "data": {
      "image/png": "[encoded data removed]",
      "text/plain": [
       "<Figure size 1000x500 with 1 Axes>"
      ]
     },
     "metadata": {},
     "output_type": "display_data"
    }
   ],
   "source": [
    "plt.figure(figsize= (10,5))\n",
    "plt.bar(cinema.columns.tolist()[::-1],cinema.loc[\"China CGV REVENUE\"][::-1], label =\"China CGV REVENUE\")"
   ]
  }
 ],
 "metadata": {
  "kernelspec": {
   "display_name": "Python 3",
   "language": "python",
   "name": "python3"
  },
  "language_info": {
   "codemirror_mode": {
    "name": "ipython",
    "version": 3
   },
   "file_extension": ".py",
   "mimetype": "text/x-python",
   "name": "python",
   "nbconvert_exporter": "python",
   "pygments_lexer": "ipython3",
   "version": "3.11.1"
  },
  "orig_nbformat": 4,
  "vscode": {
   "interpreter": {
    "hash": "7721fe99840d5deeed9e1922b3af716f8257560c3467418d9a8ef429ebdbd3ba"
   }
  }
 },
 "nbformat": 4,
 "nbformat_minor": 2
}
