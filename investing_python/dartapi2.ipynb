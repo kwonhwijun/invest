{
 "cells": [
  {
   "cell_type": "code",
   "execution_count": 2,
   "metadata": {},
   "outputs": [],
   "source": [
    "import OpenDartReader\n",
    "api_key = 'e6ef535160372ff7b3a880036c22ab8b4fce4fdd'"
   ]
  },
  {
   "cell_type": "code",
   "execution_count": 3,
   "metadata": {},
   "outputs": [],
   "source": [
    "dart = OpenDartReader(api_key) "
   ]
  },
  {
   "cell_type": "code",
   "execution_count": 30,
   "metadata": {},
   "outputs": [
    {
     "data": {
      "text/html": [
       "<div>\n",
       "<style scoped>\n",
       "    .dataframe tbody tr th:only-of-type {\n",
       "        vertical-align: middle;\n",
       "    }\n",
       "\n",
       "    .dataframe tbody tr th {\n",
       "        vertical-align: top;\n",
       "    }\n",
       "\n",
       "    .dataframe thead th {\n",
       "        text-align: right;\n",
       "    }\n",
       "</style>\n",
       "<table border=\"1\" class=\"dataframe\">\n",
       "  <thead>\n",
       "    <tr style=\"text-align: right;\">\n",
       "      <th></th>\n",
       "      <th>rcept_no</th>\n",
       "      <th>corp_cls</th>\n",
       "      <th>corp_code</th>\n",
       "      <th>corp_name</th>\n",
       "      <th>se</th>\n",
       "      <th>thstrm</th>\n",
       "      <th>frmtrm</th>\n",
       "      <th>lwfr</th>\n",
       "      <th>stock_knd</th>\n",
       "    </tr>\n",
       "  </thead>\n",
       "  <tbody>\n",
       "    <tr>\n",
       "      <th>0</th>\n",
       "      <td>20190401004781</td>\n",
       "      <td>Y</td>\n",
       "      <td>00126380</td>\n",
       "      <td>삼성전자</td>\n",
       "      <td>주당액면가액(원)</td>\n",
       "      <td>100</td>\n",
       "      <td>5,000</td>\n",
       "      <td>5,000</td>\n",
       "      <td>NaN</td>\n",
       "    </tr>\n",
       "    <tr>\n",
       "      <th>1</th>\n",
       "      <td>20190401004781</td>\n",
       "      <td>Y</td>\n",
       "      <td>00126380</td>\n",
       "      <td>삼성전자</td>\n",
       "      <td>(연결)당기순이익(백만원)</td>\n",
       "      <td>43,890,877</td>\n",
       "      <td>41,344,569</td>\n",
       "      <td>22,415,655</td>\n",
       "      <td>NaN</td>\n",
       "    </tr>\n",
       "    <tr>\n",
       "      <th>2</th>\n",
       "      <td>20190401004781</td>\n",
       "      <td>Y</td>\n",
       "      <td>00126380</td>\n",
       "      <td>삼성전자</td>\n",
       "      <td>(별도)당기순이익(백만원)</td>\n",
       "      <td>32,815,127</td>\n",
       "      <td>28,800,837</td>\n",
       "      <td>11,579,749</td>\n",
       "      <td>NaN</td>\n",
       "    </tr>\n",
       "    <tr>\n",
       "      <th>3</th>\n",
       "      <td>20190401004781</td>\n",
       "      <td>Y</td>\n",
       "      <td>00126380</td>\n",
       "      <td>삼성전자</td>\n",
       "      <td>(연결)주당순이익(원)</td>\n",
       "      <td>6,461</td>\n",
       "      <td>299,868</td>\n",
       "      <td>157,967</td>\n",
       "      <td>NaN</td>\n",
       "    </tr>\n",
       "    <tr>\n",
       "      <th>4</th>\n",
       "      <td>20190401004781</td>\n",
       "      <td>Y</td>\n",
       "      <td>00126380</td>\n",
       "      <td>삼성전자</td>\n",
       "      <td>현금배당금총액(백만원)</td>\n",
       "      <td>9,619,243</td>\n",
       "      <td>5,826,302</td>\n",
       "      <td>3,991,892</td>\n",
       "      <td>NaN</td>\n",
       "    </tr>\n",
       "    <tr>\n",
       "      <th>5</th>\n",
       "      <td>20190401004781</td>\n",
       "      <td>Y</td>\n",
       "      <td>00126380</td>\n",
       "      <td>삼성전자</td>\n",
       "      <td>주식배당금총액(백만원)</td>\n",
       "      <td>-</td>\n",
       "      <td>-</td>\n",
       "      <td>-</td>\n",
       "      <td>NaN</td>\n",
       "    </tr>\n",
       "    <tr>\n",
       "      <th>6</th>\n",
       "      <td>20190401004781</td>\n",
       "      <td>Y</td>\n",
       "      <td>00126380</td>\n",
       "      <td>삼성전자</td>\n",
       "      <td>(연결)현금배당성향(%)</td>\n",
       "      <td>21.90</td>\n",
       "      <td>14.10</td>\n",
       "      <td>17.80</td>\n",
       "      <td>NaN</td>\n",
       "    </tr>\n",
       "    <tr>\n",
       "      <th>7</th>\n",
       "      <td>20190401004781</td>\n",
       "      <td>Y</td>\n",
       "      <td>00126380</td>\n",
       "      <td>삼성전자</td>\n",
       "      <td>현금배당수익률(%)</td>\n",
       "      <td>3.70</td>\n",
       "      <td>1.70</td>\n",
       "      <td>1.60</td>\n",
       "      <td>보통주</td>\n",
       "    </tr>\n",
       "    <tr>\n",
       "      <th>8</th>\n",
       "      <td>20190401004781</td>\n",
       "      <td>Y</td>\n",
       "      <td>00126380</td>\n",
       "      <td>삼성전자</td>\n",
       "      <td>현금배당수익률(%)</td>\n",
       "      <td>4.50</td>\n",
       "      <td>2.10</td>\n",
       "      <td>2.00</td>\n",
       "      <td>우선주</td>\n",
       "    </tr>\n",
       "    <tr>\n",
       "      <th>9</th>\n",
       "      <td>20190401004781</td>\n",
       "      <td>Y</td>\n",
       "      <td>00126380</td>\n",
       "      <td>삼성전자</td>\n",
       "      <td>주식배당수익률(%)</td>\n",
       "      <td>-</td>\n",
       "      <td>-</td>\n",
       "      <td>-</td>\n",
       "      <td>보통주</td>\n",
       "    </tr>\n",
       "    <tr>\n",
       "      <th>10</th>\n",
       "      <td>20190401004781</td>\n",
       "      <td>Y</td>\n",
       "      <td>00126380</td>\n",
       "      <td>삼성전자</td>\n",
       "      <td>주식배당수익률(%)</td>\n",
       "      <td>-</td>\n",
       "      <td>-</td>\n",
       "      <td>-</td>\n",
       "      <td>우선주</td>\n",
       "    </tr>\n",
       "    <tr>\n",
       "      <th>11</th>\n",
       "      <td>20190401004781</td>\n",
       "      <td>Y</td>\n",
       "      <td>00126380</td>\n",
       "      <td>삼성전자</td>\n",
       "      <td>주당 현금배당금(원)</td>\n",
       "      <td>1,416</td>\n",
       "      <td>42,500</td>\n",
       "      <td>28,500</td>\n",
       "      <td>보통주</td>\n",
       "    </tr>\n",
       "    <tr>\n",
       "      <th>12</th>\n",
       "      <td>20190401004781</td>\n",
       "      <td>Y</td>\n",
       "      <td>00126380</td>\n",
       "      <td>삼성전자</td>\n",
       "      <td>주당 현금배당금(원)</td>\n",
       "      <td>1,417</td>\n",
       "      <td>42,550</td>\n",
       "      <td>28,550</td>\n",
       "      <td>우선주</td>\n",
       "    </tr>\n",
       "    <tr>\n",
       "      <th>13</th>\n",
       "      <td>20190401004781</td>\n",
       "      <td>Y</td>\n",
       "      <td>00126380</td>\n",
       "      <td>삼성전자</td>\n",
       "      <td>주당 주식배당(주)</td>\n",
       "      <td>-</td>\n",
       "      <td>-</td>\n",
       "      <td>-</td>\n",
       "      <td>보통주</td>\n",
       "    </tr>\n",
       "    <tr>\n",
       "      <th>14</th>\n",
       "      <td>20190401004781</td>\n",
       "      <td>Y</td>\n",
       "      <td>00126380</td>\n",
       "      <td>삼성전자</td>\n",
       "      <td>주당 주식배당(주)</td>\n",
       "      <td>-</td>\n",
       "      <td>-</td>\n",
       "      <td>-</td>\n",
       "      <td>우선주</td>\n",
       "    </tr>\n",
       "  </tbody>\n",
       "</table>\n",
       "</div>"
      ],
      "text/plain": [
       "          rcept_no corp_cls corp_code corp_name              se      thstrm  \\\n",
       "0   20190401004781        Y  00126380      삼성전자       주당액면가액(원)         100   \n",
       "1   20190401004781        Y  00126380      삼성전자  (연결)당기순이익(백만원)  43,890,877   \n",
       "2   20190401004781        Y  00126380      삼성전자  (별도)당기순이익(백만원)  32,815,127   \n",
       "3   20190401004781        Y  00126380      삼성전자    (연결)주당순이익(원)       6,461   \n",
       "4   20190401004781        Y  00126380      삼성전자    현금배당금총액(백만원)   9,619,243   \n",
       "5   20190401004781        Y  00126380      삼성전자    주식배당금총액(백만원)           -   \n",
       "6   20190401004781        Y  00126380      삼성전자   (연결)현금배당성향(%)       21.90   \n",
       "7   20190401004781        Y  00126380      삼성전자      현금배당수익률(%)        3.70   \n",
       "8   20190401004781        Y  00126380      삼성전자      현금배당수익률(%)        4.50   \n",
       "9   20190401004781        Y  00126380      삼성전자      주식배당수익률(%)           -   \n",
       "10  20190401004781        Y  00126380      삼성전자      주식배당수익률(%)           -   \n",
       "11  20190401004781        Y  00126380      삼성전자     주당 현금배당금(원)       1,416   \n",
       "12  20190401004781        Y  00126380      삼성전자     주당 현금배당금(원)       1,417   \n",
       "13  20190401004781        Y  00126380      삼성전자      주당 주식배당(주)           -   \n",
       "14  20190401004781        Y  00126380      삼성전자      주당 주식배당(주)           -   \n",
       "\n",
       "        frmtrm        lwfr stock_knd  \n",
       "0        5,000       5,000       NaN  \n",
       "1   41,344,569  22,415,655       NaN  \n",
       "2   28,800,837  11,579,749       NaN  \n",
       "3      299,868     157,967       NaN  \n",
       "4    5,826,302   3,991,892       NaN  \n",
       "5            -           -       NaN  \n",
       "6        14.10       17.80       NaN  \n",
       "7         1.70        1.60       보통주  \n",
       "8         2.10        2.00       우선주  \n",
       "9            -           -       보통주  \n",
       "10           -           -       우선주  \n",
       "11      42,500      28,500       보통주  \n",
       "12      42,550      28,550       우선주  \n",
       "13           -           -       보통주  \n",
       "14           -           -       우선주  "
      ]
     },
     "execution_count": 30,
     "metadata": {},
     "output_type": "execute_result"
    }
   ],
   "source": [
    "dart.report('005930', '배당', 2018)\n"
   ]
  },
  {
   "cell_type": "code",
   "execution_count": 43,
   "metadata": {},
   "outputs": [
    {
     "data": {
      "text/plain": [
       "[3, 4, 5, 6, 7, 8, 9]"
      ]
     },
     "execution_count": 43,
     "metadata": {},
     "output_type": "execute_result"
    }
   ],
   "source": [
    "list(range(3, 10))"
   ]
  },
  {
   "cell_type": "code",
   "execution_count": 54,
   "metadata": {},
   "outputs": [
    {
     "name": "stdout",
     "output_type": "stream",
     "text": [
      "['174,697,424,000,000'] <class 'numpy.ndarray'>\n",
      "['156,976,839,000,000'] <class 'numpy.ndarray'>\n",
      "['154,941,953,000,000'] <class 'numpy.ndarray'>\n",
      "['176,282,049,000,000'] <class 'numpy.ndarray'>\n",
      "['181,385,260,000,000'] <class 'numpy.ndarray'>\n",
      "['173,433,478,000,000'] <class 'numpy.ndarray'>\n",
      "['177,388,524,000,000'] <class 'numpy.ndarray'>\n",
      "['186,042,134,000,000'] <class 'numpy.ndarray'>\n",
      "['198,215,579,000,000'] <class 'numpy.ndarray'>\n",
      "['186,136,845,000,000'] <class 'numpy.ndarray'>\n",
      "['186,739,748,000,000'] <class 'numpy.ndarray'>\n",
      "['203,634,913,000,000'] <class 'numpy.ndarray'>\n"
     ]
    }
   ],
   "source": [
    "for year in range(2018, 2021) :\n",
    "    for i in range(11011,11015) :\n",
    "        df = dart.finstate('삼성전자', year, reprt_code=i)\n",
    "        is_연결재무제표 = df.fs_nm == \"연결재무제표\"\n",
    "        is_유동자산 = df.account_nm == \"유동자산\"\n",
    "        cur_assets = df[is_연결재무제표 & is_유동자산].thstrm_amount.values\n",
    "        print(cur_assets, type(cur_assets))"
   ]
  },
  {
   "cell_type": "code",
   "execution_count": 128,
   "metadata": {},
   "outputs": [
    {
     "name": "stderr",
     "output_type": "stream",
     "text": [
      "C:\\Users\\HwijunKwon\\AppData\\Local\\Temp\\ipykernel_25072\\3398956009.py:13: FutureWarning: The frame.append method is deprecated and will be removed from pandas in a future version. Use pandas.concat instead.\n",
      "  데이터 = 데이터.append(pd.DataFrame([[year, i%10, result/4]], columns=['year', 'quater', 'number']), ignore_index = True)\n",
      "C:\\Users\\HwijunKwon\\AppData\\Local\\Temp\\ipykernel_25072\\3398956009.py:15: FutureWarning: The frame.append method is deprecated and will be removed from pandas in a future version. Use pandas.concat instead.\n",
      "  else : 데이터 = 데이터.append(pd.DataFrame([[year, i%10, result]], columns=['year', 'quater', 'number']), ignore_index = True)\n",
      "C:\\Users\\HwijunKwon\\AppData\\Local\\Temp\\ipykernel_25072\\3398956009.py:15: FutureWarning: The frame.append method is deprecated and will be removed from pandas in a future version. Use pandas.concat instead.\n",
      "  else : 데이터 = 데이터.append(pd.DataFrame([[year, i%10, result]], columns=['year', 'quater', 'number']), ignore_index = True)\n",
      "C:\\Users\\HwijunKwon\\AppData\\Local\\Temp\\ipykernel_25072\\3398956009.py:15: FutureWarning: The frame.append method is deprecated and will be removed from pandas in a future version. Use pandas.concat instead.\n",
      "  else : 데이터 = 데이터.append(pd.DataFrame([[year, i%10, result]], columns=['year', 'quater', 'number']), ignore_index = True)\n",
      "C:\\Users\\HwijunKwon\\AppData\\Local\\Temp\\ipykernel_25072\\3398956009.py:13: FutureWarning: The frame.append method is deprecated and will be removed from pandas in a future version. Use pandas.concat instead.\n",
      "  데이터 = 데이터.append(pd.DataFrame([[year, i%10, result/4]], columns=['year', 'quater', 'number']), ignore_index = True)\n",
      "C:\\Users\\HwijunKwon\\AppData\\Local\\Temp\\ipykernel_25072\\3398956009.py:15: FutureWarning: The frame.append method is deprecated and will be removed from pandas in a future version. Use pandas.concat instead.\n",
      "  else : 데이터 = 데이터.append(pd.DataFrame([[year, i%10, result]], columns=['year', 'quater', 'number']), ignore_index = True)\n",
      "C:\\Users\\HwijunKwon\\AppData\\Local\\Temp\\ipykernel_25072\\3398956009.py:15: FutureWarning: The frame.append method is deprecated and will be removed from pandas in a future version. Use pandas.concat instead.\n",
      "  else : 데이터 = 데이터.append(pd.DataFrame([[year, i%10, result]], columns=['year', 'quater', 'number']), ignore_index = True)\n",
      "C:\\Users\\HwijunKwon\\AppData\\Local\\Temp\\ipykernel_25072\\3398956009.py:15: FutureWarning: The frame.append method is deprecated and will be removed from pandas in a future version. Use pandas.concat instead.\n",
      "  else : 데이터 = 데이터.append(pd.DataFrame([[year, i%10, result]], columns=['year', 'quater', 'number']), ignore_index = True)\n",
      "C:\\Users\\HwijunKwon\\AppData\\Local\\Temp\\ipykernel_25072\\3398956009.py:13: FutureWarning: The frame.append method is deprecated and will be removed from pandas in a future version. Use pandas.concat instead.\n",
      "  데이터 = 데이터.append(pd.DataFrame([[year, i%10, result/4]], columns=['year', 'quater', 'number']), ignore_index = True)\n",
      "C:\\Users\\HwijunKwon\\AppData\\Local\\Temp\\ipykernel_25072\\3398956009.py:15: FutureWarning: The frame.append method is deprecated and will be removed from pandas in a future version. Use pandas.concat instead.\n",
      "  else : 데이터 = 데이터.append(pd.DataFrame([[year, i%10, result]], columns=['year', 'quater', 'number']), ignore_index = True)\n",
      "C:\\Users\\HwijunKwon\\AppData\\Local\\Temp\\ipykernel_25072\\3398956009.py:15: FutureWarning: The frame.append method is deprecated and will be removed from pandas in a future version. Use pandas.concat instead.\n",
      "  else : 데이터 = 데이터.append(pd.DataFrame([[year, i%10, result]], columns=['year', 'quater', 'number']), ignore_index = True)\n",
      "C:\\Users\\HwijunKwon\\AppData\\Local\\Temp\\ipykernel_25072\\3398956009.py:15: FutureWarning: The frame.append method is deprecated and will be removed from pandas in a future version. Use pandas.concat instead.\n",
      "  else : 데이터 = 데이터.append(pd.DataFrame([[year, i%10, result]], columns=['year', 'quater', 'number']), ignore_index = True)\n",
      "C:\\Users\\HwijunKwon\\AppData\\Local\\Temp\\ipykernel_25072\\3398956009.py:13: FutureWarning: The frame.append method is deprecated and will be removed from pandas in a future version. Use pandas.concat instead.\n",
      "  데이터 = 데이터.append(pd.DataFrame([[year, i%10, result/4]], columns=['year', 'quater', 'number']), ignore_index = True)\n",
      "C:\\Users\\HwijunKwon\\AppData\\Local\\Temp\\ipykernel_25072\\3398956009.py:15: FutureWarning: The frame.append method is deprecated and will be removed from pandas in a future version. Use pandas.concat instead.\n",
      "  else : 데이터 = 데이터.append(pd.DataFrame([[year, i%10, result]], columns=['year', 'quater', 'number']), ignore_index = True)\n",
      "C:\\Users\\HwijunKwon\\AppData\\Local\\Temp\\ipykernel_25072\\3398956009.py:15: FutureWarning: The frame.append method is deprecated and will be removed from pandas in a future version. Use pandas.concat instead.\n",
      "  else : 데이터 = 데이터.append(pd.DataFrame([[year, i%10, result]], columns=['year', 'quater', 'number']), ignore_index = True)\n",
      "C:\\Users\\HwijunKwon\\AppData\\Local\\Temp\\ipykernel_25072\\3398956009.py:15: FutureWarning: The frame.append method is deprecated and will be removed from pandas in a future version. Use pandas.concat instead.\n",
      "  else : 데이터 = 데이터.append(pd.DataFrame([[year, i%10, result]], columns=['year', 'quater', 'number']), ignore_index = True)\n",
      "C:\\Users\\HwijunKwon\\AppData\\Local\\Temp\\ipykernel_25072\\3398956009.py:13: FutureWarning: The frame.append method is deprecated and will be removed from pandas in a future version. Use pandas.concat instead.\n",
      "  데이터 = 데이터.append(pd.DataFrame([[year, i%10, result/4]], columns=['year', 'quater', 'number']), ignore_index = True)\n",
      "C:\\Users\\HwijunKwon\\AppData\\Local\\Temp\\ipykernel_25072\\3398956009.py:15: FutureWarning: The frame.append method is deprecated and will be removed from pandas in a future version. Use pandas.concat instead.\n",
      "  else : 데이터 = 데이터.append(pd.DataFrame([[year, i%10, result]], columns=['year', 'quater', 'number']), ignore_index = True)\n"
     ]
    },
    {
     "name": "stdout",
     "output_type": "stream",
     "text": [
      "    year quater        number\n",
      "0   2018      1  1.396726e+12\n",
      "1   2018      2  1.363616e+12\n",
      "2   2018      3  1.309060e+12\n",
      "3   2018      4  1.397714e+12\n",
      "4   2019      1  1.648350e+12\n",
      "5   2019      2  1.630275e+12\n",
      "6   2019      3  1.510862e+12\n",
      "7   2019      4  1.664815e+12\n",
      "8   2020      1  1.326036e+12\n",
      "9   2020      2  1.902468e+12\n",
      "10  2020      3  1.732064e+12\n",
      "11  2020      4  1.360779e+12\n",
      "12  2021      1  1.704400e+12\n",
      "13  2021      2  1.663549e+12\n",
      "14  2021      3  1.499070e+12\n",
      "15  2021      4  1.727255e+12\n",
      "16  2022      1  2.055020e+12\n",
      "17  2022      2  2.045781e+12\n",
      "18  2022      3  1.845222e+12\n",
      "19  2022      4  2.057332e+12\n"
     ]
    },
    {
     "name": "stderr",
     "output_type": "stream",
     "text": [
      "C:\\Users\\HwijunKwon\\AppData\\Local\\Temp\\ipykernel_25072\\3398956009.py:15: FutureWarning: The frame.append method is deprecated and will be removed from pandas in a future version. Use pandas.concat instead.\n",
      "  else : 데이터 = 데이터.append(pd.DataFrame([[year, i%10, result]], columns=['year', 'quater', 'number']), ignore_index = True)\n",
      "C:\\Users\\HwijunKwon\\AppData\\Local\\Temp\\ipykernel_25072\\3398956009.py:15: FutureWarning: The frame.append method is deprecated and will be removed from pandas in a future version. Use pandas.concat instead.\n",
      "  else : 데이터 = 데이터.append(pd.DataFrame([[year, i%10, result]], columns=['year', 'quater', 'number']), ignore_index = True)\n"
     ]
    }
   ],
   "source": [
    "import pandas as pd\n",
    "\n",
    "데이터 = pd.DataFrame(columns=['year', 'quater', 'number'])\n",
    "\n",
    "for year in range(2018, 2023) :\n",
    "    for i in range(11011,11015) :\n",
    "        df = dart.finstate('NAVER', year, reprt_code=i)\n",
    "        is_연결재무제표 = df.fs_nm == \"연결재무제표\"\n",
    "        is_유동자산 = df.account_nm == \"매출액\"\n",
    "        cur_assets = df[is_연결재무제표 & is_유동자산].thstrm_amount.values.tolist()[0].replace(\",\", \"\")\n",
    "        result = int(cur_assets)\n",
    "        if i == 11011 :\n",
    "            데이터 = 데이터.append(pd.DataFrame([[year, i%10, result/4]], columns=['year', 'quater', 'number']), ignore_index = True)\n",
    "        \n",
    "        else : 데이터 = 데이터.append(pd.DataFrame([[year, i%10, result]], columns=['year', 'quater', 'number']), ignore_index = True)\n",
    "print(데이터)\n"
   ]
  },
  {
   "cell_type": "code",
   "execution_count": 129,
   "metadata": {},
   "outputs": [
    {
     "name": "stdout",
     "output_type": "stream",
     "text": [
      "    year quater        number  day month\n",
      "0   2018      1  1.396726e+12    1     3\n",
      "1   2018      2  1.363616e+12    1     6\n",
      "2   2018      3  1.309060e+12    1     9\n",
      "3   2018      4  1.397714e+12    1    12\n",
      "4   2019      1  1.648350e+12    1     3\n",
      "5   2019      2  1.630275e+12    1     6\n",
      "6   2019      3  1.510862e+12    1     9\n",
      "7   2019      4  1.664815e+12    1    12\n",
      "8   2020      1  1.326036e+12    1     3\n",
      "9   2020      2  1.902468e+12    1     6\n",
      "10  2020      3  1.732064e+12    1     9\n",
      "11  2020      4  1.360779e+12    1    12\n",
      "12  2021      1  1.704400e+12    1     3\n",
      "13  2021      2  1.663549e+12    1     6\n",
      "14  2021      3  1.499070e+12    1     9\n",
      "15  2021      4  1.727255e+12    1    12\n",
      "16  2022      1  2.055020e+12    1     3\n",
      "17  2022      2  2.045781e+12    1     6\n",
      "18  2022      3  1.845222e+12    1     9\n",
      "19  2022      4  2.057332e+12    1    12\n"
     ]
    }
   ],
   "source": [
    "데이터['day'] =1\n",
    "데이터['month'] = 데이터['quater'] *3\n",
    "print(데이터)\n"
   ]
  },
  {
   "cell_type": "code",
   "execution_count": 132,
   "metadata": {},
   "outputs": [],
   "source": [
    "데이터['date'] = pd.to_datetime(데이터[['year', 'month', 'day']])\n",
    "\n",
    "    "
   ]
  },
  {
   "cell_type": "code",
   "execution_count": 133,
   "metadata": {},
   "outputs": [
    {
     "data": {
      "text/plain": [
       "<AxesSubplot: xlabel='date'>"
      ]
     },
     "execution_count": 133,
     "metadata": {},
     "output_type": "execute_result"
    },
    {
     "data": {
      "image/png": "[encoded data removed]",
      "text/plain": [
       "<Figure size 640x480 with 1 Axes>"
      ]
     },
     "metadata": {},
     "output_type": "display_data"
    }
   ],
   "source": [
    "데이터.plot(x = 'date', y = 'number')"
   ]
  },
  {
   "cell_type": "code",
   "execution_count": 90,
   "metadata": {},
   "outputs": [
    {
     "data": {
      "text/plain": [
       "'1309059864248'"
      ]
     },
     "execution_count": 90,
     "metadata": {},
     "output_type": "execute_result"
    }
   ],
   "source": [
    "'1,309,059,864,248'.replace(\",\", \"\")"
   ]
  },
  {
   "cell_type": "code",
   "execution_count": 73,
   "metadata": {},
   "outputs": [],
   "source": [
    "from datetime import datetime\n"
   ]
  },
  {
   "cell_type": "code",
   "execution_count": 69,
   "metadata": {},
   "outputs": [
    {
     "name": "stdout",
     "output_type": "stream",
     "text": [
      "[array(['5,586,904,533,355'], dtype=object), array(['1,363,615,953,332'], dtype=object), array(['1,309,059,864,248'], dtype=object), array(['1,397,713,834,674'], dtype=object), array(['6,593,400,065,244'], dtype=object), array(['1,630,275,004,395'], dtype=object), array(['1,510,861,770,282'], dtype=object), array(['1,664,815,000,078'], dtype=object), array(['5,304,145,900,386'], dtype=object), array(['1,902,467,957,491'], dtype=object), array(['1,732,064,462,097'], dtype=object), array(['1,360,779,374,259'], dtype=object), array(['6,817,599,707,250'], dtype=object), array(['1,663,549,112,320'], dtype=object), array(['1,499,070,070,645'], dtype=object), array(['1,727,255,234,995'], dtype=object), array(['8,220,078,708,810'], dtype=object), array(['2,045,781,381,874'], dtype=object), array(['1,845,221,980,257'], dtype=object), array(['2,057,332,225,258'], dtype=object)]\n"
     ]
    }
   ],
   "source": [
    "print(매출액)"
   ]
  },
  {
   "cell_type": "code",
   "execution_count": 6,
   "metadata": {},
   "outputs": [
    {
     "data": {
      "text/plain": [
       "{'status': '000',\n",
       " 'message': '정상',\n",
       " 'corp_code': '00126380',\n",
       " 'corp_name': '삼성전자(주)',\n",
       " 'corp_name_eng': 'SAMSUNG ELECTRONICS CO,.LTD',\n",
       " 'stock_name': '삼성전자',\n",
       " 'stock_code': '005930',\n",
       " 'ceo_nm': '한종희, 경계현',\n",
       " 'corp_cls': 'Y',\n",
       " 'jurir_no': '1301110006246',\n",
       " 'bizr_no': '1248100998',\n",
       " 'adres': '경기도 수원시 영통구  삼성로 129 (매탄동)',\n",
       " 'hm_url': 'www.samsung.com/sec',\n",
       " 'ir_url': '',\n",
       " 'phn_no': '02-2255-0114',\n",
       " 'fax_no': '031-200-7538',\n",
       " 'induty_code': '264',\n",
       " 'est_dt': '19690113',\n",
       " 'acc_mt': '12'}"
      ]
     },
     "execution_count": 6,
     "metadata": {},
     "output_type": "execute_result"
    }
   ],
   "source": [
    "dart.company('005930')"
   ]
  },
  {
   "cell_type": "code",
   "execution_count": 9,
   "metadata": {},
   "outputs": [
    {
     "ename": "AttributeError",
     "evalue": "'DataFrame' object has no attribute 'acount_nm'",
     "output_type": "error",
     "traceback": [
      "\u001b[1;31m---------------------------------------------------------------------------\u001b[0m",
      "\u001b[1;31mAttributeError\u001b[0m                            Traceback (most recent call last)",
      "Cell \u001b[1;32mIn[9], line 1\u001b[0m\n\u001b[1;32m----> 1\u001b[0m dart\u001b[39m.\u001b[39;49mfinstate(\u001b[39m'\u001b[39;49m\u001b[39m005930, 000660, 005380\u001b[39;49m\u001b[39m'\u001b[39;49m, \u001b[39m2021\u001b[39;49m)\u001b[39m.\u001b[39;49macount_nm \u001b[39m==\u001b[39m \u001b[39m\"\u001b[39m\u001b[39m자산총계\u001b[39m\u001b[39m\"\u001b[39m\n",
      "File \u001b[1;32mc:\\Users\\HwijunKwon\\AppData\\Local\\Programs\\Python\\Python311\\Lib\\site-packages\\pandas\\core\\generic.py:5902\u001b[0m, in \u001b[0;36mNDFrame.__getattr__\u001b[1;34m(self, name)\u001b[0m\n\u001b[0;32m   5895\u001b[0m \u001b[39mif\u001b[39;00m (\n\u001b[0;32m   5896\u001b[0m     name \u001b[39mnot\u001b[39;00m \u001b[39min\u001b[39;00m \u001b[39mself\u001b[39m\u001b[39m.\u001b[39m_internal_names_set\n\u001b[0;32m   5897\u001b[0m     \u001b[39mand\u001b[39;00m name \u001b[39mnot\u001b[39;00m \u001b[39min\u001b[39;00m \u001b[39mself\u001b[39m\u001b[39m.\u001b[39m_metadata\n\u001b[0;32m   5898\u001b[0m     \u001b[39mand\u001b[39;00m name \u001b[39mnot\u001b[39;00m \u001b[39min\u001b[39;00m \u001b[39mself\u001b[39m\u001b[39m.\u001b[39m_accessors\n\u001b[0;32m   5899\u001b[0m     \u001b[39mand\u001b[39;00m \u001b[39mself\u001b[39m\u001b[39m.\u001b[39m_info_axis\u001b[39m.\u001b[39m_can_hold_identifiers_and_holds_name(name)\n\u001b[0;32m   5900\u001b[0m ):\n\u001b[0;32m   5901\u001b[0m     \u001b[39mreturn\u001b[39;00m \u001b[39mself\u001b[39m[name]\n\u001b[1;32m-> 5902\u001b[0m \u001b[39mreturn\u001b[39;00m \u001b[39mobject\u001b[39;49m\u001b[39m.\u001b[39;49m\u001b[39m__getattribute__\u001b[39;49m(\u001b[39mself\u001b[39;49m, name)\n",
      "\u001b[1;31mAttributeError\u001b[0m: 'DataFrame' object has no attribute 'acount_nm'"
     ]
    }
   ],
   "source": [
    "d"
   ]
  },
  {
   "cell_type": "code",
   "execution_count": 21,
   "metadata": {},
   "outputs": [
    {
     "name": "stdout",
     "output_type": "stream",
     "text": [
      "b'<?xml version=\"1.0\" encoding=\"UTF-8\"?>\\n<soapenv:Envelope xmlns:soapenv=\"http://schemas.xmlsoap.org/soap/envelope/\">\\n    <soapenv:Body>\\n        <soapenv:Fault>\\n            <faultcode>soapenv:Server</faultcode>\\n            <faultstring>Policy Falsified</faultstring>\\n            <faultactor>http://apis.data.go.kr/1160100/service/GetStockSecuritiesInfoService?serviceKey=ebl8Ut%2FJ2dsO84047u5ZUjBH53zpBM3YTtMLdGH0FkE6Ukn1z8Hy9WN45TvTQ%2BbdBRQctFDMT7GBZHqttCA8yg%3D%3D</faultactor>\\n            <detail>\\n                <l7:policyResult\\n                    status=\"Service Not Found.  The request may have been sent to an invalid URL, or intended for an unsupported operation.\" xmlns:l7=\"http://www.layer7tech.com/ws/policy/fault\"/>\\n            </detail>\\n        </soapenv:Fault>\\n    </soapenv:Body>\\n</soapenv:Envelope>\\n'\n"
     ]
    }
   ],
   "source": [
    "import requests\n",
    "import pprint\n",
    "import json\n",
    "\n"
   ]
  },
  {
   "cell_type": "code",
   "execution_count": 28,
   "metadata": {},
   "outputs": [],
   "source": [
    "res = requests.get('https://apis.data.go.kr/1160100/service/GetStockSecuritiesInfoService/getStockPriceInfo?serviceKey=ebl8Ut%2FJ2dsO84047u5ZUjBH53zpBM3YTtMLdGH0FkE6Ukn1z8Hy9WN45TvTQ%2BbdBRQctFDMT7GBZHqttCA8yg%3D%3D')"
   ]
  },
  {
   "cell_type": "code",
   "execution_count": 29,
   "metadata": {},
   "outputs": [
    {
     "ename": "JSONDecodeError",
     "evalue": "Expecting value: line 1 column 1 (char 0)",
     "output_type": "error",
     "traceback": [
      "\u001b[1;31m---------------------------------------------------------------------------\u001b[0m",
      "\u001b[1;31mJSONDecodeError\u001b[0m                           Traceback (most recent call last)",
      "Cell \u001b[1;32mIn[29], line 1\u001b[0m\n\u001b[1;32m----> 1\u001b[0m contents \u001b[39m=\u001b[39m json\u001b[39m.\u001b[39;49mloads(res\u001b[39m.\u001b[39;49mtext)\n",
      "File \u001b[1;32mc:\\Users\\HwijunKwon\\AppData\\Local\\Programs\\Python\\Python311\\Lib\\json\\__init__.py:346\u001b[0m, in \u001b[0;36mloads\u001b[1;34m(s, cls, object_hook, parse_float, parse_int, parse_constant, object_pairs_hook, **kw)\u001b[0m\n\u001b[0;32m    341\u001b[0m     s \u001b[39m=\u001b[39m s\u001b[39m.\u001b[39mdecode(detect_encoding(s), \u001b[39m'\u001b[39m\u001b[39msurrogatepass\u001b[39m\u001b[39m'\u001b[39m)\n\u001b[0;32m    343\u001b[0m \u001b[39mif\u001b[39;00m (\u001b[39mcls\u001b[39m \u001b[39mis\u001b[39;00m \u001b[39mNone\u001b[39;00m \u001b[39mand\u001b[39;00m object_hook \u001b[39mis\u001b[39;00m \u001b[39mNone\u001b[39;00m \u001b[39mand\u001b[39;00m\n\u001b[0;32m    344\u001b[0m         parse_int \u001b[39mis\u001b[39;00m \u001b[39mNone\u001b[39;00m \u001b[39mand\u001b[39;00m parse_float \u001b[39mis\u001b[39;00m \u001b[39mNone\u001b[39;00m \u001b[39mand\u001b[39;00m\n\u001b[0;32m    345\u001b[0m         parse_constant \u001b[39mis\u001b[39;00m \u001b[39mNone\u001b[39;00m \u001b[39mand\u001b[39;00m object_pairs_hook \u001b[39mis\u001b[39;00m \u001b[39mNone\u001b[39;00m \u001b[39mand\u001b[39;00m \u001b[39mnot\u001b[39;00m kw):\n\u001b[1;32m--> 346\u001b[0m     \u001b[39mreturn\u001b[39;00m _default_decoder\u001b[39m.\u001b[39;49mdecode(s)\n\u001b[0;32m    347\u001b[0m \u001b[39mif\u001b[39;00m \u001b[39mcls\u001b[39m \u001b[39mis\u001b[39;00m \u001b[39mNone\u001b[39;00m:\n\u001b[0;32m    348\u001b[0m     \u001b[39mcls\u001b[39m \u001b[39m=\u001b[39m JSONDecoder\n",
      "File \u001b[1;32mc:\\Users\\HwijunKwon\\AppData\\Local\\Programs\\Python\\Python311\\Lib\\json\\decoder.py:337\u001b[0m, in \u001b[0;36mJSONDecoder.decode\u001b[1;34m(self, s, _w)\u001b[0m\n\u001b[0;32m    332\u001b[0m \u001b[39mdef\u001b[39;00m \u001b[39mdecode\u001b[39m(\u001b[39mself\u001b[39m, s, _w\u001b[39m=\u001b[39mWHITESPACE\u001b[39m.\u001b[39mmatch):\n\u001b[0;32m    333\u001b[0m \u001b[39m    \u001b[39m\u001b[39m\"\"\"Return the Python representation of ``s`` (a ``str`` instance\u001b[39;00m\n\u001b[0;32m    334\u001b[0m \u001b[39m    containing a JSON document).\u001b[39;00m\n\u001b[0;32m    335\u001b[0m \n\u001b[0;32m    336\u001b[0m \u001b[39m    \"\"\"\u001b[39;00m\n\u001b[1;32m--> 337\u001b[0m     obj, end \u001b[39m=\u001b[39m \u001b[39mself\u001b[39;49m\u001b[39m.\u001b[39;49mraw_decode(s, idx\u001b[39m=\u001b[39;49m_w(s, \u001b[39m0\u001b[39;49m)\u001b[39m.\u001b[39;49mend())\n\u001b[0;32m    338\u001b[0m     end \u001b[39m=\u001b[39m _w(s, end)\u001b[39m.\u001b[39mend()\n\u001b[0;32m    339\u001b[0m     \u001b[39mif\u001b[39;00m end \u001b[39m!=\u001b[39m \u001b[39mlen\u001b[39m(s):\n",
      "File \u001b[1;32mc:\\Users\\HwijunKwon\\AppData\\Local\\Programs\\Python\\Python311\\Lib\\json\\decoder.py:355\u001b[0m, in \u001b[0;36mJSONDecoder.raw_decode\u001b[1;34m(self, s, idx)\u001b[0m\n\u001b[0;32m    353\u001b[0m     obj, end \u001b[39m=\u001b[39m \u001b[39mself\u001b[39m\u001b[39m.\u001b[39mscan_once(s, idx)\n\u001b[0;32m    354\u001b[0m \u001b[39mexcept\u001b[39;00m \u001b[39mStopIteration\u001b[39;00m \u001b[39mas\u001b[39;00m err:\n\u001b[1;32m--> 355\u001b[0m     \u001b[39mraise\u001b[39;00m JSONDecodeError(\u001b[39m\"\u001b[39m\u001b[39mExpecting value\u001b[39m\u001b[39m\"\u001b[39m, s, err\u001b[39m.\u001b[39mvalue) \u001b[39mfrom\u001b[39;00m \u001b[39mNone\u001b[39m\n\u001b[0;32m    356\u001b[0m \u001b[39mreturn\u001b[39;00m obj, end\n",
      "\u001b[1;31mJSONDecodeError\u001b[0m: Expecting value: line 1 column 1 (char 0)"
     ]
    }
   ],
   "source": [
    "contents = json.loads(res.text)\n"
   ]
  }
 ],
 "metadata": {
  "kernelspec": {
   "display_name": "Python 3",
   "language": "python",
   "name": "python3"
  },
  "language_info": {
   "codemirror_mode": {
    "name": "ipython",
    "version": 3
   },
   "file_extension": ".py",
   "mimetype": "text/x-python",
   "name": "python",
   "nbconvert_exporter": "python",
   "pygments_lexer": "ipython3",
   "version": "3.11.1"
  },
  "orig_nbformat": 4
 },
 "nbformat": 4,
 "nbformat_minor": 2
}
